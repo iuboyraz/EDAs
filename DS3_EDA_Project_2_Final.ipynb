{
 "cells": [
  {
   "cell_type": "markdown",
   "metadata": {},
   "source": [
    "# <p style=\"background-color:green;font-family:newtimeroman;font-size:200%;color:white;text-align:center;border-radius:20px 20px;\"><b>Startups Project</b></p>\n",
    "![](https://www.techproeducation.com/logo/headerlogo.svg)\n",
    "\n",
    "<b>Yeniliklerden ilk siz haberdar olmak istiyorsanız lütfen bizi takip etmeyi unutmayın </b>[YouTube](https://www.youtube.com/c/techproeducation) | [Instagram](https://www.instagram.com/techproeducation) | [Facebook](https://www.facebook.com/techproeducation) | [Telegram](https://t.me/joinchat/HH2qRvA-ulh4OWbb) | [Whatsapp](https://api.whatsapp.com/send/?phone=%2B15853042959&text&type=phone_number&app_absent=0) | [LinkedIn](https://www.linkedin.com/company/techproeducation/mycompany/) |"
   ]
  },
  {
   "cell_type": "markdown",
   "metadata": {},
   "source": [
    "# Lets Understand some of the most Interesting Patterns of Funding and Startups.\n",
    "\n",
    "**How Does the Funding Ecosystem changes with respect to Time?**\n",
    "\n",
    "**What is the General Amount that Startups get in India?**\n",
    "\n",
    "**Which Kind of Industries are more preferred for Startups?**\n",
    "\n",
    "**Does Location also play a role, In determining the Growth of a Startup?**\n",
    "\n",
    "**Who plays the main role in Indian Startups Ecosystem?**\n",
    "\n",
    "**What are the different Types of Funding for Startups?**"
   ]
  },
  {
   "cell_type": "markdown",
   "metadata": {},
   "source": [
    "# Data Reading & Cleaning"
   ]
  },
  {
   "cell_type": "code",
   "execution_count": 1,
   "metadata": {
    "ExecuteTime": {
     "end_time": "2024-05-19T07:29:21.373595Z",
     "start_time": "2024-05-19T07:29:18.808043Z"
    }
   },
   "outputs": [],
   "source": [
    "import numpy as np\n",
    "import pandas as pd\n",
    "\n",
    "import matplotlib.pyplot as plt \n",
    "\n",
    "import seaborn as sns\n",
    "\n",
    "import missingno as msno\n",
    "from skimpy import skim\n",
    "\n",
    "import warnings\n",
    "\n",
    "warnings.filterwarnings(\"ignore\")"
   ]
  },
  {
   "cell_type": "code",
   "execution_count": 2,
   "metadata": {
    "ExecuteTime": {
     "end_time": "2024-05-19T07:29:21.427146Z",
     "start_time": "2024-05-19T07:29:21.375675Z"
    }
   },
   "outputs": [
    {
     "data": {
      "text/html": [
       "<div>\n",
       "<style scoped>\n",
       "    .dataframe tbody tr th:only-of-type {\n",
       "        vertical-align: middle;\n",
       "    }\n",
       "\n",
       "    .dataframe tbody tr th {\n",
       "        vertical-align: top;\n",
       "    }\n",
       "\n",
       "    .dataframe thead th {\n",
       "        text-align: right;\n",
       "    }\n",
       "</style>\n",
       "<table border=\"1\" class=\"dataframe\">\n",
       "  <thead>\n",
       "    <tr style=\"text-align: right;\">\n",
       "      <th></th>\n",
       "      <th>Sr No</th>\n",
       "      <th>Date dd/mm/yyyy</th>\n",
       "      <th>Startup Name</th>\n",
       "      <th>Industry Vertical</th>\n",
       "      <th>SubVertical</th>\n",
       "      <th>City  Location</th>\n",
       "      <th>Investors Name</th>\n",
       "      <th>InvestmentnType</th>\n",
       "      <th>Amount in USD</th>\n",
       "      <th>Remarks</th>\n",
       "    </tr>\n",
       "  </thead>\n",
       "  <tbody>\n",
       "    <tr>\n",
       "      <th>0</th>\n",
       "      <td>1</td>\n",
       "      <td>09/01/2020</td>\n",
       "      <td>BYJU’S</td>\n",
       "      <td>E-Tech</td>\n",
       "      <td>E-learning</td>\n",
       "      <td>Bengaluru</td>\n",
       "      <td>Tiger Global Management</td>\n",
       "      <td>Private Equity Round</td>\n",
       "      <td>20,00,00,000</td>\n",
       "      <td>NaN</td>\n",
       "    </tr>\n",
       "    <tr>\n",
       "      <th>1</th>\n",
       "      <td>2</td>\n",
       "      <td>13/01/2020</td>\n",
       "      <td>Shuttl</td>\n",
       "      <td>Transportation</td>\n",
       "      <td>App based shuttle service</td>\n",
       "      <td>Gurgaon</td>\n",
       "      <td>Susquehanna Growth Equity</td>\n",
       "      <td>Series C</td>\n",
       "      <td>80,48,394</td>\n",
       "      <td>NaN</td>\n",
       "    </tr>\n",
       "    <tr>\n",
       "      <th>2</th>\n",
       "      <td>3</td>\n",
       "      <td>09/01/2020</td>\n",
       "      <td>Mamaearth</td>\n",
       "      <td>E-commerce</td>\n",
       "      <td>Retailer of baby and toddler products</td>\n",
       "      <td>Bengaluru</td>\n",
       "      <td>Sequoia Capital India</td>\n",
       "      <td>Series B</td>\n",
       "      <td>1,83,58,860</td>\n",
       "      <td>NaN</td>\n",
       "    </tr>\n",
       "    <tr>\n",
       "      <th>3</th>\n",
       "      <td>4</td>\n",
       "      <td>02/01/2020</td>\n",
       "      <td>https://www.wealthbucket.in/</td>\n",
       "      <td>FinTech</td>\n",
       "      <td>Online Investment</td>\n",
       "      <td>New Delhi</td>\n",
       "      <td>Vinod Khatumal</td>\n",
       "      <td>Pre-series A</td>\n",
       "      <td>30,00,000</td>\n",
       "      <td>NaN</td>\n",
       "    </tr>\n",
       "    <tr>\n",
       "      <th>4</th>\n",
       "      <td>5</td>\n",
       "      <td>02/01/2020</td>\n",
       "      <td>Fashor</td>\n",
       "      <td>Fashion and Apparel</td>\n",
       "      <td>Embroiled Clothes For Women</td>\n",
       "      <td>Mumbai</td>\n",
       "      <td>Sprout Venture Partners</td>\n",
       "      <td>Seed Round</td>\n",
       "      <td>18,00,000</td>\n",
       "      <td>NaN</td>\n",
       "    </tr>\n",
       "  </tbody>\n",
       "</table>\n",
       "</div>"
      ],
      "text/plain": [
       "   Sr No Date dd/mm/yyyy                  Startup Name    Industry Vertical  \\\n",
       "0      1      09/01/2020                        BYJU’S               E-Tech   \n",
       "1      2      13/01/2020                        Shuttl       Transportation   \n",
       "2      3      09/01/2020                     Mamaearth           E-commerce   \n",
       "3      4      02/01/2020  https://www.wealthbucket.in/              FinTech   \n",
       "4      5      02/01/2020                        Fashor  Fashion and Apparel   \n",
       "\n",
       "                             SubVertical City  Location  \\\n",
       "0                             E-learning      Bengaluru   \n",
       "1              App based shuttle service        Gurgaon   \n",
       "2  Retailer of baby and toddler products      Bengaluru   \n",
       "3                      Online Investment      New Delhi   \n",
       "4            Embroiled Clothes For Women         Mumbai   \n",
       "\n",
       "              Investors Name       InvestmentnType Amount in USD Remarks  \n",
       "0    Tiger Global Management  Private Equity Round  20,00,00,000     NaN  \n",
       "1  Susquehanna Growth Equity              Series C     80,48,394     NaN  \n",
       "2      Sequoia Capital India              Series B   1,83,58,860     NaN  \n",
       "3             Vinod Khatumal          Pre-series A     30,00,000     NaN  \n",
       "4    Sprout Venture Partners            Seed Round     18,00,000     NaN  "
      ]
     },
     "execution_count": 2,
     "metadata": {},
     "output_type": "execute_result"
    }
   ],
   "source": [
    "df = pd.read_csv(\"startup_funding.csv\")\n",
    "df.head()"
   ]
  },
  {
   "cell_type": "code",
   "execution_count": 3,
   "metadata": {
    "ExecuteTime": {
     "end_time": "2024-05-19T07:29:21.432653Z",
     "start_time": "2024-05-19T07:29:21.428151Z"
    }
   },
   "outputs": [
    {
     "data": {
      "text/plain": [
       "Index(['Sr No', 'Date dd/mm/yyyy', 'Startup Name', 'Industry Vertical',\n",
       "       'SubVertical', 'City  Location', 'Investors Name', 'InvestmentnType',\n",
       "       'Amount in USD', 'Remarks'],\n",
       "      dtype='object')"
      ]
     },
     "execution_count": 3,
     "metadata": {},
     "output_type": "execute_result"
    }
   ],
   "source": [
    "df.columns"
   ]
  },
  {
   "cell_type": "code",
   "execution_count": 4,
   "metadata": {
    "ExecuteTime": {
     "end_time": "2024-05-19T07:29:21.438316Z",
     "start_time": "2024-05-19T07:29:21.433658Z"
    }
   },
   "outputs": [],
   "source": [
    "df = df.rename(columns={\"Date dd/mm/yyyy\": \"Date\",\"Subvertical\": \"Sub_vertical\", \"City  Location\": \"City\"})"
   ]
  },
  {
   "cell_type": "code",
   "execution_count": 5,
   "metadata": {
    "ExecuteTime": {
     "end_time": "2024-05-19T07:29:21.443358Z",
     "start_time": "2024-05-19T07:29:21.440322Z"
    }
   },
   "outputs": [],
   "source": [
    "df.columns = df.columns.str.replace(\" \", \"_\")"
   ]
  },
  {
   "cell_type": "code",
   "execution_count": 6,
   "metadata": {
    "ExecuteTime": {
     "end_time": "2024-05-19T07:29:21.449785Z",
     "start_time": "2024-05-19T07:29:21.444367Z"
    }
   },
   "outputs": [],
   "source": [
    "df.drop(\"Sr_No\", axis=1, inplace=True)"
   ]
  },
  {
   "cell_type": "code",
   "execution_count": 7,
   "metadata": {
    "ExecuteTime": {
     "end_time": "2024-05-19T07:29:21.458310Z",
     "start_time": "2024-05-19T07:29:21.450800Z"
    }
   },
   "outputs": [
    {
     "data": {
      "text/html": [
       "<div>\n",
       "<style scoped>\n",
       "    .dataframe tbody tr th:only-of-type {\n",
       "        vertical-align: middle;\n",
       "    }\n",
       "\n",
       "    .dataframe tbody tr th {\n",
       "        vertical-align: top;\n",
       "    }\n",
       "\n",
       "    .dataframe thead th {\n",
       "        text-align: right;\n",
       "    }\n",
       "</style>\n",
       "<table border=\"1\" class=\"dataframe\">\n",
       "  <thead>\n",
       "    <tr style=\"text-align: right;\">\n",
       "      <th></th>\n",
       "      <th>Date</th>\n",
       "      <th>Startup_Name</th>\n",
       "      <th>Industry_Vertical</th>\n",
       "      <th>SubVertical</th>\n",
       "      <th>City</th>\n",
       "      <th>Investors_Name</th>\n",
       "      <th>InvestmentnType</th>\n",
       "      <th>Amount_in_USD</th>\n",
       "      <th>Remarks</th>\n",
       "    </tr>\n",
       "  </thead>\n",
       "  <tbody>\n",
       "    <tr>\n",
       "      <th>0</th>\n",
       "      <td>09/01/2020</td>\n",
       "      <td>BYJU’S</td>\n",
       "      <td>E-Tech</td>\n",
       "      <td>E-learning</td>\n",
       "      <td>Bengaluru</td>\n",
       "      <td>Tiger Global Management</td>\n",
       "      <td>Private Equity Round</td>\n",
       "      <td>20,00,00,000</td>\n",
       "      <td>NaN</td>\n",
       "    </tr>\n",
       "    <tr>\n",
       "      <th>1</th>\n",
       "      <td>13/01/2020</td>\n",
       "      <td>Shuttl</td>\n",
       "      <td>Transportation</td>\n",
       "      <td>App based shuttle service</td>\n",
       "      <td>Gurgaon</td>\n",
       "      <td>Susquehanna Growth Equity</td>\n",
       "      <td>Series C</td>\n",
       "      <td>80,48,394</td>\n",
       "      <td>NaN</td>\n",
       "    </tr>\n",
       "    <tr>\n",
       "      <th>2</th>\n",
       "      <td>09/01/2020</td>\n",
       "      <td>Mamaearth</td>\n",
       "      <td>E-commerce</td>\n",
       "      <td>Retailer of baby and toddler products</td>\n",
       "      <td>Bengaluru</td>\n",
       "      <td>Sequoia Capital India</td>\n",
       "      <td>Series B</td>\n",
       "      <td>1,83,58,860</td>\n",
       "      <td>NaN</td>\n",
       "    </tr>\n",
       "    <tr>\n",
       "      <th>3</th>\n",
       "      <td>02/01/2020</td>\n",
       "      <td>https://www.wealthbucket.in/</td>\n",
       "      <td>FinTech</td>\n",
       "      <td>Online Investment</td>\n",
       "      <td>New Delhi</td>\n",
       "      <td>Vinod Khatumal</td>\n",
       "      <td>Pre-series A</td>\n",
       "      <td>30,00,000</td>\n",
       "      <td>NaN</td>\n",
       "    </tr>\n",
       "    <tr>\n",
       "      <th>4</th>\n",
       "      <td>02/01/2020</td>\n",
       "      <td>Fashor</td>\n",
       "      <td>Fashion and Apparel</td>\n",
       "      <td>Embroiled Clothes For Women</td>\n",
       "      <td>Mumbai</td>\n",
       "      <td>Sprout Venture Partners</td>\n",
       "      <td>Seed Round</td>\n",
       "      <td>18,00,000</td>\n",
       "      <td>NaN</td>\n",
       "    </tr>\n",
       "  </tbody>\n",
       "</table>\n",
       "</div>"
      ],
      "text/plain": [
       "         Date                  Startup_Name    Industry_Vertical  \\\n",
       "0  09/01/2020                        BYJU’S               E-Tech   \n",
       "1  13/01/2020                        Shuttl       Transportation   \n",
       "2  09/01/2020                     Mamaearth           E-commerce   \n",
       "3  02/01/2020  https://www.wealthbucket.in/              FinTech   \n",
       "4  02/01/2020                        Fashor  Fashion and Apparel   \n",
       "\n",
       "                             SubVertical       City  \\\n",
       "0                             E-learning  Bengaluru   \n",
       "1              App based shuttle service    Gurgaon   \n",
       "2  Retailer of baby and toddler products  Bengaluru   \n",
       "3                      Online Investment  New Delhi   \n",
       "4            Embroiled Clothes For Women     Mumbai   \n",
       "\n",
       "              Investors_Name       InvestmentnType Amount_in_USD Remarks  \n",
       "0    Tiger Global Management  Private Equity Round  20,00,00,000     NaN  \n",
       "1  Susquehanna Growth Equity              Series C     80,48,394     NaN  \n",
       "2      Sequoia Capital India              Series B   1,83,58,860     NaN  \n",
       "3             Vinod Khatumal          Pre-series A     30,00,000     NaN  \n",
       "4    Sprout Venture Partners            Seed Round     18,00,000     NaN  "
      ]
     },
     "execution_count": 7,
     "metadata": {},
     "output_type": "execute_result"
    }
   ],
   "source": [
    "df.head()"
   ]
  },
  {
   "cell_type": "code",
   "execution_count": 8,
   "metadata": {
    "ExecuteTime": {
     "end_time": "2024-05-19T07:29:21.467260Z",
     "start_time": "2024-05-19T07:29:21.459316Z"
    }
   },
   "outputs": [
    {
     "data": {
      "text/html": [
       "<div>\n",
       "<style scoped>\n",
       "    .dataframe tbody tr th:only-of-type {\n",
       "        vertical-align: middle;\n",
       "    }\n",
       "\n",
       "    .dataframe tbody tr th {\n",
       "        vertical-align: top;\n",
       "    }\n",
       "\n",
       "    .dataframe thead th {\n",
       "        text-align: right;\n",
       "    }\n",
       "</style>\n",
       "<table border=\"1\" class=\"dataframe\">\n",
       "  <thead>\n",
       "    <tr style=\"text-align: right;\">\n",
       "      <th></th>\n",
       "      <th>Date</th>\n",
       "      <th>Startup_Name</th>\n",
       "      <th>Industry_Vertical</th>\n",
       "      <th>SubVertical</th>\n",
       "      <th>City</th>\n",
       "      <th>Investors_Name</th>\n",
       "      <th>InvestmentnType</th>\n",
       "      <th>Amount_in_USD</th>\n",
       "      <th>Remarks</th>\n",
       "    </tr>\n",
       "    <tr>\n",
       "      <th>Sıra_Nu</th>\n",
       "      <th></th>\n",
       "      <th></th>\n",
       "      <th></th>\n",
       "      <th></th>\n",
       "      <th></th>\n",
       "      <th></th>\n",
       "      <th></th>\n",
       "      <th></th>\n",
       "      <th></th>\n",
       "    </tr>\n",
       "  </thead>\n",
       "  <tbody>\n",
       "    <tr>\n",
       "      <th>0</th>\n",
       "      <td>09/01/2020</td>\n",
       "      <td>BYJU’S</td>\n",
       "      <td>E-Tech</td>\n",
       "      <td>E-learning</td>\n",
       "      <td>Bengaluru</td>\n",
       "      <td>Tiger Global Management</td>\n",
       "      <td>Private Equity Round</td>\n",
       "      <td>20,00,00,000</td>\n",
       "      <td>NaN</td>\n",
       "    </tr>\n",
       "    <tr>\n",
       "      <th>1</th>\n",
       "      <td>13/01/2020</td>\n",
       "      <td>Shuttl</td>\n",
       "      <td>Transportation</td>\n",
       "      <td>App based shuttle service</td>\n",
       "      <td>Gurgaon</td>\n",
       "      <td>Susquehanna Growth Equity</td>\n",
       "      <td>Series C</td>\n",
       "      <td>80,48,394</td>\n",
       "      <td>NaN</td>\n",
       "    </tr>\n",
       "    <tr>\n",
       "      <th>2</th>\n",
       "      <td>09/01/2020</td>\n",
       "      <td>Mamaearth</td>\n",
       "      <td>E-commerce</td>\n",
       "      <td>Retailer of baby and toddler products</td>\n",
       "      <td>Bengaluru</td>\n",
       "      <td>Sequoia Capital India</td>\n",
       "      <td>Series B</td>\n",
       "      <td>1,83,58,860</td>\n",
       "      <td>NaN</td>\n",
       "    </tr>\n",
       "    <tr>\n",
       "      <th>3</th>\n",
       "      <td>02/01/2020</td>\n",
       "      <td>https://www.wealthbucket.in/</td>\n",
       "      <td>FinTech</td>\n",
       "      <td>Online Investment</td>\n",
       "      <td>New Delhi</td>\n",
       "      <td>Vinod Khatumal</td>\n",
       "      <td>Pre-series A</td>\n",
       "      <td>30,00,000</td>\n",
       "      <td>NaN</td>\n",
       "    </tr>\n",
       "    <tr>\n",
       "      <th>4</th>\n",
       "      <td>02/01/2020</td>\n",
       "      <td>Fashor</td>\n",
       "      <td>Fashion and Apparel</td>\n",
       "      <td>Embroiled Clothes For Women</td>\n",
       "      <td>Mumbai</td>\n",
       "      <td>Sprout Venture Partners</td>\n",
       "      <td>Seed Round</td>\n",
       "      <td>18,00,000</td>\n",
       "      <td>NaN</td>\n",
       "    </tr>\n",
       "  </tbody>\n",
       "</table>\n",
       "</div>"
      ],
      "text/plain": [
       "               Date                  Startup_Name    Industry_Vertical  \\\n",
       "Sıra_Nu                                                                  \n",
       "0        09/01/2020                        BYJU’S               E-Tech   \n",
       "1        13/01/2020                        Shuttl       Transportation   \n",
       "2        09/01/2020                     Mamaearth           E-commerce   \n",
       "3        02/01/2020  https://www.wealthbucket.in/              FinTech   \n",
       "4        02/01/2020                        Fashor  Fashion and Apparel   \n",
       "\n",
       "                                   SubVertical       City  \\\n",
       "Sıra_Nu                                                     \n",
       "0                                   E-learning  Bengaluru   \n",
       "1                    App based shuttle service    Gurgaon   \n",
       "2        Retailer of baby and toddler products  Bengaluru   \n",
       "3                            Online Investment  New Delhi   \n",
       "4                  Embroiled Clothes For Women     Mumbai   \n",
       "\n",
       "                    Investors_Name       InvestmentnType Amount_in_USD Remarks  \n",
       "Sıra_Nu                                                                         \n",
       "0          Tiger Global Management  Private Equity Round  20,00,00,000     NaN  \n",
       "1        Susquehanna Growth Equity              Series C     80,48,394     NaN  \n",
       "2            Sequoia Capital India              Series B   1,83,58,860     NaN  \n",
       "3                   Vinod Khatumal          Pre-series A     30,00,000     NaN  \n",
       "4          Sprout Venture Partners            Seed Round     18,00,000     NaN  "
      ]
     },
     "execution_count": 8,
     "metadata": {},
     "output_type": "execute_result"
    }
   ],
   "source": [
    "df.index.name = \"Sıra_Nu\"\n",
    "df.head()"
   ]
  },
  {
   "cell_type": "code",
   "execution_count": 9,
   "metadata": {
    "ExecuteTime": {
     "end_time": "2024-05-19T07:29:21.472806Z",
     "start_time": "2024-05-19T07:29:21.468267Z"
    }
   },
   "outputs": [],
   "source": [
    "df.Amount_in_USD = df.Amount_in_USD.str.replace(\",\",\"\")"
   ]
  },
  {
   "cell_type": "code",
   "execution_count": 10,
   "metadata": {
    "ExecuteTime": {
     "end_time": "2024-05-19T07:29:21.479578Z",
     "start_time": "2024-05-19T07:29:21.473816Z"
    }
   },
   "outputs": [],
   "source": [
    "df['Amount_in_USD'] = df['Amount_in_USD'].replace(\"undisclosed\",np.nan).replace(\"Undisclosed\",\n",
    "    np.nan).replace(\"unknown\",np.nan).str.replace(\"\\\\\\\\xc2\\\\\\\\xa0\",\"\").replace(\"N/A\",np.nan).str.rstrip(\"+\")"
   ]
  },
  {
   "cell_type": "code",
   "execution_count": 11,
   "metadata": {
    "ExecuteTime": {
     "end_time": "2024-05-19T07:29:21.485494Z",
     "start_time": "2024-05-19T07:29:21.480583Z"
    }
   },
   "outputs": [
    {
     "data": {
      "text/plain": [
       "array(['200000000', '8048394', '18358860', '3000000', '1800000',\n",
       "       '9000000', '150000000', '6000000', '70000000', '50000000',\n",
       "       '20000000', '12000000', '30000000', '5900000', '2000000',\n",
       "       '231000000', '486000', '1500000', nan, '26000000', '17411265',\n",
       "       '1300000', '135000000', '300000', '220000000', '15800000',\n",
       "       '283000000', '1000000000', '45000000', '585000000', '4500000',\n",
       "       '3300000', '5000000', '18000000', '1000000', '10000000',\n",
       "       '450000000', '1600000', '140000000', '38080000', '125000000',\n",
       "       '11000000', '51000000', '37000000', '500000', '110000000',\n",
       "       '15000000', '6590000', '3900000000', '19000000', '2500000',\n",
       "       '145000', '60000000', '16000000', '5750000', '319605',\n",
       "       '4889975.54', '75000000', '2739034.68', '15109500.00', '430200',\n",
       "       '15500000', '52000000', '3584000', '3400000', '868600', '11500000',\n",
       "       '5600000', '17000000', '430665', '3591375', '200000', '3500000',\n",
       "       '6320820', '2443495', '307000', '14342000', '226000000', '600000',\n",
       "       '100000000', '22000000', '700000', '800000', '572000', '143000',\n",
       "       '138995', '27799000', '300000000', '278000', '31000000',\n",
       "       '29500000', '42000000', '1700000', '8200000', '4000000',\n",
       "       '14680000', '35000000', '225000000', '6390000', '157200000',\n",
       "       '32000000', '5500000', '400000', '7000000', '120000', '12200000',\n",
       "       '66000000', '8000000', '114811', '5850000', '4800000', '14270000',\n",
       "       '13400000', '4200000', '600000000', '6250000', '27700000',\n",
       "       '440000', '1100000', '437000', '180000', '175000', '29000000',\n",
       "       '49700000', '280000', '436000', '1250000', '120000000', '125000',\n",
       "       '23000000', '21500000', '14800000', '10100000', '450000',\n",
       "       '3450000', '21000000', '9100000', '8950000', '225000', '949000',\n",
       "       '24000000', '735000', '293000', '14000000', '307600', '55000000',\n",
       "       '150000', '2800000', '46140', '4600000', '1900000', '246000',\n",
       "       '7500000', '978000', '250000', '2100000', '9700000', '7600000',\n",
       "       '38400000', '82000000', '17200000', '62000000', '1310000',\n",
       "       '768000', '1240000', '535000', '4300000', '3100000', '6830000',\n",
       "       '87000000', '935089', '311200', '13500000', '100000', '148434',\n",
       "       '6230000', '3800000', '772500', '1040000', '115000000', '1400000',\n",
       "       '15700000', '4700000', '1930000', '18840000', '23500000',\n",
       "       '36230000', '80000', '354600', '25000000', '18200000', '3200000',\n",
       "       '47000000', '8600000', '6240000', '7400000', '4400000', '12300000',\n",
       "       '750000', '2300000', '50000', '1200000', '17500000', '233000',\n",
       "       '27000000', '7200000', '537000', '2700000', '9500000', '19500000',\n",
       "       '570000', '3600000', '872000', '8250000', '900000', '692000',\n",
       "       '329230', '270000000', '39000', '13000000', '1350000', '306000',\n",
       "       '38700000', '9200000', '336000', '235000', '77000000', '7700000',\n",
       "       '118000', '722000', '550000', '10750000', '250000000', '780000',\n",
       "       '6900000', '6200000', '44000000', '15400000', '422000', '850000',\n",
       "       '243000', '220000', '783000', '2500000000', '36000000', '312000',\n",
       "       '385000', '187000', '6800000', '734000', '80000000', '34000000',\n",
       "       '2600000', '8500000', '2250000', '464000', '18500000', '540000',\n",
       "       '234000', '650000', '232000', '350000', '7800000', '776000',\n",
       "       '12500000', '5200000', '2400000', '215000', '71000000', '311000',\n",
       "       '73700000', '390000', '104500000', '466000', '5300000',\n",
       "       '1400000000', '6600000', '580000', '40000000', '6100000',\n",
       "       '3690000', '260000000', '310000', '620000', '4650000', '155000',\n",
       "       '6300000', '245000', '330000000', '275000', '6700000', '1790000',\n",
       "       '30000', '3650000', '443000', '3350000', '3670000', '191000',\n",
       "       '56000000', '382000', '325000', '40000', '5800000', '330000',\n",
       "       '22400000', '6500000', '15200000', '375000', '94000', '366000',\n",
       "       '825000', '57000000', '4100000', '441000', '147000', '2200000',\n",
       "       '8800000', '106000', '22500', '68000', '18000', '11100000',\n",
       "       '297000', '123000', '162000', '324000', '45000', '90000', '963000',\n",
       "       '218000', '3750000', '1050000', '25000', '227000', '971000',\n",
       "       '315000', '670000', '448000', '31300000', '298000', '425000',\n",
       "       '745000', '1580000', '890000', '27000', '445000', '209000',\n",
       "       '15600000', '175000000', '675000', '149000', '104000', '740000',\n",
       "       '1950000', '12250000', '1070000', '595000', '75000', '210000',\n",
       "       '148000', '295000', '368000', '376000', '2750000', '89000',\n",
       "       '475000', '8900000', '223608', '14900000', '230000', '108000',\n",
       "       '360000', '81000', '52000', '970000', '73000', '37000', '160000',\n",
       "       '70000', '180000000', '5400000', '16500000', '145000000', '240000',\n",
       "       '520000', '515000', '370000', '185000', '5150000', '22500000',\n",
       "       '303000', '320000', '16600000', '460000', '490000', '3700000',\n",
       "       '530000', '500000000', '455000', '305000', '110000', '1450000',\n",
       "       '77000', '190000', '2950000', '1530000', '640000', '130000',\n",
       "       '260000', '205000', '770000', '4250000', '410000', '1150000',\n",
       "       '37500000', '1750000', '680000000', '9600000', '785000',\n",
       "       '90000000', '630000', '63000000', '156000', '161000', '395000',\n",
       "       '20000', '470000', '10200000', '16200000', '685000', '19350000',\n",
       "       '790000', '4850000', '12750000', '700000000', '168000',\n",
       "       '137000000', '140000', '85000000', '270000', '625000', '165000',\n",
       "       '400000000', '28000000', '166000', '115000', '16600', '518000',\n",
       "       '4150000', '290000', '2150000', '380000', '135000', '285000',\n",
       "       '30768', '16000', '14750000', '3250000'], dtype=object)"
      ]
     },
     "execution_count": 11,
     "metadata": {},
     "output_type": "execute_result"
    }
   ],
   "source": [
    "df.Amount_in_USD.unique()"
   ]
  },
  {
   "cell_type": "code",
   "execution_count": 12,
   "metadata": {
    "ExecuteTime": {
     "end_time": "2024-05-19T07:29:21.489525Z",
     "start_time": "2024-05-19T07:29:21.486502Z"
    }
   },
   "outputs": [],
   "source": [
    "df.Amount_in_USD = df.Amount_in_USD.astype(\"float\")"
   ]
  },
  {
   "cell_type": "code",
   "execution_count": 13,
   "metadata": {
    "ExecuteTime": {
     "end_time": "2024-05-19T07:29:21.501216Z",
     "start_time": "2024-05-19T07:29:21.490533Z"
    }
   },
   "outputs": [
    {
     "name": "stdout",
     "output_type": "stream",
     "text": [
      "<class 'pandas.core.frame.DataFrame'>\n",
      "RangeIndex: 3044 entries, 0 to 3043\n",
      "Data columns (total 9 columns):\n",
      " #   Column             Non-Null Count  Dtype  \n",
      "---  ------             --------------  -----  \n",
      " 0   Date               3044 non-null   object \n",
      " 1   Startup_Name       3044 non-null   object \n",
      " 2   Industry_Vertical  2873 non-null   object \n",
      " 3   SubVertical        2108 non-null   object \n",
      " 4   City               2864 non-null   object \n",
      " 5   Investors_Name     3020 non-null   object \n",
      " 6   InvestmentnType    3040 non-null   object \n",
      " 7   Amount_in_USD      2073 non-null   float64\n",
      " 8   Remarks            419 non-null    object \n",
      "dtypes: float64(1), object(8)\n",
      "memory usage: 214.2+ KB\n"
     ]
    }
   ],
   "source": [
    "df.info()"
   ]
  },
  {
   "cell_type": "code",
   "execution_count": 14,
   "metadata": {
    "ExecuteTime": {
     "end_time": "2024-05-19T07:29:21.513249Z",
     "start_time": "2024-05-19T07:29:21.503740Z"
    }
   },
   "outputs": [
    {
     "data": {
      "text/html": [
       "<div>\n",
       "<style scoped>\n",
       "    .dataframe tbody tr th:only-of-type {\n",
       "        vertical-align: middle;\n",
       "    }\n",
       "\n",
       "    .dataframe tbody tr th {\n",
       "        vertical-align: top;\n",
       "    }\n",
       "\n",
       "    .dataframe thead th {\n",
       "        text-align: right;\n",
       "    }\n",
       "</style>\n",
       "<table border=\"1\" class=\"dataframe\">\n",
       "  <thead>\n",
       "    <tr style=\"text-align: right;\">\n",
       "      <th></th>\n",
       "      <th>Date</th>\n",
       "      <th>Startup_Name</th>\n",
       "      <th>Industry_Vertical</th>\n",
       "      <th>SubVertical</th>\n",
       "      <th>City</th>\n",
       "      <th>Investors_Name</th>\n",
       "      <th>InvestmentnType</th>\n",
       "      <th>Amount_in_USD</th>\n",
       "      <th>Remarks</th>\n",
       "    </tr>\n",
       "    <tr>\n",
       "      <th>Sıra_Nu</th>\n",
       "      <th></th>\n",
       "      <th></th>\n",
       "      <th></th>\n",
       "      <th></th>\n",
       "      <th></th>\n",
       "      <th></th>\n",
       "      <th></th>\n",
       "      <th></th>\n",
       "      <th></th>\n",
       "    </tr>\n",
       "  </thead>\n",
       "  <tbody>\n",
       "    <tr>\n",
       "      <th>2289</th>\n",
       "      <td>01/10/2015</td>\n",
       "      <td>Indifi</td>\n",
       "      <td>Easy Business Loans platform</td>\n",
       "      <td>NaN</td>\n",
       "      <td>Gurgaon</td>\n",
       "      <td>Accel Partners, Elevar Equity, Pramod Bhasin, ...</td>\n",
       "      <td>Seed Funding</td>\n",
       "      <td>NaN</td>\n",
       "      <td>NaN</td>\n",
       "    </tr>\n",
       "    <tr>\n",
       "      <th>2360</th>\n",
       "      <td>26/10/2015</td>\n",
       "      <td>Flexing It</td>\n",
       "      <td>Professionals &amp; Project Search Marketplace</td>\n",
       "      <td>NaN</td>\n",
       "      <td>New Delhi</td>\n",
       "      <td>undisclosed private investors</td>\n",
       "      <td>Seed Funding</td>\n",
       "      <td>500000.0</td>\n",
       "      <td>NaN</td>\n",
       "    </tr>\n",
       "    <tr>\n",
       "      <th>2384</th>\n",
       "      <td>01/09/2015</td>\n",
       "      <td>Stylecracker</td>\n",
       "      <td>Personalized Styling platform</td>\n",
       "      <td>NaN</td>\n",
       "      <td>Mumbai</td>\n",
       "      <td>Group of HNI investors</td>\n",
       "      <td>Private Equity</td>\n",
       "      <td>1000000.0</td>\n",
       "      <td>Series A</td>\n",
       "    </tr>\n",
       "    <tr>\n",
       "      <th>558</th>\n",
       "      <td>23/10/2017</td>\n",
       "      <td>Park Easy</td>\n",
       "      <td>Consumer Internet</td>\n",
       "      <td>Machine learning based parking discovery</td>\n",
       "      <td>Kolkata</td>\n",
       "      <td>Rockstart Accelerator</td>\n",
       "      <td>Seed Funding</td>\n",
       "      <td>118000.0</td>\n",
       "      <td>NaN</td>\n",
       "    </tr>\n",
       "    <tr>\n",
       "      <th>1613</th>\n",
       "      <td>16/06/2016</td>\n",
       "      <td>Voonik</td>\n",
       "      <td>eCommerce</td>\n",
       "      <td>Online Women\\\\xe2\\\\x80\\\\x99s Fashion Marketplace</td>\n",
       "      <td>Bangalore</td>\n",
       "      <td>Sequoia Capital</td>\n",
       "      <td>Private Equity</td>\n",
       "      <td>20000000.0</td>\n",
       "      <td>NaN</td>\n",
       "    </tr>\n",
       "    <tr>\n",
       "      <th>2907</th>\n",
       "      <td>20/03/2015</td>\n",
       "      <td>Lets Corp</td>\n",
       "      <td>NaN</td>\n",
       "      <td>NaN</td>\n",
       "      <td>NaN</td>\n",
       "      <td>Wu Chay Chin</td>\n",
       "      <td>Seed Funding</td>\n",
       "      <td>3000000.0</td>\n",
       "      <td>NaN</td>\n",
       "    </tr>\n",
       "    <tr>\n",
       "      <th>1998</th>\n",
       "      <td>25/02/2016</td>\n",
       "      <td>Funcart</td>\n",
       "      <td>eCommerce</td>\n",
       "      <td>Party Supplies Etailer</td>\n",
       "      <td>New Delhi</td>\n",
       "      <td>Undisclosed HNIs</td>\n",
       "      <td>Seed Funding</td>\n",
       "      <td>70000.0</td>\n",
       "      <td>NaN</td>\n",
       "    </tr>\n",
       "    <tr>\n",
       "      <th>2218</th>\n",
       "      <td>06/11/2015</td>\n",
       "      <td>Soothe Healthcare</td>\n",
       "      <td>affordable Personal Healthcare Products</td>\n",
       "      <td>NaN</td>\n",
       "      <td>Noida</td>\n",
       "      <td>Saina Nehwal</td>\n",
       "      <td>Seed Funding</td>\n",
       "      <td>NaN</td>\n",
       "      <td>2nd seed funding</td>\n",
       "    </tr>\n",
       "    <tr>\n",
       "      <th>411</th>\n",
       "      <td>22/01/2018</td>\n",
       "      <td>OptaCredit</td>\n",
       "      <td>Finance</td>\n",
       "      <td>Alternative Lending</td>\n",
       "      <td>Chennai</td>\n",
       "      <td>DMI Finance</td>\n",
       "      <td>Private Equity</td>\n",
       "      <td>4000000.0</td>\n",
       "      <td>NaN</td>\n",
       "    </tr>\n",
       "    <tr>\n",
       "      <th>166</th>\n",
       "      <td>02/08/2018</td>\n",
       "      <td>Samosa Labs</td>\n",
       "      <td>Consumer Internet</td>\n",
       "      <td>Social Media and Chat Entertainment Platform</td>\n",
       "      <td>Hyderabad</td>\n",
       "      <td>Xiaomi and Sequoia Capital India</td>\n",
       "      <td>Private Equity</td>\n",
       "      <td>7000000.0</td>\n",
       "      <td>NaN</td>\n",
       "    </tr>\n",
       "  </tbody>\n",
       "</table>\n",
       "</div>"
      ],
      "text/plain": [
       "               Date       Startup_Name  \\\n",
       "Sıra_Nu                                  \n",
       "2289     01/10/2015             Indifi   \n",
       "2360     26/10/2015         Flexing It   \n",
       "2384     01/09/2015       Stylecracker   \n",
       "558      23/10/2017          Park Easy   \n",
       "1613     16/06/2016             Voonik   \n",
       "2907     20/03/2015          Lets Corp   \n",
       "1998     25/02/2016            Funcart   \n",
       "2218     06/11/2015  Soothe Healthcare   \n",
       "411      22/01/2018         OptaCredit   \n",
       "166      02/08/2018        Samosa Labs   \n",
       "\n",
       "                                  Industry_Vertical  \\\n",
       "Sıra_Nu                                               \n",
       "2289                   Easy Business Loans platform   \n",
       "2360     Professionals & Project Search Marketplace   \n",
       "2384                  Personalized Styling platform   \n",
       "558                               Consumer Internet   \n",
       "1613                                      eCommerce   \n",
       "2907                                            NaN   \n",
       "1998                                      eCommerce   \n",
       "2218        affordable Personal Healthcare Products   \n",
       "411                                         Finance   \n",
       "166                               Consumer Internet   \n",
       "\n",
       "                                              SubVertical       City  \\\n",
       "Sıra_Nu                                                                \n",
       "2289                                                  NaN    Gurgaon   \n",
       "2360                                                  NaN  New Delhi   \n",
       "2384                                                  NaN     Mumbai   \n",
       "558              Machine learning based parking discovery    Kolkata   \n",
       "1613     Online Women\\\\xe2\\\\x80\\\\x99s Fashion Marketplace  Bangalore   \n",
       "2907                                                  NaN        NaN   \n",
       "1998                               Party Supplies Etailer  New Delhi   \n",
       "2218                                                  NaN      Noida   \n",
       "411                                   Alternative Lending    Chennai   \n",
       "166          Social Media and Chat Entertainment Platform  Hyderabad   \n",
       "\n",
       "                                            Investors_Name InvestmentnType  \\\n",
       "Sıra_Nu                                                                      \n",
       "2289     Accel Partners, Elevar Equity, Pramod Bhasin, ...    Seed Funding   \n",
       "2360                         undisclosed private investors    Seed Funding   \n",
       "2384                                Group of HNI investors  Private Equity   \n",
       "558                                  Rockstart Accelerator    Seed Funding   \n",
       "1613                                       Sequoia Capital  Private Equity   \n",
       "2907                                          Wu Chay Chin    Seed Funding   \n",
       "1998                                      Undisclosed HNIs    Seed Funding   \n",
       "2218                                          Saina Nehwal    Seed Funding   \n",
       "411                                            DMI Finance  Private Equity   \n",
       "166                       Xiaomi and Sequoia Capital India  Private Equity   \n",
       "\n",
       "         Amount_in_USD           Remarks  \n",
       "Sıra_Nu                                   \n",
       "2289               NaN               NaN  \n",
       "2360          500000.0               NaN  \n",
       "2384         1000000.0          Series A  \n",
       "558           118000.0               NaN  \n",
       "1613        20000000.0               NaN  \n",
       "2907         3000000.0               NaN  \n",
       "1998           70000.0               NaN  \n",
       "2218               NaN  2nd seed funding  \n",
       "411          4000000.0               NaN  \n",
       "166          7000000.0               NaN  "
      ]
     },
     "execution_count": 14,
     "metadata": {},
     "output_type": "execute_result"
    }
   ],
   "source": [
    "df.sample(10)"
   ]
  },
  {
   "cell_type": "code",
   "execution_count": 15,
   "metadata": {
    "ExecuteTime": {
     "end_time": "2024-05-19T07:29:21.523822Z",
     "start_time": "2024-05-19T07:29:21.514256Z"
    }
   },
   "outputs": [
    {
     "data": {
      "text/plain": [
       "array([[ 192],\n",
       "       [2571],\n",
       "       [2606],\n",
       "       [2775],\n",
       "       [2776],\n",
       "       [2831],\n",
       "       [3011],\n",
       "       [3029]], dtype=int64)"
      ]
     },
     "execution_count": 15,
     "metadata": {},
     "output_type": "execute_result"
    }
   ],
   "source": [
    "df['Tarih'] = pd.to_datetime(df[\"Date\"], format=\"%d/%m/%Y\", errors='coerce')\n",
    "\n",
    "np.argwhere(df['Tarih'].isna())"
   ]
  },
  {
   "cell_type": "code",
   "execution_count": 16,
   "metadata": {
    "ExecuteTime": {
     "end_time": "2024-05-19T07:29:21.529667Z",
     "start_time": "2024-05-19T07:29:21.524828Z"
    }
   },
   "outputs": [],
   "source": [
    "df.Date.loc[[192, 2571,2606,2775,2776,2831,3011,3029]] = [\"05/07/2018\", \"01/07/2015\",\"10/07/2015\",\"12/05/2015\",\"12/05/2015\",\n",
    "                                                          \"13/04/2015\",\"15/01/2015\",\"22/01/2015\"]"
   ]
  },
  {
   "cell_type": "code",
   "execution_count": 17,
   "metadata": {
    "ExecuteTime": {
     "end_time": "2024-05-19T07:29:21.535981Z",
     "start_time": "2024-05-19T07:29:21.530678Z"
    }
   },
   "outputs": [
    {
     "data": {
      "text/plain": [
       "Sıra_Nu\n",
       "192     05/07/2018\n",
       "2571    01/07/2015\n",
       "2606    10/07/2015\n",
       "2775    12/05/2015\n",
       "2776    12/05/2015\n",
       "2831    13/04/2015\n",
       "3011    15/01/2015\n",
       "3029    22/01/2015\n",
       "Name: Date, dtype: object"
      ]
     },
     "execution_count": 17,
     "metadata": {},
     "output_type": "execute_result"
    }
   ],
   "source": [
    "df.Date.loc[[192, 2571,2606,2775,2776,2831,3011,3029]]"
   ]
  },
  {
   "cell_type": "code",
   "execution_count": 18,
   "metadata": {
    "ExecuteTime": {
     "end_time": "2024-05-19T07:29:21.543031Z",
     "start_time": "2024-05-19T07:29:21.536989Z"
    }
   },
   "outputs": [],
   "source": [
    "df.Date = pd.to_datetime(df.Date, format=\"%d/%m/%Y\")"
   ]
  },
  {
   "cell_type": "code",
   "execution_count": 19,
   "metadata": {
    "ExecuteTime": {
     "end_time": "2024-05-19T07:29:21.547454Z",
     "start_time": "2024-05-19T07:29:21.544058Z"
    }
   },
   "outputs": [],
   "source": [
    "df.drop(\"Tarih\", axis=1, inplace=True)"
   ]
  },
  {
   "cell_type": "code",
   "execution_count": 20,
   "metadata": {
    "ExecuteTime": {
     "end_time": "2024-05-19T07:29:21.552462Z",
     "start_time": "2024-05-19T07:29:21.548463Z"
    }
   },
   "outputs": [],
   "source": [
    "df.drop(\"Remarks\", axis=1, inplace=True)"
   ]
  },
  {
   "cell_type": "code",
   "execution_count": 21,
   "metadata": {
    "ExecuteTime": {
     "end_time": "2024-05-19T07:29:21.561081Z",
     "start_time": "2024-05-19T07:29:21.553973Z"
    }
   },
   "outputs": [
    {
     "name": "stdout",
     "output_type": "stream",
     "text": [
      "<class 'pandas.core.frame.DataFrame'>\n",
      "RangeIndex: 3044 entries, 0 to 3043\n",
      "Data columns (total 8 columns):\n",
      " #   Column             Non-Null Count  Dtype         \n",
      "---  ------             --------------  -----         \n",
      " 0   Date               3044 non-null   datetime64[ns]\n",
      " 1   Startup_Name       3044 non-null   object        \n",
      " 2   Industry_Vertical  2873 non-null   object        \n",
      " 3   SubVertical        2108 non-null   object        \n",
      " 4   City               2864 non-null   object        \n",
      " 5   Investors_Name     3020 non-null   object        \n",
      " 6   InvestmentnType    3040 non-null   object        \n",
      " 7   Amount_in_USD      2073 non-null   float64       \n",
      "dtypes: datetime64[ns](1), float64(1), object(6)\n",
      "memory usage: 190.4+ KB\n"
     ]
    }
   ],
   "source": [
    "df.info()"
   ]
  },
  {
   "cell_type": "code",
   "execution_count": 22,
   "metadata": {
    "ExecuteTime": {
     "end_time": "2024-05-19T07:29:21.568146Z",
     "start_time": "2024-05-19T07:29:21.562607Z"
    }
   },
   "outputs": [
    {
     "data": {
      "text/plain": [
       "Date                   0\n",
       "Startup_Name           0\n",
       "Industry_Vertical    171\n",
       "SubVertical          936\n",
       "City                 180\n",
       "Investors_Name        24\n",
       "InvestmentnType        4\n",
       "Amount_in_USD        971\n",
       "dtype: int64"
      ]
     },
     "execution_count": 22,
     "metadata": {},
     "output_type": "execute_result"
    }
   ],
   "source": [
    "df.isnull().sum()"
   ]
  },
  {
   "cell_type": "code",
   "execution_count": 23,
   "metadata": {
    "ExecuteTime": {
     "end_time": "2024-05-19T07:29:21.574498Z",
     "start_time": "2024-05-19T07:29:21.569151Z"
    }
   },
   "outputs": [
    {
     "data": {
      "text/plain": [
       "Date                                           2016-01-29 00:00:00\n",
       "Startup_Name                                             BitGiving\n",
       "Industry_Vertical                                Consumer Internet\n",
       "SubVertical                                 Crowd Funding Platform\n",
       "City                                                     New Delhi\n",
       "Investors_Name       Harminder Sahni, Krishna Mehra, Sanjay Bakshi\n",
       "InvestmentnType                                       Seed Funding\n",
       "Amount_in_USD                                                  NaN\n",
       "Name: 2097, dtype: object"
      ]
     },
     "execution_count": 23,
     "metadata": {},
     "output_type": "execute_result"
    }
   ],
   "source": [
    "df.iloc[2097]"
   ]
  },
  {
   "cell_type": "code",
   "execution_count": 24,
   "metadata": {
    "ExecuteTime": {
     "end_time": "2024-05-19T07:29:21.583884Z",
     "start_time": "2024-05-19T07:29:21.575503Z"
    }
   },
   "outputs": [
    {
     "data": {
      "text/html": [
       "<div>\n",
       "<style scoped>\n",
       "    .dataframe tbody tr th:only-of-type {\n",
       "        vertical-align: middle;\n",
       "    }\n",
       "\n",
       "    .dataframe tbody tr th {\n",
       "        vertical-align: top;\n",
       "    }\n",
       "\n",
       "    .dataframe thead th {\n",
       "        text-align: right;\n",
       "    }\n",
       "</style>\n",
       "<table border=\"1\" class=\"dataframe\">\n",
       "  <thead>\n",
       "    <tr style=\"text-align: right;\">\n",
       "      <th></th>\n",
       "      <th>Date</th>\n",
       "      <th>Startup_Name</th>\n",
       "      <th>Industry_Vertical</th>\n",
       "      <th>SubVertical</th>\n",
       "      <th>City</th>\n",
       "      <th>Investors_Name</th>\n",
       "      <th>InvestmentnType</th>\n",
       "      <th>Amount_in_USD</th>\n",
       "    </tr>\n",
       "    <tr>\n",
       "      <th>Sıra_Nu</th>\n",
       "      <th></th>\n",
       "      <th></th>\n",
       "      <th></th>\n",
       "      <th></th>\n",
       "      <th></th>\n",
       "      <th></th>\n",
       "      <th></th>\n",
       "      <th></th>\n",
       "    </tr>\n",
       "  </thead>\n",
       "  <tbody>\n",
       "    <tr>\n",
       "      <th>764</th>\n",
       "      <td>2017-06-21</td>\n",
       "      <td>Fabulyst</td>\n",
       "      <td>Technology</td>\n",
       "      <td>Artificial Intelligence based platform</td>\n",
       "      <td>Hyderabad</td>\n",
       "      <td>iBhubs</td>\n",
       "      <td>Seed Funding</td>\n",
       "      <td>215000.0</td>\n",
       "    </tr>\n",
       "    <tr>\n",
       "      <th>1470</th>\n",
       "      <td>2016-08-24</td>\n",
       "      <td>Advenio</td>\n",
       "      <td>Technology</td>\n",
       "      <td>Clinical Imaging Solution Provider</td>\n",
       "      <td>Chandigarh</td>\n",
       "      <td>Kalaari Capital</td>\n",
       "      <td>Seed Funding</td>\n",
       "      <td>100000.0</td>\n",
       "    </tr>\n",
       "    <tr>\n",
       "      <th>625</th>\n",
       "      <td>2017-09-26</td>\n",
       "      <td>Multibhashi</td>\n",
       "      <td>Consumer Internet</td>\n",
       "      <td>Language learning Mobile App</td>\n",
       "      <td>Bangalore</td>\n",
       "      <td>Aniruddha Malpani, Startup Oasis</td>\n",
       "      <td>Seed Funding</td>\n",
       "      <td>NaN</td>\n",
       "    </tr>\n",
       "    <tr>\n",
       "      <th>583</th>\n",
       "      <td>2017-09-06</td>\n",
       "      <td>Power2SME</td>\n",
       "      <td>eCommerce</td>\n",
       "      <td>Buying Club for Small Businesses</td>\n",
       "      <td>Gurgaon</td>\n",
       "      <td>International Finance Corporation (IFC), Inven...</td>\n",
       "      <td>Private Equity</td>\n",
       "      <td>26000000.0</td>\n",
       "    </tr>\n",
       "    <tr>\n",
       "      <th>463</th>\n",
       "      <td>2017-12-20</td>\n",
       "      <td>Your Quote</td>\n",
       "      <td>Technology</td>\n",
       "      <td>Vernacular and Video Content Platform</td>\n",
       "      <td>Bengaluru</td>\n",
       "      <td>Axilor Ventures, E-City VEntures Atul Goel</td>\n",
       "      <td>Private Equity</td>\n",
       "      <td>1000000.0</td>\n",
       "    </tr>\n",
       "    <tr>\n",
       "      <th>1693</th>\n",
       "      <td>2016-05-11</td>\n",
       "      <td>Zenify</td>\n",
       "      <td>Consumer Internet</td>\n",
       "      <td>Home rental Discovery &amp; Booking Portal</td>\n",
       "      <td>Bangalore</td>\n",
       "      <td>Undisclosed Investors</td>\n",
       "      <td>Private Equity</td>\n",
       "      <td>900000.0</td>\n",
       "    </tr>\n",
       "    <tr>\n",
       "      <th>1140</th>\n",
       "      <td>2016-12-12</td>\n",
       "      <td>Rupaiya Exchange</td>\n",
       "      <td>Consumer Internet</td>\n",
       "      <td>P2P Lending platform</td>\n",
       "      <td>New Delhi</td>\n",
       "      <td>Undisclosed Investors</td>\n",
       "      <td>Seed Funding</td>\n",
       "      <td>200000.0</td>\n",
       "    </tr>\n",
       "    <tr>\n",
       "      <th>2502</th>\n",
       "      <td>2015-08-10</td>\n",
       "      <td>Actionable Analytics</td>\n",
       "      <td>Machine Learning Platform</td>\n",
       "      <td>NaN</td>\n",
       "      <td>New Delhi/ Houston</td>\n",
       "      <td>B M Gupta, Vinod Singhal</td>\n",
       "      <td>Seed Funding</td>\n",
       "      <td>NaN</td>\n",
       "    </tr>\n",
       "    <tr>\n",
       "      <th>84</th>\n",
       "      <td>2019-06-10</td>\n",
       "      <td>Bolo App</td>\n",
       "      <td>Digital Media</td>\n",
       "      <td>Video Platform</td>\n",
       "      <td>Bengaluru</td>\n",
       "      <td>Nexus Venture Partners</td>\n",
       "      <td>Seed Funding</td>\n",
       "      <td>430200.0</td>\n",
       "    </tr>\n",
       "    <tr>\n",
       "      <th>2123</th>\n",
       "      <td>2015-12-04</td>\n",
       "      <td>CaRPM</td>\n",
       "      <td>Car Maintenance &amp; Management mobile app</td>\n",
       "      <td>NaN</td>\n",
       "      <td>Gurgaon</td>\n",
       "      <td>GHV Accelerator</td>\n",
       "      <td>Seed Funding</td>\n",
       "      <td>100000.0</td>\n",
       "    </tr>\n",
       "  </tbody>\n",
       "</table>\n",
       "</div>"
      ],
      "text/plain": [
       "              Date          Startup_Name  \\\n",
       "Sıra_Nu                                    \n",
       "764     2017-06-21              Fabulyst   \n",
       "1470    2016-08-24               Advenio   \n",
       "625     2017-09-26           Multibhashi   \n",
       "583     2017-09-06             Power2SME   \n",
       "463     2017-12-20            Your Quote   \n",
       "1693    2016-05-11                Zenify   \n",
       "1140    2016-12-12      Rupaiya Exchange   \n",
       "2502    2015-08-10  Actionable Analytics   \n",
       "84      2019-06-10              Bolo App   \n",
       "2123    2015-12-04                 CaRPM   \n",
       "\n",
       "                               Industry_Vertical  \\\n",
       "Sıra_Nu                                            \n",
       "764                                   Technology   \n",
       "1470                                  Technology   \n",
       "625                            Consumer Internet   \n",
       "583                                    eCommerce   \n",
       "463                                   Technology   \n",
       "1693                           Consumer Internet   \n",
       "1140                           Consumer Internet   \n",
       "2502                   Machine Learning Platform   \n",
       "84                                 Digital Media   \n",
       "2123     Car Maintenance & Management mobile app   \n",
       "\n",
       "                                    SubVertical                City  \\\n",
       "Sıra_Nu                                                               \n",
       "764      Artificial Intelligence based platform           Hyderabad   \n",
       "1470         Clinical Imaging Solution Provider          Chandigarh   \n",
       "625                Language learning Mobile App           Bangalore   \n",
       "583            Buying Club for Small Businesses             Gurgaon   \n",
       "463       Vernacular and Video Content Platform           Bengaluru   \n",
       "1693     Home rental Discovery & Booking Portal           Bangalore   \n",
       "1140                       P2P Lending platform           New Delhi   \n",
       "2502                                        NaN  New Delhi/ Houston   \n",
       "84                               Video Platform           Bengaluru   \n",
       "2123                                        NaN             Gurgaon   \n",
       "\n",
       "                                            Investors_Name InvestmentnType  \\\n",
       "Sıra_Nu                                                                      \n",
       "764                                                 iBhubs    Seed Funding   \n",
       "1470                                       Kalaari Capital    Seed Funding   \n",
       "625                       Aniruddha Malpani, Startup Oasis    Seed Funding   \n",
       "583      International Finance Corporation (IFC), Inven...  Private Equity   \n",
       "463             Axilor Ventures, E-City VEntures Atul Goel  Private Equity   \n",
       "1693                                 Undisclosed Investors  Private Equity   \n",
       "1140                                 Undisclosed Investors    Seed Funding   \n",
       "2502                              B M Gupta, Vinod Singhal    Seed Funding   \n",
       "84                                  Nexus Venture Partners    Seed Funding   \n",
       "2123                                       GHV Accelerator    Seed Funding   \n",
       "\n",
       "         Amount_in_USD  \n",
       "Sıra_Nu                 \n",
       "764           215000.0  \n",
       "1470          100000.0  \n",
       "625                NaN  \n",
       "583         26000000.0  \n",
       "463          1000000.0  \n",
       "1693          900000.0  \n",
       "1140          200000.0  \n",
       "2502               NaN  \n",
       "84            430200.0  \n",
       "2123          100000.0  "
      ]
     },
     "execution_count": 24,
     "metadata": {},
     "output_type": "execute_result"
    }
   ],
   "source": [
    "df.sample(10)"
   ]
  },
  {
   "cell_type": "code",
   "execution_count": 25,
   "metadata": {
    "ExecuteTime": {
     "end_time": "2024-05-19T07:29:21.590210Z",
     "start_time": "2024-05-19T07:29:21.584890Z"
    }
   },
   "outputs": [],
   "source": [
    "df.dropna(axis=0, thresh=7, inplace=True, ignore_index=True)"
   ]
  },
  {
   "cell_type": "code",
   "execution_count": 26,
   "metadata": {
    "ExecuteTime": {
     "end_time": "2024-05-19T07:29:21.596565Z",
     "start_time": "2024-05-19T07:29:21.591219Z"
    }
   },
   "outputs": [
    {
     "data": {
      "text/plain": [
       "InvestmentnType\n",
       "Angel                             1\n",
       "Angel / Seed Funding              4\n",
       "Angel Funding                     0\n",
       "Angel Round                       1\n",
       "Bridge Round                      0\n",
       "Corporate Round                   1\n",
       "Debt                              1\n",
       "Debt Funding                     24\n",
       "Debt and Preference capital       1\n",
       "Debt-Funding                      1\n",
       "Equity                            2\n",
       "Equity Based Funding              1\n",
       "Funding Round                     1\n",
       "Inhouse Funding                   1\n",
       "Maiden Round                      1\n",
       "Mezzanine                         1\n",
       "Pre Series A                      0\n",
       "Pre-Series A                      4\n",
       "Pre-series A                      1\n",
       "Private                           1\n",
       "Private Equity                 1002\n",
       "Private Equity Round              4\n",
       "Private Funding                   1\n",
       "PrivateEquity                     1\n",
       "Seed                              4\n",
       "Seed / Angel Funding             38\n",
       "Seed / Angle Funding              2\n",
       "Seed Funding                    674\n",
       "Seed Funding Round                1\n",
       "Seed Round                        7\n",
       "Seed funding                      0\n",
       "Seed/ Angel Funding              48\n",
       "Seed/Angel Funding               18\n",
       "Series A                         22\n",
       "Series B                         20\n",
       "Series B (Extension)              1\n",
       "Series C                         14\n",
       "Series D                         12\n",
       "Series E                          2\n",
       "Series F                          2\n",
       "Series G                          1\n",
       "Series H                          1\n",
       "Series J                          1\n",
       "Single Venture                    1\n",
       "Structured Debt                   1\n",
       "Term Loan                         1\n",
       "Venture                           0\n",
       "Venture - Series Unknown          1\n",
       "Venture Round                     2\n",
       "pre-Series A                      2\n",
       "pre-series A                      1\n",
       "Name: Amount_in_USD, dtype: int64"
      ]
     },
     "execution_count": 26,
     "metadata": {},
     "output_type": "execute_result"
    }
   ],
   "source": [
    "df.groupby(\"InvestmentnType\")[\"Amount_in_USD\"].count()"
   ]
  },
  {
   "cell_type": "code",
   "execution_count": 27,
   "metadata": {
    "ExecuteTime": {
     "end_time": "2024-05-19T07:29:21.603093Z",
     "start_time": "2024-05-19T07:29:21.597570Z"
    }
   },
   "outputs": [],
   "source": [
    "df[\"InvestmentnType\"] = df[\"InvestmentnType\"].str.split(\" \").str[0]"
   ]
  },
  {
   "cell_type": "code",
   "execution_count": 28,
   "metadata": {
    "ExecuteTime": {
     "end_time": "2024-05-19T07:29:21.609189Z",
     "start_time": "2024-05-19T07:29:21.604097Z"
    }
   },
   "outputs": [],
   "source": [
    "df[\"InvestmentnType\"] = df[\"InvestmentnType\"].str.split(\"/\").str[0]"
   ]
  },
  {
   "cell_type": "code",
   "execution_count": 29,
   "metadata": {
    "ExecuteTime": {
     "end_time": "2024-05-19T07:29:21.615146Z",
     "start_time": "2024-05-19T07:29:21.610194Z"
    }
   },
   "outputs": [],
   "source": [
    "df[\"InvestmentnType\"].replace({\"Pre\": \"Pre-Series\",\"Pre-series\":\"Pre-Series\",\"pre-Series\":\"Pre-Series\",\n",
    "                              \"pre-series\":\"Pre-Series\",\"Debt-Funding\":\"Debt\", \"PrivateEquity\":\"Private\"}, inplace =True)"
   ]
  },
  {
   "cell_type": "code",
   "execution_count": 30,
   "metadata": {
    "ExecuteTime": {
     "end_time": "2024-05-19T07:29:21.623185Z",
     "start_time": "2024-05-19T07:29:21.616153Z"
    }
   },
   "outputs": [
    {
     "data": {
      "text/html": [
       "<div>\n",
       "<style scoped>\n",
       "    .dataframe tbody tr th:only-of-type {\n",
       "        vertical-align: middle;\n",
       "    }\n",
       "\n",
       "    .dataframe tbody tr th {\n",
       "        vertical-align: top;\n",
       "    }\n",
       "\n",
       "    .dataframe thead th {\n",
       "        text-align: right;\n",
       "    }\n",
       "</style>\n",
       "<table border=\"1\" class=\"dataframe\">\n",
       "  <thead>\n",
       "    <tr style=\"text-align: right;\">\n",
       "      <th></th>\n",
       "      <th>Date</th>\n",
       "      <th>Startup_Name</th>\n",
       "      <th>Industry_Vertical</th>\n",
       "      <th>SubVertical</th>\n",
       "      <th>City</th>\n",
       "      <th>Investors_Name</th>\n",
       "      <th>InvestmentnType</th>\n",
       "      <th>Amount_in_USD</th>\n",
       "    </tr>\n",
       "  </thead>\n",
       "  <tbody>\n",
       "    <tr>\n",
       "      <th>91</th>\n",
       "      <td>2019-05-05</td>\n",
       "      <td>StyleDotMe</td>\n",
       "      <td>E-commerce</td>\n",
       "      <td>Fashion and Shopping</td>\n",
       "      <td>Delhi</td>\n",
       "      <td>Indian Angel Network and other angel investors...</td>\n",
       "      <td>Bridge</td>\n",
       "      <td>NaN</td>\n",
       "    </tr>\n",
       "  </tbody>\n",
       "</table>\n",
       "</div>"
      ],
      "text/plain": [
       "         Date Startup_Name Industry_Vertical           SubVertical   City  \\\n",
       "91 2019-05-05   StyleDotMe        E-commerce  Fashion and Shopping  Delhi   \n",
       "\n",
       "                                       Investors_Name InvestmentnType  \\\n",
       "91  Indian Angel Network and other angel investors...          Bridge   \n",
       "\n",
       "    Amount_in_USD  \n",
       "91            NaN  "
      ]
     },
     "execution_count": 30,
     "metadata": {},
     "output_type": "execute_result"
    }
   ],
   "source": [
    "df[df[\"InvestmentnType\"] == \"Bridge\"]"
   ]
  },
  {
   "cell_type": "code",
   "execution_count": 31,
   "metadata": {
    "ExecuteTime": {
     "end_time": "2024-05-19T07:29:21.628881Z",
     "start_time": "2024-05-19T07:29:21.624193Z"
    }
   },
   "outputs": [],
   "source": [
    "df.drop([91],inplace=True)"
   ]
  },
  {
   "cell_type": "code",
   "execution_count": 32,
   "metadata": {
    "ExecuteTime": {
     "end_time": "2024-05-19T07:29:21.636125Z",
     "start_time": "2024-05-19T07:29:21.629890Z"
    }
   },
   "outputs": [
    {
     "data": {
      "text/plain": [
       "InvestmentnType\n",
       "Angel         2.998675e+05\n",
       "Corporate     3.808000e+07\n",
       "Debt          6.540118e+06\n",
       "Equity        4.400000e+07\n",
       "Funding       1.000000e+09\n",
       "Inhouse       2.443495e+06\n",
       "Maiden        4.500000e+06\n",
       "Mezzanine     1.000000e+06\n",
       "Pre-Series    5.546500e+06\n",
       "Private       2.579343e+07\n",
       "Seed          1.284952e+06\n",
       "Series        1.057883e+08\n",
       "Single        1.400000e+08\n",
       "Structured    8.600000e+06\n",
       "Term          6.240000e+06\n",
       "Venture       6.956200e+06\n",
       "Name: Amount_in_USD, dtype: float64"
      ]
     },
     "execution_count": 32,
     "metadata": {},
     "output_type": "execute_result"
    }
   ],
   "source": [
    "df.groupby(\"InvestmentnType\")[\"Amount_in_USD\"].mean()"
   ]
  },
  {
   "cell_type": "code",
   "execution_count": 33,
   "metadata": {
    "ExecuteTime": {
     "end_time": "2024-05-19T07:29:21.644694Z",
     "start_time": "2024-05-19T07:29:21.637131Z"
    }
   },
   "outputs": [],
   "source": [
    "df.Amount_in_USD.fillna(df.groupby(\"InvestmentnType\")[\"Amount_in_USD\"].transform(lambda x : x.mean()),inplace=True)"
   ]
  },
  {
   "cell_type": "code",
   "execution_count": 34,
   "metadata": {
    "ExecuteTime": {
     "end_time": "2024-05-19T07:29:21.649613Z",
     "start_time": "2024-05-19T07:29:21.645703Z"
    }
   },
   "outputs": [
    {
     "data": {
      "text/plain": [
       "(array([1594, 1899], dtype=int64),)"
      ]
     },
     "execution_count": 34,
     "metadata": {},
     "output_type": "execute_result"
    }
   ],
   "source": [
    "np.where(df.City.isna())"
   ]
  },
  {
   "cell_type": "code",
   "execution_count": 35,
   "metadata": {
    "ExecuteTime": {
     "end_time": "2024-05-19T07:29:21.655252Z",
     "start_time": "2024-05-19T07:29:21.650620Z"
    }
   },
   "outputs": [
    {
     "data": {
      "text/plain": [
       "City\n",
       "Bangalore           637\n",
       "Mumbai              515\n",
       "New Delhi           365\n",
       "Gurgaon             263\n",
       "Bengaluru           140\n",
       "                   ... \n",
       "Palo Alto             1\n",
       "Hubli                 1\n",
       "Kerala                1\n",
       "Kozhikode             1\n",
       "\\\\xc2\\\\xa0Mumbai      1\n",
       "Name: count, Length: 106, dtype: int64"
      ]
     },
     "execution_count": 35,
     "metadata": {},
     "output_type": "execute_result"
    }
   ],
   "source": [
    "df.City.value_counts()"
   ]
  },
  {
   "cell_type": "code",
   "execution_count": 36,
   "metadata": {
    "ExecuteTime": {
     "end_time": "2024-05-19T07:29:21.665065Z",
     "start_time": "2024-05-19T07:29:21.656264Z"
    }
   },
   "outputs": [
    {
     "data": {
      "text/html": [
       "<div>\n",
       "<style scoped>\n",
       "    .dataframe tbody tr th:only-of-type {\n",
       "        vertical-align: middle;\n",
       "    }\n",
       "\n",
       "    .dataframe tbody tr th {\n",
       "        vertical-align: top;\n",
       "    }\n",
       "\n",
       "    .dataframe thead th {\n",
       "        text-align: right;\n",
       "    }\n",
       "</style>\n",
       "<table border=\"1\" class=\"dataframe\">\n",
       "  <thead>\n",
       "    <tr style=\"text-align: right;\">\n",
       "      <th></th>\n",
       "      <th>Date</th>\n",
       "      <th>Startup_Name</th>\n",
       "      <th>Industry_Vertical</th>\n",
       "      <th>SubVertical</th>\n",
       "      <th>City</th>\n",
       "      <th>Investors_Name</th>\n",
       "      <th>InvestmentnType</th>\n",
       "      <th>Amount_in_USD</th>\n",
       "    </tr>\n",
       "  </thead>\n",
       "  <tbody>\n",
       "    <tr>\n",
       "      <th>1594</th>\n",
       "      <td>2016-06-13</td>\n",
       "      <td>Bombay Shirt Company</td>\n",
       "      <td>eCommerce</td>\n",
       "      <td>Online custom Shirt retailer</td>\n",
       "      <td>Mumbai</td>\n",
       "      <td>undisclosed investor</td>\n",
       "      <td>Private</td>\n",
       "      <td>1.000000e+06</td>\n",
       "    </tr>\n",
       "    <tr>\n",
       "      <th>1595</th>\n",
       "      <td>2016-06-13</td>\n",
       "      <td>Matrubharti</td>\n",
       "      <td>Consumer Internet</td>\n",
       "      <td>e-Book Publisher</td>\n",
       "      <td>NaN</td>\n",
       "      <td>Viridian Capital</td>\n",
       "      <td>Seed</td>\n",
       "      <td>3.000000e+04</td>\n",
       "    </tr>\n",
       "    <tr>\n",
       "      <th>1596</th>\n",
       "      <td>2016-06-14</td>\n",
       "      <td>EdTechReview</td>\n",
       "      <td>Consumer Internet</td>\n",
       "      <td>Education based online portal</td>\n",
       "      <td>New Delhi</td>\n",
       "      <td>EVC Ventures</td>\n",
       "      <td>Seed</td>\n",
       "      <td>1.284952e+06</td>\n",
       "    </tr>\n",
       "    <tr>\n",
       "      <th>1899</th>\n",
       "      <td>2016-02-02</td>\n",
       "      <td>Strike</td>\n",
       "      <td>Consumer Internet</td>\n",
       "      <td>Mobile Email productivity tool</td>\n",
       "      <td>Bangalore</td>\n",
       "      <td>Multiple investors through Ten Minute Million ...</td>\n",
       "      <td>Seed</td>\n",
       "      <td>2.250000e+04</td>\n",
       "    </tr>\n",
       "    <tr>\n",
       "      <th>1900</th>\n",
       "      <td>2016-02-02</td>\n",
       "      <td>MaaxMarket</td>\n",
       "      <td>Consumer Internet</td>\n",
       "      <td>Marketing Automation platform</td>\n",
       "      <td>NaN</td>\n",
       "      <td>Multiple investors through Ten Minute Million ...</td>\n",
       "      <td>Seed</td>\n",
       "      <td>2.250000e+04</td>\n",
       "    </tr>\n",
       "    <tr>\n",
       "      <th>1901</th>\n",
       "      <td>2016-02-02</td>\n",
       "      <td>Gamooz</td>\n",
       "      <td>Technology</td>\n",
       "      <td>Augmented Reality Solutions</td>\n",
       "      <td>Gurgaon</td>\n",
       "      <td>Multiple investors through Ten Minute Million ...</td>\n",
       "      <td>Seed</td>\n",
       "      <td>2.250000e+04</td>\n",
       "    </tr>\n",
       "  </tbody>\n",
       "</table>\n",
       "</div>"
      ],
      "text/plain": [
       "           Date          Startup_Name  Industry_Vertical  \\\n",
       "1594 2016-06-13  Bombay Shirt Company          eCommerce   \n",
       "1595 2016-06-13           Matrubharti  Consumer Internet   \n",
       "1596 2016-06-14          EdTechReview  Consumer Internet   \n",
       "1899 2016-02-02                Strike  Consumer Internet   \n",
       "1900 2016-02-02            MaaxMarket  Consumer Internet   \n",
       "1901 2016-02-02                Gamooz         Technology   \n",
       "\n",
       "                         SubVertical       City  \\\n",
       "1594    Online custom Shirt retailer     Mumbai   \n",
       "1595                e-Book Publisher        NaN   \n",
       "1596   Education based online portal  New Delhi   \n",
       "1899  Mobile Email productivity tool  Bangalore   \n",
       "1900   Marketing Automation platform        NaN   \n",
       "1901     Augmented Reality Solutions    Gurgaon   \n",
       "\n",
       "                                         Investors_Name InvestmentnType  \\\n",
       "1594                               undisclosed investor         Private   \n",
       "1595                                   Viridian Capital            Seed   \n",
       "1596                                       EVC Ventures            Seed   \n",
       "1899  Multiple investors through Ten Minute Million ...            Seed   \n",
       "1900  Multiple investors through Ten Minute Million ...            Seed   \n",
       "1901  Multiple investors through Ten Minute Million ...            Seed   \n",
       "\n",
       "      Amount_in_USD  \n",
       "1594   1.000000e+06  \n",
       "1595   3.000000e+04  \n",
       "1596   1.284952e+06  \n",
       "1899   2.250000e+04  \n",
       "1900   2.250000e+04  \n",
       "1901   2.250000e+04  "
      ]
     },
     "execution_count": 36,
     "metadata": {},
     "output_type": "execute_result"
    }
   ],
   "source": [
    "df.iloc[[1593,1594,1595,1898,1899,1900]]"
   ]
  },
  {
   "cell_type": "code",
   "execution_count": 37,
   "metadata": {
    "ExecuteTime": {
     "end_time": "2024-05-19T07:29:21.669705Z",
     "start_time": "2024-05-19T07:29:21.666082Z"
    }
   },
   "outputs": [],
   "source": [
    "df.City.fillna(method=\"ffill\",inplace=True)"
   ]
  },
  {
   "cell_type": "code",
   "execution_count": 38,
   "metadata": {
    "ExecuteTime": {
     "end_time": "2024-05-19T07:29:21.674968Z",
     "start_time": "2024-05-19T07:29:21.670719Z"
    }
   },
   "outputs": [
    {
     "data": {
      "text/plain": [
       "(array([ 13,  46, 153, 167, 177, 179, 187, 207, 258, 281, 288, 304, 342,\n",
       "        393, 455], dtype=int64),)"
      ]
     },
     "execution_count": 38,
     "metadata": {},
     "output_type": "execute_result"
    }
   ],
   "source": [
    "np.where(df.Investors_Name.isna())"
   ]
  },
  {
   "cell_type": "code",
   "execution_count": 39,
   "metadata": {
    "ExecuteTime": {
     "end_time": "2024-05-19T07:29:21.685187Z",
     "start_time": "2024-05-19T07:29:21.675986Z"
    }
   },
   "outputs": [
    {
     "data": {
      "text/html": [
       "<div>\n",
       "<style scoped>\n",
       "    .dataframe tbody tr th:only-of-type {\n",
       "        vertical-align: middle;\n",
       "    }\n",
       "\n",
       "    .dataframe tbody tr th {\n",
       "        vertical-align: top;\n",
       "    }\n",
       "\n",
       "    .dataframe thead th {\n",
       "        text-align: right;\n",
       "    }\n",
       "</style>\n",
       "<table border=\"1\" class=\"dataframe\">\n",
       "  <thead>\n",
       "    <tr style=\"text-align: right;\">\n",
       "      <th></th>\n",
       "      <th>Date</th>\n",
       "      <th>Startup_Name</th>\n",
       "      <th>Industry_Vertical</th>\n",
       "      <th>SubVertical</th>\n",
       "      <th>City</th>\n",
       "      <th>Investors_Name</th>\n",
       "      <th>InvestmentnType</th>\n",
       "      <th>Amount_in_USD</th>\n",
       "    </tr>\n",
       "  </thead>\n",
       "  <tbody>\n",
       "    <tr>\n",
       "      <th>13</th>\n",
       "      <td>2019-12-16</td>\n",
       "      <td>InCred</td>\n",
       "      <td>Finance</td>\n",
       "      <td>Non-Banking Financial Company</td>\n",
       "      <td>Mumbai</td>\n",
       "      <td>NaN</td>\n",
       "      <td>Debt</td>\n",
       "      <td>5900000.0</td>\n",
       "    </tr>\n",
       "    <tr>\n",
       "      <th>46</th>\n",
       "      <td>2019-08-01</td>\n",
       "      <td>MyPetrolPump</td>\n",
       "      <td>Retail</td>\n",
       "      <td>Fuel Delivery</td>\n",
       "      <td>Bengaluru</td>\n",
       "      <td>NaN</td>\n",
       "      <td>Seed</td>\n",
       "      <td>1600000.0</td>\n",
       "    </tr>\n",
       "    <tr>\n",
       "      <th>154</th>\n",
       "      <td>2018-09-04</td>\n",
       "      <td>3HCare</td>\n",
       "      <td>Healthcare</td>\n",
       "      <td>Healthcare Service Provider</td>\n",
       "      <td>Delhi</td>\n",
       "      <td>NaN</td>\n",
       "      <td>Seed</td>\n",
       "      <td>1000000.0</td>\n",
       "    </tr>\n",
       "    <tr>\n",
       "      <th>168</th>\n",
       "      <td>2018-08-07</td>\n",
       "      <td>My OmNamo</td>\n",
       "      <td>Consumer Internet</td>\n",
       "      <td>Holy Platform Offering Customised Puja Package...</td>\n",
       "      <td>Mumbai</td>\n",
       "      <td>NaN</td>\n",
       "      <td>Seed</td>\n",
       "      <td>1000000.0</td>\n",
       "    </tr>\n",
       "    <tr>\n",
       "      <th>178</th>\n",
       "      <td>2018-08-16</td>\n",
       "      <td>Enakshi</td>\n",
       "      <td>Consumer Internet</td>\n",
       "      <td>AI Based Solutions Platform</td>\n",
       "      <td>Ahemadabad</td>\n",
       "      <td>NaN</td>\n",
       "      <td>Seed</td>\n",
       "      <td>114811.0</td>\n",
       "    </tr>\n",
       "    <tr>\n",
       "      <th>180</th>\n",
       "      <td>2018-08-20</td>\n",
       "      <td>Finzy</td>\n",
       "      <td>Finance</td>\n",
       "      <td>Online Loan Matchmaking Platform</td>\n",
       "      <td>Bengaluru</td>\n",
       "      <td>NaN</td>\n",
       "      <td>Seed</td>\n",
       "      <td>1000000.0</td>\n",
       "    </tr>\n",
       "    <tr>\n",
       "      <th>188</th>\n",
       "      <td>2018-08-30</td>\n",
       "      <td>True North</td>\n",
       "      <td>Finance</td>\n",
       "      <td>Private Equity Firm</td>\n",
       "      <td>Mumbai</td>\n",
       "      <td>NaN</td>\n",
       "      <td>Private</td>\n",
       "      <td>600000000.0</td>\n",
       "    </tr>\n",
       "    <tr>\n",
       "      <th>208</th>\n",
       "      <td>2018-07-20</td>\n",
       "      <td>HousingMan</td>\n",
       "      <td>Consumer Internet</td>\n",
       "      <td>Property Discovery Platform</td>\n",
       "      <td>Bengaluru</td>\n",
       "      <td>NaN</td>\n",
       "      <td>Seed</td>\n",
       "      <td>1500000.0</td>\n",
       "    </tr>\n",
       "    <tr>\n",
       "      <th>259</th>\n",
       "      <td>2018-05-07</td>\n",
       "      <td>PaisaDukan</td>\n",
       "      <td>Consumer Internet</td>\n",
       "      <td>P2P Lending Platform</td>\n",
       "      <td>Mumbai</td>\n",
       "      <td>NaN</td>\n",
       "      <td>Seed</td>\n",
       "      <td>225000.0</td>\n",
       "    </tr>\n",
       "    <tr>\n",
       "      <th>282</th>\n",
       "      <td>2018-04-02</td>\n",
       "      <td>Finzy</td>\n",
       "      <td>Consumer Internet</td>\n",
       "      <td>Online Loan Matchmaking Platform</td>\n",
       "      <td>Bengaluru</td>\n",
       "      <td>NaN</td>\n",
       "      <td>Seed</td>\n",
       "      <td>1300000.0</td>\n",
       "    </tr>\n",
       "    <tr>\n",
       "      <th>289</th>\n",
       "      <td>2018-04-09</td>\n",
       "      <td>Kriger Campus</td>\n",
       "      <td>Ed-Tech</td>\n",
       "      <td>Mobile-Based Education Network</td>\n",
       "      <td>Delhi</td>\n",
       "      <td>NaN</td>\n",
       "      <td>Seed</td>\n",
       "      <td>46140.0</td>\n",
       "    </tr>\n",
       "    <tr>\n",
       "      <th>305</th>\n",
       "      <td>2018-04-23</td>\n",
       "      <td>Mihuru</td>\n",
       "      <td>Finance</td>\n",
       "      <td>Online Platform Providing Micro Loans For Air ...</td>\n",
       "      <td>Mumbai</td>\n",
       "      <td>NaN</td>\n",
       "      <td>Seed</td>\n",
       "      <td>150000.0</td>\n",
       "    </tr>\n",
       "    <tr>\n",
       "      <th>343</th>\n",
       "      <td>2018-03-28</td>\n",
       "      <td>Roadcast</td>\n",
       "      <td>Technology</td>\n",
       "      <td>Fleet management and asset monitoring platform</td>\n",
       "      <td>Delhi</td>\n",
       "      <td>NaN</td>\n",
       "      <td>Private</td>\n",
       "      <td>250000.0</td>\n",
       "    </tr>\n",
       "    <tr>\n",
       "      <th>394</th>\n",
       "      <td>2018-01-09</td>\n",
       "      <td>Kinsane Entertainment Inc</td>\n",
       "      <td>Entertainment</td>\n",
       "      <td>Digital Entertainment for Children</td>\n",
       "      <td>Mumbai</td>\n",
       "      <td>NaN</td>\n",
       "      <td>Seed</td>\n",
       "      <td>2500000.0</td>\n",
       "    </tr>\n",
       "    <tr>\n",
       "      <th>456</th>\n",
       "      <td>2017-12-15</td>\n",
       "      <td>Cash Suvidha</td>\n",
       "      <td>E-Commerce</td>\n",
       "      <td>Online Micro-Lending Platform</td>\n",
       "      <td>Delhi</td>\n",
       "      <td>NaN</td>\n",
       "      <td>Debt</td>\n",
       "      <td>2700000.0</td>\n",
       "    </tr>\n",
       "  </tbody>\n",
       "</table>\n",
       "</div>"
      ],
      "text/plain": [
       "          Date               Startup_Name  Industry_Vertical  \\\n",
       "13  2019-12-16                     InCred            Finance   \n",
       "46  2019-08-01               MyPetrolPump             Retail   \n",
       "154 2018-09-04                     3HCare         Healthcare   \n",
       "168 2018-08-07                  My OmNamo  Consumer Internet   \n",
       "178 2018-08-16                    Enakshi  Consumer Internet   \n",
       "180 2018-08-20                      Finzy            Finance   \n",
       "188 2018-08-30                 True North            Finance   \n",
       "208 2018-07-20                 HousingMan  Consumer Internet   \n",
       "259 2018-05-07                 PaisaDukan  Consumer Internet   \n",
       "282 2018-04-02                      Finzy  Consumer Internet   \n",
       "289 2018-04-09              Kriger Campus            Ed-Tech   \n",
       "305 2018-04-23                     Mihuru            Finance   \n",
       "343 2018-03-28                   Roadcast         Technology   \n",
       "394 2018-01-09  Kinsane Entertainment Inc      Entertainment   \n",
       "456 2017-12-15               Cash Suvidha         E-Commerce   \n",
       "\n",
       "                                           SubVertical        City  \\\n",
       "13                       Non-Banking Financial Company      Mumbai   \n",
       "46                                       Fuel Delivery   Bengaluru   \n",
       "154                        Healthcare Service Provider       Delhi   \n",
       "168  Holy Platform Offering Customised Puja Package...      Mumbai   \n",
       "178                        AI Based Solutions Platform  Ahemadabad   \n",
       "180                   Online Loan Matchmaking Platform   Bengaluru   \n",
       "188                                Private Equity Firm      Mumbai   \n",
       "208                        Property Discovery Platform   Bengaluru   \n",
       "259                               P2P Lending Platform      Mumbai   \n",
       "282                   Online Loan Matchmaking Platform   Bengaluru   \n",
       "289                     Mobile-Based Education Network       Delhi   \n",
       "305  Online Platform Providing Micro Loans For Air ...      Mumbai   \n",
       "343     Fleet management and asset monitoring platform       Delhi   \n",
       "394                 Digital Entertainment for Children      Mumbai   \n",
       "456                      Online Micro-Lending Platform       Delhi   \n",
       "\n",
       "    Investors_Name InvestmentnType  Amount_in_USD  \n",
       "13             NaN            Debt      5900000.0  \n",
       "46             NaN            Seed      1600000.0  \n",
       "154            NaN            Seed      1000000.0  \n",
       "168            NaN            Seed      1000000.0  \n",
       "178            NaN            Seed       114811.0  \n",
       "180            NaN            Seed      1000000.0  \n",
       "188            NaN         Private    600000000.0  \n",
       "208            NaN            Seed      1500000.0  \n",
       "259            NaN            Seed       225000.0  \n",
       "282            NaN            Seed      1300000.0  \n",
       "289            NaN            Seed        46140.0  \n",
       "305            NaN            Seed       150000.0  \n",
       "343            NaN         Private       250000.0  \n",
       "394            NaN            Seed      2500000.0  \n",
       "456            NaN            Debt      2700000.0  "
      ]
     },
     "execution_count": 39,
     "metadata": {},
     "output_type": "execute_result"
    }
   ],
   "source": [
    "df.iloc[[ 13,  46, 153, 167, 177, 179, 187, 207, 258, 281, 288, 304, 342,\n",
    "        393, 455]]"
   ]
  },
  {
   "cell_type": "code",
   "execution_count": 40,
   "metadata": {
    "ExecuteTime": {
     "end_time": "2024-05-19T07:29:21.689620Z",
     "start_time": "2024-05-19T07:29:21.686209Z"
    }
   },
   "outputs": [],
   "source": [
    "df.Investors_Name.fillna(\"Unknown\", inplace = True)"
   ]
  },
  {
   "cell_type": "code",
   "execution_count": 41,
   "metadata": {
    "ExecuteTime": {
     "end_time": "2024-05-19T07:29:21.697199Z",
     "start_time": "2024-05-19T07:29:21.694175Z"
    }
   },
   "outputs": [],
   "source": [
    "df['SubVertical'].fillna(\"Not Specified\", inplace=True)"
   ]
  },
  {
   "cell_type": "code",
   "execution_count": 42,
   "metadata": {
    "ExecuteTime": {
     "end_time": "2024-05-19T07:29:21.704546Z",
     "start_time": "2024-05-19T07:29:21.699207Z"
    }
   },
   "outputs": [
    {
     "data": {
      "text/plain": [
       "'Seed'"
      ]
     },
     "execution_count": 42,
     "metadata": {},
     "output_type": "execute_result"
    }
   ],
   "source": [
    "df['InvestmentnType'].mode()[0]"
   ]
  },
  {
   "cell_type": "code",
   "execution_count": 43,
   "metadata": {
    "ExecuteTime": {
     "end_time": "2024-05-19T07:29:21.709544Z",
     "start_time": "2024-05-19T07:29:21.705551Z"
    }
   },
   "outputs": [],
   "source": [
    "df['InvestmentnType'].fillna(df['InvestmentnType'].mode()[0], inplace=True)"
   ]
  },
  {
   "cell_type": "code",
   "execution_count": 44,
   "metadata": {
    "ExecuteTime": {
     "end_time": "2024-05-19T07:29:21.730142Z",
     "start_time": "2024-05-19T07:29:21.710549Z"
    }
   },
   "outputs": [
    {
     "data": {
      "text/html": [
       "<div>\n",
       "<style scoped>\n",
       "    .dataframe tbody tr th:only-of-type {\n",
       "        vertical-align: middle;\n",
       "    }\n",
       "\n",
       "    .dataframe tbody tr th {\n",
       "        vertical-align: top;\n",
       "    }\n",
       "\n",
       "    .dataframe thead th {\n",
       "        text-align: right;\n",
       "    }\n",
       "</style>\n",
       "<table border=\"1\" class=\"dataframe\">\n",
       "  <thead>\n",
       "    <tr style=\"text-align: right;\">\n",
       "      <th></th>\n",
       "      <th>Date</th>\n",
       "      <th>Startup_Name</th>\n",
       "      <th>Industry_Vertical</th>\n",
       "      <th>SubVertical</th>\n",
       "      <th>City</th>\n",
       "      <th>Investors_Name</th>\n",
       "      <th>InvestmentnType</th>\n",
       "      <th>Amount_in_USD</th>\n",
       "      <th>year</th>\n",
       "    </tr>\n",
       "  </thead>\n",
       "  <tbody>\n",
       "    <tr>\n",
       "      <th>0</th>\n",
       "      <td>2020-01-09</td>\n",
       "      <td>BYJU’S</td>\n",
       "      <td>E-Tech</td>\n",
       "      <td>E-learning</td>\n",
       "      <td>Bengaluru</td>\n",
       "      <td>Tiger Global Management</td>\n",
       "      <td>Private</td>\n",
       "      <td>200000000.0</td>\n",
       "      <td>2020</td>\n",
       "    </tr>\n",
       "    <tr>\n",
       "      <th>1</th>\n",
       "      <td>2020-01-13</td>\n",
       "      <td>Shuttl</td>\n",
       "      <td>Transportation</td>\n",
       "      <td>App based shuttle service</td>\n",
       "      <td>Gurgaon</td>\n",
       "      <td>Susquehanna Growth Equity</td>\n",
       "      <td>Series</td>\n",
       "      <td>8048394.0</td>\n",
       "      <td>2020</td>\n",
       "    </tr>\n",
       "    <tr>\n",
       "      <th>2</th>\n",
       "      <td>2020-01-09</td>\n",
       "      <td>Mamaearth</td>\n",
       "      <td>E-commerce</td>\n",
       "      <td>Retailer of baby and toddler products</td>\n",
       "      <td>Bengaluru</td>\n",
       "      <td>Sequoia Capital India</td>\n",
       "      <td>Series</td>\n",
       "      <td>18358860.0</td>\n",
       "      <td>2020</td>\n",
       "    </tr>\n",
       "    <tr>\n",
       "      <th>3</th>\n",
       "      <td>2020-01-02</td>\n",
       "      <td>https://www.wealthbucket.in/</td>\n",
       "      <td>FinTech</td>\n",
       "      <td>Online Investment</td>\n",
       "      <td>New Delhi</td>\n",
       "      <td>Vinod Khatumal</td>\n",
       "      <td>Pre-Series</td>\n",
       "      <td>3000000.0</td>\n",
       "      <td>2020</td>\n",
       "    </tr>\n",
       "    <tr>\n",
       "      <th>4</th>\n",
       "      <td>2020-01-02</td>\n",
       "      <td>Fashor</td>\n",
       "      <td>Fashion and Apparel</td>\n",
       "      <td>Embroiled Clothes For Women</td>\n",
       "      <td>Mumbai</td>\n",
       "      <td>Sprout Venture Partners</td>\n",
       "      <td>Seed</td>\n",
       "      <td>1800000.0</td>\n",
       "      <td>2020</td>\n",
       "    </tr>\n",
       "  </tbody>\n",
       "</table>\n",
       "</div>"
      ],
      "text/plain": [
       "        Date                  Startup_Name    Industry_Vertical  \\\n",
       "0 2020-01-09                        BYJU’S               E-Tech   \n",
       "1 2020-01-13                        Shuttl       Transportation   \n",
       "2 2020-01-09                     Mamaearth           E-commerce   \n",
       "3 2020-01-02  https://www.wealthbucket.in/              FinTech   \n",
       "4 2020-01-02                        Fashor  Fashion and Apparel   \n",
       "\n",
       "                             SubVertical       City  \\\n",
       "0                             E-learning  Bengaluru   \n",
       "1              App based shuttle service    Gurgaon   \n",
       "2  Retailer of baby and toddler products  Bengaluru   \n",
       "3                      Online Investment  New Delhi   \n",
       "4            Embroiled Clothes For Women     Mumbai   \n",
       "\n",
       "              Investors_Name InvestmentnType  Amount_in_USD  year  \n",
       "0    Tiger Global Management         Private    200000000.0  2020  \n",
       "1  Susquehanna Growth Equity          Series      8048394.0  2020  \n",
       "2      Sequoia Capital India          Series     18358860.0  2020  \n",
       "3             Vinod Khatumal      Pre-Series      3000000.0  2020  \n",
       "4    Sprout Venture Partners            Seed      1800000.0  2020  "
      ]
     },
     "execution_count": 44,
     "metadata": {},
     "output_type": "execute_result"
    }
   ],
   "source": [
    "df[\"year\"] = df.Date.dt.strftime(\"%Y\")\n",
    "df.head()"
   ]
  },
  {
   "cell_type": "code",
   "execution_count": 45,
   "metadata": {
    "ExecuteTime": {
     "end_time": "2024-05-19T07:29:21.751365Z",
     "start_time": "2024-05-19T07:29:21.731145Z"
    }
   },
   "outputs": [
    {
     "data": {
      "text/html": [
       "<div>\n",
       "<style scoped>\n",
       "    .dataframe tbody tr th:only-of-type {\n",
       "        vertical-align: middle;\n",
       "    }\n",
       "\n",
       "    .dataframe tbody tr th {\n",
       "        vertical-align: top;\n",
       "    }\n",
       "\n",
       "    .dataframe thead th {\n",
       "        text-align: right;\n",
       "    }\n",
       "</style>\n",
       "<table border=\"1\" class=\"dataframe\">\n",
       "  <thead>\n",
       "    <tr style=\"text-align: right;\">\n",
       "      <th></th>\n",
       "      <th>Date</th>\n",
       "      <th>Startup_Name</th>\n",
       "      <th>Industry_Vertical</th>\n",
       "      <th>SubVertical</th>\n",
       "      <th>City</th>\n",
       "      <th>Investors_Name</th>\n",
       "      <th>InvestmentnType</th>\n",
       "      <th>Amount_in_USD</th>\n",
       "      <th>year</th>\n",
       "      <th>month</th>\n",
       "    </tr>\n",
       "  </thead>\n",
       "  <tbody>\n",
       "    <tr>\n",
       "      <th>0</th>\n",
       "      <td>2020-01-09</td>\n",
       "      <td>BYJU’S</td>\n",
       "      <td>E-Tech</td>\n",
       "      <td>E-learning</td>\n",
       "      <td>Bengaluru</td>\n",
       "      <td>Tiger Global Management</td>\n",
       "      <td>Private</td>\n",
       "      <td>200000000.0</td>\n",
       "      <td>2020</td>\n",
       "      <td>01</td>\n",
       "    </tr>\n",
       "    <tr>\n",
       "      <th>1</th>\n",
       "      <td>2020-01-13</td>\n",
       "      <td>Shuttl</td>\n",
       "      <td>Transportation</td>\n",
       "      <td>App based shuttle service</td>\n",
       "      <td>Gurgaon</td>\n",
       "      <td>Susquehanna Growth Equity</td>\n",
       "      <td>Series</td>\n",
       "      <td>8048394.0</td>\n",
       "      <td>2020</td>\n",
       "      <td>01</td>\n",
       "    </tr>\n",
       "    <tr>\n",
       "      <th>2</th>\n",
       "      <td>2020-01-09</td>\n",
       "      <td>Mamaearth</td>\n",
       "      <td>E-commerce</td>\n",
       "      <td>Retailer of baby and toddler products</td>\n",
       "      <td>Bengaluru</td>\n",
       "      <td>Sequoia Capital India</td>\n",
       "      <td>Series</td>\n",
       "      <td>18358860.0</td>\n",
       "      <td>2020</td>\n",
       "      <td>01</td>\n",
       "    </tr>\n",
       "    <tr>\n",
       "      <th>3</th>\n",
       "      <td>2020-01-02</td>\n",
       "      <td>https://www.wealthbucket.in/</td>\n",
       "      <td>FinTech</td>\n",
       "      <td>Online Investment</td>\n",
       "      <td>New Delhi</td>\n",
       "      <td>Vinod Khatumal</td>\n",
       "      <td>Pre-Series</td>\n",
       "      <td>3000000.0</td>\n",
       "      <td>2020</td>\n",
       "      <td>01</td>\n",
       "    </tr>\n",
       "    <tr>\n",
       "      <th>4</th>\n",
       "      <td>2020-01-02</td>\n",
       "      <td>Fashor</td>\n",
       "      <td>Fashion and Apparel</td>\n",
       "      <td>Embroiled Clothes For Women</td>\n",
       "      <td>Mumbai</td>\n",
       "      <td>Sprout Venture Partners</td>\n",
       "      <td>Seed</td>\n",
       "      <td>1800000.0</td>\n",
       "      <td>2020</td>\n",
       "      <td>01</td>\n",
       "    </tr>\n",
       "  </tbody>\n",
       "</table>\n",
       "</div>"
      ],
      "text/plain": [
       "        Date                  Startup_Name    Industry_Vertical  \\\n",
       "0 2020-01-09                        BYJU’S               E-Tech   \n",
       "1 2020-01-13                        Shuttl       Transportation   \n",
       "2 2020-01-09                     Mamaearth           E-commerce   \n",
       "3 2020-01-02  https://www.wealthbucket.in/              FinTech   \n",
       "4 2020-01-02                        Fashor  Fashion and Apparel   \n",
       "\n",
       "                             SubVertical       City  \\\n",
       "0                             E-learning  Bengaluru   \n",
       "1              App based shuttle service    Gurgaon   \n",
       "2  Retailer of baby and toddler products  Bengaluru   \n",
       "3                      Online Investment  New Delhi   \n",
       "4            Embroiled Clothes For Women     Mumbai   \n",
       "\n",
       "              Investors_Name InvestmentnType  Amount_in_USD  year month  \n",
       "0    Tiger Global Management         Private    200000000.0  2020    01  \n",
       "1  Susquehanna Growth Equity          Series      8048394.0  2020    01  \n",
       "2      Sequoia Capital India          Series     18358860.0  2020    01  \n",
       "3             Vinod Khatumal      Pre-Series      3000000.0  2020    01  \n",
       "4    Sprout Venture Partners            Seed      1800000.0  2020    01  "
      ]
     },
     "execution_count": 45,
     "metadata": {},
     "output_type": "execute_result"
    }
   ],
   "source": [
    "df[\"month\"] = df.Date.dt.strftime(\"%m\")\n",
    "df.head()"
   ]
  },
  {
   "cell_type": "code",
   "execution_count": 46,
   "metadata": {
    "ExecuteTime": {
     "end_time": "2024-05-19T07:29:21.760952Z",
     "start_time": "2024-05-19T07:29:21.752878Z"
    }
   },
   "outputs": [
    {
     "data": {
      "text/html": [
       "<div>\n",
       "<style scoped>\n",
       "    .dataframe tbody tr th:only-of-type {\n",
       "        vertical-align: middle;\n",
       "    }\n",
       "\n",
       "    .dataframe tbody tr th {\n",
       "        vertical-align: top;\n",
       "    }\n",
       "\n",
       "    .dataframe thead th {\n",
       "        text-align: right;\n",
       "    }\n",
       "</style>\n",
       "<table border=\"1\" class=\"dataframe\">\n",
       "  <thead>\n",
       "    <tr style=\"text-align: right;\">\n",
       "      <th></th>\n",
       "      <th>Date</th>\n",
       "      <th>Startup_Name</th>\n",
       "      <th>Industry_Vertical</th>\n",
       "      <th>SubVertical</th>\n",
       "      <th>City</th>\n",
       "      <th>Investors_Name</th>\n",
       "      <th>InvestmentnType</th>\n",
       "      <th>Amount_in_USD</th>\n",
       "      <th>year</th>\n",
       "      <th>month</th>\n",
       "      <th>Quarter</th>\n",
       "    </tr>\n",
       "  </thead>\n",
       "  <tbody>\n",
       "    <tr>\n",
       "      <th>1200</th>\n",
       "      <td>2016-11-09</td>\n",
       "      <td>IIM Jobs</td>\n",
       "      <td>Consumer Internet</td>\n",
       "      <td>Online Job Portal</td>\n",
       "      <td>New Delhi</td>\n",
       "      <td>India Quotient</td>\n",
       "      <td>Private</td>\n",
       "      <td>2000000.0</td>\n",
       "      <td>2016</td>\n",
       "      <td>11</td>\n",
       "      <td>4</td>\n",
       "    </tr>\n",
       "  </tbody>\n",
       "</table>\n",
       "</div>"
      ],
      "text/plain": [
       "           Date Startup_Name  Industry_Vertical        SubVertical       City  \\\n",
       "1200 2016-11-09     IIM Jobs  Consumer Internet  Online Job Portal  New Delhi   \n",
       "\n",
       "      Investors_Name InvestmentnType  Amount_in_USD  year month  Quarter  \n",
       "1200  India Quotient         Private      2000000.0  2016    11        4  "
      ]
     },
     "execution_count": 46,
     "metadata": {},
     "output_type": "execute_result"
    }
   ],
   "source": [
    "df[\"Quarter\"] = df.Date.dt.quarter\n",
    "df.sample()"
   ]
  },
  {
   "cell_type": "code",
   "execution_count": 47,
   "metadata": {
    "ExecuteTime": {
     "end_time": "2024-05-19T07:29:21.836204Z",
     "start_time": "2024-05-19T07:29:21.762468Z"
    }
   },
   "outputs": [
    {
     "data": {
      "text/html": [
       "<pre style=\"white-space:pre;overflow-x:auto;line-height:normal;font-family:Menlo,'DejaVu Sans Mono',consolas,'Courier New',monospace\">╭──────────────────────────────────────────────── skimpy summary ─────────────────────────────────────────────────╮\n",
       "│ <span style=\"font-style: italic\">         Data Summary         </span> <span style=\"font-style: italic\">      Data Types       </span>                                                          │\n",
       "│ ┏━━━━━━━━━━━━━━━━━━━┳━━━━━━━━┓ ┏━━━━━━━━━━━━━┳━━━━━━━┓                                                          │\n",
       "│ ┃<span style=\"color: #008080; text-decoration-color: #008080; font-weight: bold\"> dataframe         </span>┃<span style=\"color: #008080; text-decoration-color: #008080; font-weight: bold\"> Values </span>┃ ┃<span style=\"color: #008080; text-decoration-color: #008080; font-weight: bold\"> Column Type </span>┃<span style=\"color: #008080; text-decoration-color: #008080; font-weight: bold\"> Count </span>┃                                                          │\n",
       "│ ┡━━━━━━━━━━━━━━━━━━━╇━━━━━━━━┩ ┡━━━━━━━━━━━━━╇━━━━━━━┩                                                          │\n",
       "│ │ Number of rows    │ 2615   │ │ string      │ 8     │                                                          │\n",
       "│ │ Number of columns │ 11     │ │ datetime64  │ 1     │                                                          │\n",
       "│ └───────────────────┴────────┘ │ float64     │ 1     │                                                          │\n",
       "│                                │ int32       │ 1     │                                                          │\n",
       "│                                └─────────────┴───────┘                                                          │\n",
       "│ <span style=\"font-style: italic\">                                                    number                                                    </span>  │\n",
       "│ ┏━━━━━━━━━━━━━┳━━━━┳━━━━━━┳━━━━━━━━━━┳━━━━━━━━━━━┳━━━━━━━┳━━━━━━━━┳━━━━━━━━━┳━━━━━━━━━━┳━━━━━━━━━━━━┳━━━━━━━━┓  │\n",
       "│ ┃<span style=\"font-weight: bold\"> column_name </span>┃<span style=\"font-weight: bold\"> NA </span>┃<span style=\"font-weight: bold\"> NA % </span>┃<span style=\"font-weight: bold\"> mean     </span>┃<span style=\"font-weight: bold\"> sd        </span>┃<span style=\"font-weight: bold\"> p0    </span>┃<span style=\"font-weight: bold\"> p25    </span>┃<span style=\"font-weight: bold\"> p50     </span>┃<span style=\"font-weight: bold\"> p75      </span>┃<span style=\"font-weight: bold\"> p100       </span>┃<span style=\"font-weight: bold\"> hist   </span>┃  │\n",
       "│ ┡━━━━━━━━━━━━━╇━━━━╇━━━━━━╇━━━━━━━━━━╇━━━━━━━━━━━╇━━━━━━━╇━━━━━━━━╇━━━━━━━━━╇━━━━━━━━━━╇━━━━━━━━━━━━╇━━━━━━━━┩  │\n",
       "│ │ <span style=\"color: #af87ff; text-decoration-color: #af87ff\">Amount_in_U</span> │ <span style=\"color: #008080; text-decoration-color: #008080\"> 0</span> │ <span style=\"color: #008080; text-decoration-color: #008080\">   0</span> │ <span style=\"color: #008080; text-decoration-color: #008080\">16000000</span> │ <span style=\"color: #008080; text-decoration-color: #008080\">110000000</span> │ <span style=\"color: #008080; text-decoration-color: #008080\">18000</span> │ <span style=\"color: #008080; text-decoration-color: #008080\">740000</span> │ <span style=\"color: #008080; text-decoration-color: #008080\">1300000</span> │ <span style=\"color: #008080; text-decoration-color: #008080\">10000000</span> │ <span style=\"color: #008080; text-decoration-color: #008080\">3900000000</span> │ <span style=\"color: #008000; text-decoration-color: #008000\">  ▇   </span> │  │\n",
       "│ │ <span style=\"color: #af87ff; text-decoration-color: #af87ff\">SD         </span> │    │      │          │           │       │        │         │          │            │        │  │\n",
       "│ │ <span style=\"color: #af87ff; text-decoration-color: #af87ff\">Quarter    </span> │ <span style=\"color: #008080; text-decoration-color: #008080\"> 0</span> │ <span style=\"color: #008080; text-decoration-color: #008080\">   0</span> │ <span style=\"color: #008080; text-decoration-color: #008080\">     2.5</span> │ <span style=\"color: #008080; text-decoration-color: #008080\">      1.1</span> │ <span style=\"color: #008080; text-decoration-color: #008080\">    1</span> │ <span style=\"color: #008080; text-decoration-color: #008080\">     2</span> │ <span style=\"color: #008080; text-decoration-color: #008080\">      2</span> │ <span style=\"color: #008080; text-decoration-color: #008080\">       3</span> │ <span style=\"color: #008080; text-decoration-color: #008080\">         4</span> │ <span style=\"color: #008000; text-decoration-color: #008000\">▇ ▇ ▇▇</span> │  │\n",
       "│ └─────────────┴────┴──────┴──────────┴───────────┴───────┴────────┴─────────┴──────────┴────────────┴────────┘  │\n",
       "│ <span style=\"font-style: italic\">                                                   datetime                                                   </span>  │\n",
       "│ ┏━━━━━━━━━━━━━━━━━━━━━━━━┳━━━━━━━━┳━━━━━━━━━━━┳━━━━━━━━━━━━━━━━━━━━━┳━━━━━━━━━━━━━━━━━━━━━┳━━━━━━━━━━━━━━━━━━┓  │\n",
       "│ ┃<span style=\"font-weight: bold\"> column_name            </span>┃<span style=\"font-weight: bold\"> NA     </span>┃<span style=\"font-weight: bold\"> NA %      </span>┃<span style=\"font-weight: bold\"> first               </span>┃<span style=\"font-weight: bold\"> last                </span>┃<span style=\"font-weight: bold\"> frequency        </span>┃  │\n",
       "│ ┡━━━━━━━━━━━━━━━━━━━━━━━━╇━━━━━━━━╇━━━━━━━━━━━╇━━━━━━━━━━━━━━━━━━━━━╇━━━━━━━━━━━━━━━━━━━━━╇━━━━━━━━━━━━━━━━━━┩  │\n",
       "│ │ <span style=\"color: #af87ff; text-decoration-color: #af87ff\">Date                  </span> │ <span style=\"color: #008080; text-decoration-color: #008080\">     0</span> │ <span style=\"color: #008080; text-decoration-color: #008080\">        0</span> │ <span style=\"color: #800000; text-decoration-color: #800000\">    2015-04-03     </span> │ <span style=\"color: #800000; text-decoration-color: #800000\">    2020-01-13     </span> │ <span style=\"color: #af87ff; text-decoration-color: #af87ff\">None            </span> │  │\n",
       "│ └────────────────────────┴────────┴───────────┴─────────────────────┴─────────────────────┴──────────────────┘  │\n",
       "│ <span style=\"font-style: italic\">                                                    string                                                    </span>  │\n",
       "│ ┏━━━━━━━━━━━━━━━━━━━━━━━━━━━━━━━━━━━┳━━━━━━━━┳━━━━━━━━━━━┳━━━━━━━━━━━━━━━━━━━━━━━━━━━┳━━━━━━━━━━━━━━━━━━━━━━━┓  │\n",
       "│ ┃<span style=\"font-weight: bold\"> column_name                       </span>┃<span style=\"font-weight: bold\"> NA     </span>┃<span style=\"font-weight: bold\"> NA %      </span>┃<span style=\"font-weight: bold\"> words per row             </span>┃<span style=\"font-weight: bold\"> total words           </span>┃  │\n",
       "│ ┡━━━━━━━━━━━━━━━━━━━━━━━━━━━━━━━━━━━╇━━━━━━━━╇━━━━━━━━━━━╇━━━━━━━━━━━━━━━━━━━━━━━━━━━╇━━━━━━━━━━━━━━━━━━━━━━━┩  │\n",
       "│ │ <span style=\"color: #af87ff; text-decoration-color: #af87ff\">Startup_Name                     </span> │ <span style=\"color: #008080; text-decoration-color: #008080\">     0</span> │ <span style=\"color: #008080; text-decoration-color: #008080\">        0</span> │ <span style=\"color: #008080; text-decoration-color: #008080\">                      1.3</span> │ <span style=\"color: #008080; text-decoration-color: #008080\">                 3354</span> │  │\n",
       "│ │ <span style=\"color: #af87ff; text-decoration-color: #af87ff\">Industry_Vertical                </span> │ <span style=\"color: #008080; text-decoration-color: #008080\">     0</span> │ <span style=\"color: #008080; text-decoration-color: #008080\">        0</span> │ <span style=\"color: #008080; text-decoration-color: #008080\">                        2</span> │ <span style=\"color: #008080; text-decoration-color: #008080\">                 5107</span> │  │\n",
       "│ │ <span style=\"color: #af87ff; text-decoration-color: #af87ff\">SubVertical                      </span> │ <span style=\"color: #008080; text-decoration-color: #008080\">     0</span> │ <span style=\"color: #008080; text-decoration-color: #008080\">        0</span> │ <span style=\"color: #008080; text-decoration-color: #008080\">                      3.6</span> │ <span style=\"color: #008080; text-decoration-color: #008080\">                 9324</span> │  │\n",
       "│ │ <span style=\"color: #af87ff; text-decoration-color: #af87ff\">City                             </span> │ <span style=\"color: #008080; text-decoration-color: #008080\">     0</span> │ <span style=\"color: #008080; text-decoration-color: #008080\">        0</span> │ <span style=\"color: #008080; text-decoration-color: #008080\">                      1.2</span> │ <span style=\"color: #008080; text-decoration-color: #008080\">                 3045</span> │  │\n",
       "│ │ <span style=\"color: #af87ff; text-decoration-color: #af87ff\">Investors_Name                   </span> │ <span style=\"color: #008080; text-decoration-color: #008080\">     0</span> │ <span style=\"color: #008080; text-decoration-color: #008080\">        0</span> │ <span style=\"color: #008080; text-decoration-color: #008080\">                      4.7</span> │ <span style=\"color: #008080; text-decoration-color: #008080\">                12179</span> │  │\n",
       "│ │ <span style=\"color: #af87ff; text-decoration-color: #af87ff\">InvestmentnType                  </span> │ <span style=\"color: #008080; text-decoration-color: #008080\">     0</span> │ <span style=\"color: #008080; text-decoration-color: #008080\">        0</span> │ <span style=\"color: #008080; text-decoration-color: #008080\">                        1</span> │ <span style=\"color: #008080; text-decoration-color: #008080\">                 2615</span> │  │\n",
       "│ │ <span style=\"color: #af87ff; text-decoration-color: #af87ff\">year                             </span> │ <span style=\"color: #008080; text-decoration-color: #008080\">     0</span> │ <span style=\"color: #008080; text-decoration-color: #008080\">        0</span> │ <span style=\"color: #008080; text-decoration-color: #008080\">                        1</span> │ <span style=\"color: #008080; text-decoration-color: #008080\">                 2615</span> │  │\n",
       "│ │ <span style=\"color: #af87ff; text-decoration-color: #af87ff\">month                            </span> │ <span style=\"color: #008080; text-decoration-color: #008080\">     0</span> │ <span style=\"color: #008080; text-decoration-color: #008080\">        0</span> │ <span style=\"color: #008080; text-decoration-color: #008080\">                        1</span> │ <span style=\"color: #008080; text-decoration-color: #008080\">                 2615</span> │  │\n",
       "│ └───────────────────────────────────┴────────┴───────────┴───────────────────────────┴───────────────────────┘  │\n",
       "╰────────────────────────────────────────────────────── End ──────────────────────────────────────────────────────╯\n",
       "</pre>\n"
      ],
      "text/plain": [
       "╭──────────────────────────────────────────────── skimpy summary ─────────────────────────────────────────────────╮\n",
       "│ \u001b[3m         Data Summary         \u001b[0m \u001b[3m      Data Types       \u001b[0m                                                          │\n",
       "│ ┏━━━━━━━━━━━━━━━━━━━┳━━━━━━━━┓ ┏━━━━━━━━━━━━━┳━━━━━━━┓                                                          │\n",
       "│ ┃\u001b[1;36m \u001b[0m\u001b[1;36mdataframe        \u001b[0m\u001b[1;36m \u001b[0m┃\u001b[1;36m \u001b[0m\u001b[1;36mValues\u001b[0m\u001b[1;36m \u001b[0m┃ ┃\u001b[1;36m \u001b[0m\u001b[1;36mColumn Type\u001b[0m\u001b[1;36m \u001b[0m┃\u001b[1;36m \u001b[0m\u001b[1;36mCount\u001b[0m\u001b[1;36m \u001b[0m┃                                                          │\n",
       "│ ┡━━━━━━━━━━━━━━━━━━━╇━━━━━━━━┩ ┡━━━━━━━━━━━━━╇━━━━━━━┩                                                          │\n",
       "│ │ Number of rows    │ 2615   │ │ string      │ 8     │                                                          │\n",
       "│ │ Number of columns │ 11     │ │ datetime64  │ 1     │                                                          │\n",
       "│ └───────────────────┴────────┘ │ float64     │ 1     │                                                          │\n",
       "│                                │ int32       │ 1     │                                                          │\n",
       "│                                └─────────────┴───────┘                                                          │\n",
       "│ \u001b[3m                                                    number                                                    \u001b[0m  │\n",
       "│ ┏━━━━━━━━━━━━━┳━━━━┳━━━━━━┳━━━━━━━━━━┳━━━━━━━━━━━┳━━━━━━━┳━━━━━━━━┳━━━━━━━━━┳━━━━━━━━━━┳━━━━━━━━━━━━┳━━━━━━━━┓  │\n",
       "│ ┃\u001b[1m \u001b[0m\u001b[1mcolumn_name\u001b[0m\u001b[1m \u001b[0m┃\u001b[1m \u001b[0m\u001b[1mNA\u001b[0m\u001b[1m \u001b[0m┃\u001b[1m \u001b[0m\u001b[1mNA %\u001b[0m\u001b[1m \u001b[0m┃\u001b[1m \u001b[0m\u001b[1mmean    \u001b[0m\u001b[1m \u001b[0m┃\u001b[1m \u001b[0m\u001b[1msd       \u001b[0m\u001b[1m \u001b[0m┃\u001b[1m \u001b[0m\u001b[1mp0   \u001b[0m\u001b[1m \u001b[0m┃\u001b[1m \u001b[0m\u001b[1mp25   \u001b[0m\u001b[1m \u001b[0m┃\u001b[1m \u001b[0m\u001b[1mp50    \u001b[0m\u001b[1m \u001b[0m┃\u001b[1m \u001b[0m\u001b[1mp75     \u001b[0m\u001b[1m \u001b[0m┃\u001b[1m \u001b[0m\u001b[1mp100      \u001b[0m\u001b[1m \u001b[0m┃\u001b[1m \u001b[0m\u001b[1mhist  \u001b[0m\u001b[1m \u001b[0m┃  │\n",
       "│ ┡━━━━━━━━━━━━━╇━━━━╇━━━━━━╇━━━━━━━━━━╇━━━━━━━━━━━╇━━━━━━━╇━━━━━━━━╇━━━━━━━━━╇━━━━━━━━━━╇━━━━━━━━━━━━╇━━━━━━━━┩  │\n",
       "│ │ \u001b[38;5;141mAmount_in_U\u001b[0m │ \u001b[36m 0\u001b[0m │ \u001b[36m   0\u001b[0m │ \u001b[36m16000000\u001b[0m │ \u001b[36m110000000\u001b[0m │ \u001b[36m18000\u001b[0m │ \u001b[36m740000\u001b[0m │ \u001b[36m1300000\u001b[0m │ \u001b[36m10000000\u001b[0m │ \u001b[36m3900000000\u001b[0m │ \u001b[32m  ▇   \u001b[0m │  │\n",
       "│ │ \u001b[38;5;141mSD         \u001b[0m │    │      │          │           │       │        │         │          │            │        │  │\n",
       "│ │ \u001b[38;5;141mQuarter    \u001b[0m │ \u001b[36m 0\u001b[0m │ \u001b[36m   0\u001b[0m │ \u001b[36m     2.5\u001b[0m │ \u001b[36m      1.1\u001b[0m │ \u001b[36m    1\u001b[0m │ \u001b[36m     2\u001b[0m │ \u001b[36m      2\u001b[0m │ \u001b[36m       3\u001b[0m │ \u001b[36m         4\u001b[0m │ \u001b[32m▇ ▇ ▇▇\u001b[0m │  │\n",
       "│ └─────────────┴────┴──────┴──────────┴───────────┴───────┴────────┴─────────┴──────────┴────────────┴────────┘  │\n",
       "│ \u001b[3m                                                   datetime                                                   \u001b[0m  │\n",
       "│ ┏━━━━━━━━━━━━━━━━━━━━━━━━┳━━━━━━━━┳━━━━━━━━━━━┳━━━━━━━━━━━━━━━━━━━━━┳━━━━━━━━━━━━━━━━━━━━━┳━━━━━━━━━━━━━━━━━━┓  │\n",
       "│ ┃\u001b[1m \u001b[0m\u001b[1mcolumn_name           \u001b[0m\u001b[1m \u001b[0m┃\u001b[1m \u001b[0m\u001b[1mNA    \u001b[0m\u001b[1m \u001b[0m┃\u001b[1m \u001b[0m\u001b[1mNA %     \u001b[0m\u001b[1m \u001b[0m┃\u001b[1m \u001b[0m\u001b[1mfirst              \u001b[0m\u001b[1m \u001b[0m┃\u001b[1m \u001b[0m\u001b[1mlast               \u001b[0m\u001b[1m \u001b[0m┃\u001b[1m \u001b[0m\u001b[1mfrequency       \u001b[0m\u001b[1m \u001b[0m┃  │\n",
       "│ ┡━━━━━━━━━━━━━━━━━━━━━━━━╇━━━━━━━━╇━━━━━━━━━━━╇━━━━━━━━━━━━━━━━━━━━━╇━━━━━━━━━━━━━━━━━━━━━╇━━━━━━━━━━━━━━━━━━┩  │\n",
       "│ │ \u001b[38;5;141mDate                  \u001b[0m │ \u001b[36m     0\u001b[0m │ \u001b[36m        0\u001b[0m │ \u001b[31m    2015-04-03     \u001b[0m │ \u001b[31m    2020-01-13     \u001b[0m │ \u001b[38;5;141mNone            \u001b[0m │  │\n",
       "│ └────────────────────────┴────────┴───────────┴─────────────────────┴─────────────────────┴──────────────────┘  │\n",
       "│ \u001b[3m                                                    string                                                    \u001b[0m  │\n",
       "│ ┏━━━━━━━━━━━━━━━━━━━━━━━━━━━━━━━━━━━┳━━━━━━━━┳━━━━━━━━━━━┳━━━━━━━━━━━━━━━━━━━━━━━━━━━┳━━━━━━━━━━━━━━━━━━━━━━━┓  │\n",
       "│ ┃\u001b[1m \u001b[0m\u001b[1mcolumn_name                      \u001b[0m\u001b[1m \u001b[0m┃\u001b[1m \u001b[0m\u001b[1mNA    \u001b[0m\u001b[1m \u001b[0m┃\u001b[1m \u001b[0m\u001b[1mNA %     \u001b[0m\u001b[1m \u001b[0m┃\u001b[1m \u001b[0m\u001b[1mwords per row            \u001b[0m\u001b[1m \u001b[0m┃\u001b[1m \u001b[0m\u001b[1mtotal words          \u001b[0m\u001b[1m \u001b[0m┃  │\n",
       "│ ┡━━━━━━━━━━━━━━━━━━━━━━━━━━━━━━━━━━━╇━━━━━━━━╇━━━━━━━━━━━╇━━━━━━━━━━━━━━━━━━━━━━━━━━━╇━━━━━━━━━━━━━━━━━━━━━━━┩  │\n",
       "│ │ \u001b[38;5;141mStartup_Name                     \u001b[0m │ \u001b[36m     0\u001b[0m │ \u001b[36m        0\u001b[0m │ \u001b[36m                      1.3\u001b[0m │ \u001b[36m                 3354\u001b[0m │  │\n",
       "│ │ \u001b[38;5;141mIndustry_Vertical                \u001b[0m │ \u001b[36m     0\u001b[0m │ \u001b[36m        0\u001b[0m │ \u001b[36m                        2\u001b[0m │ \u001b[36m                 5107\u001b[0m │  │\n",
       "│ │ \u001b[38;5;141mSubVertical                      \u001b[0m │ \u001b[36m     0\u001b[0m │ \u001b[36m        0\u001b[0m │ \u001b[36m                      3.6\u001b[0m │ \u001b[36m                 9324\u001b[0m │  │\n",
       "│ │ \u001b[38;5;141mCity                             \u001b[0m │ \u001b[36m     0\u001b[0m │ \u001b[36m        0\u001b[0m │ \u001b[36m                      1.2\u001b[0m │ \u001b[36m                 3045\u001b[0m │  │\n",
       "│ │ \u001b[38;5;141mInvestors_Name                   \u001b[0m │ \u001b[36m     0\u001b[0m │ \u001b[36m        0\u001b[0m │ \u001b[36m                      4.7\u001b[0m │ \u001b[36m                12179\u001b[0m │  │\n",
       "│ │ \u001b[38;5;141mInvestmentnType                  \u001b[0m │ \u001b[36m     0\u001b[0m │ \u001b[36m        0\u001b[0m │ \u001b[36m                        1\u001b[0m │ \u001b[36m                 2615\u001b[0m │  │\n",
       "│ │ \u001b[38;5;141myear                             \u001b[0m │ \u001b[36m     0\u001b[0m │ \u001b[36m        0\u001b[0m │ \u001b[36m                        1\u001b[0m │ \u001b[36m                 2615\u001b[0m │  │\n",
       "│ │ \u001b[38;5;141mmonth                            \u001b[0m │ \u001b[36m     0\u001b[0m │ \u001b[36m        0\u001b[0m │ \u001b[36m                        1\u001b[0m │ \u001b[36m                 2615\u001b[0m │  │\n",
       "│ └───────────────────────────────────┴────────┴───────────┴───────────────────────────┴───────────────────────┘  │\n",
       "╰────────────────────────────────────────────────────── End ──────────────────────────────────────────────────────╯\n"
      ]
     },
     "metadata": {},
     "output_type": "display_data"
    }
   ],
   "source": [
    "skim(df)"
   ]
  },
  {
   "cell_type": "code",
   "execution_count": 48,
   "metadata": {
    "ExecuteTime": {
     "end_time": "2024-05-19T07:29:21.849581Z",
     "start_time": "2024-05-19T07:29:21.837229Z"
    }
   },
   "outputs": [
    {
     "data": {
      "text/html": [
       "<div>\n",
       "<style scoped>\n",
       "    .dataframe tbody tr th:only-of-type {\n",
       "        vertical-align: middle;\n",
       "    }\n",
       "\n",
       "    .dataframe tbody tr th {\n",
       "        vertical-align: top;\n",
       "    }\n",
       "\n",
       "    .dataframe thead th {\n",
       "        text-align: right;\n",
       "    }\n",
       "</style>\n",
       "<table border=\"1\" class=\"dataframe\">\n",
       "  <thead>\n",
       "    <tr style=\"text-align: right;\">\n",
       "      <th></th>\n",
       "      <th>count</th>\n",
       "      <th>mean</th>\n",
       "      <th>min</th>\n",
       "      <th>25%</th>\n",
       "      <th>50%</th>\n",
       "      <th>75%</th>\n",
       "      <th>max</th>\n",
       "      <th>std</th>\n",
       "    </tr>\n",
       "  </thead>\n",
       "  <tbody>\n",
       "    <tr>\n",
       "      <th>Date</th>\n",
       "      <td>2615</td>\n",
       "      <td>2016-12-05 03:58:26.386233088</td>\n",
       "      <td>2015-04-03 00:00:00</td>\n",
       "      <td>2016-02-10 00:00:00</td>\n",
       "      <td>2016-10-07 00:00:00</td>\n",
       "      <td>2017-08-11 00:00:00</td>\n",
       "      <td>2020-01-13 00:00:00</td>\n",
       "      <td>NaN</td>\n",
       "    </tr>\n",
       "    <tr>\n",
       "      <th>Amount_in_USD</th>\n",
       "      <td>2615.0</td>\n",
       "      <td>16414271.349355</td>\n",
       "      <td>18000.0</td>\n",
       "      <td>742500.0</td>\n",
       "      <td>1284951.664141</td>\n",
       "      <td>10000000.0</td>\n",
       "      <td>3900000000.0</td>\n",
       "      <td>108023162.121249</td>\n",
       "    </tr>\n",
       "    <tr>\n",
       "      <th>Quarter</th>\n",
       "      <td>2615.0</td>\n",
       "      <td>2.487572</td>\n",
       "      <td>1.0</td>\n",
       "      <td>2.0</td>\n",
       "      <td>2.0</td>\n",
       "      <td>3.0</td>\n",
       "      <td>4.0</td>\n",
       "      <td>1.083603</td>\n",
       "    </tr>\n",
       "  </tbody>\n",
       "</table>\n",
       "</div>"
      ],
      "text/plain": [
       "                count                           mean                  min  \\\n",
       "Date             2615  2016-12-05 03:58:26.386233088  2015-04-03 00:00:00   \n",
       "Amount_in_USD  2615.0                16414271.349355              18000.0   \n",
       "Quarter        2615.0                       2.487572                  1.0   \n",
       "\n",
       "                               25%                  50%                  75%  \\\n",
       "Date           2016-02-10 00:00:00  2016-10-07 00:00:00  2017-08-11 00:00:00   \n",
       "Amount_in_USD             742500.0       1284951.664141           10000000.0   \n",
       "Quarter                        2.0                  2.0                  3.0   \n",
       "\n",
       "                               max               std  \n",
       "Date           2020-01-13 00:00:00               NaN  \n",
       "Amount_in_USD         3900000000.0  108023162.121249  \n",
       "Quarter                        4.0          1.083603  "
      ]
     },
     "execution_count": 48,
     "metadata": {},
     "output_type": "execute_result"
    }
   ],
   "source": [
    "df.describe().T"
   ]
  },
  {
   "cell_type": "code",
   "execution_count": 49,
   "metadata": {
    "ExecuteTime": {
     "end_time": "2024-05-19T07:29:21.854821Z",
     "start_time": "2024-05-19T07:29:21.850586Z"
    }
   },
   "outputs": [
    {
     "data": {
      "text/plain": [
       "2113"
      ]
     },
     "execution_count": 49,
     "metadata": {},
     "output_type": "execute_result"
    }
   ],
   "source": [
    "df.Investors_Name.nunique()"
   ]
  },
  {
   "cell_type": "code",
   "execution_count": 50,
   "metadata": {
    "ExecuteTime": {
     "end_time": "2024-05-19T07:29:21.860842Z",
     "start_time": "2024-05-19T07:29:21.855969Z"
    }
   },
   "outputs": [
    {
     "data": {
      "text/plain": [
       "2157"
      ]
     },
     "execution_count": 50,
     "metadata": {},
     "output_type": "execute_result"
    }
   ],
   "source": [
    "df.Startup_Name.nunique()"
   ]
  },
  {
   "cell_type": "code",
   "execution_count": 51,
   "metadata": {
    "ExecuteTime": {
     "end_time": "2024-05-19T07:29:21.866112Z",
     "start_time": "2024-05-19T07:29:21.862351Z"
    }
   },
   "outputs": [
    {
     "data": {
      "text/plain": [
       "590"
      ]
     },
     "execution_count": 51,
     "metadata": {},
     "output_type": "execute_result"
    }
   ],
   "source": [
    "df.Industry_Vertical.nunique()"
   ]
  },
  {
   "cell_type": "code",
   "execution_count": 52,
   "metadata": {
    "ExecuteTime": {
     "end_time": "2024-05-19T07:29:21.871019Z",
     "start_time": "2024-05-19T07:29:21.867120Z"
    }
   },
   "outputs": [
    {
     "data": {
      "text/plain": [
       "16"
      ]
     },
     "execution_count": 52,
     "metadata": {},
     "output_type": "execute_result"
    }
   ],
   "source": [
    "df.InvestmentnType.nunique()"
   ]
  },
  {
   "cell_type": "code",
   "execution_count": 53,
   "metadata": {
    "ExecuteTime": {
     "end_time": "2024-05-19T07:29:21.876158Z",
     "start_time": "2024-05-19T07:29:21.872538Z"
    }
   },
   "outputs": [
    {
     "data": {
      "text/plain": [
       "106"
      ]
     },
     "execution_count": 53,
     "metadata": {},
     "output_type": "execute_result"
    }
   ],
   "source": [
    "df.City.nunique()"
   ]
  },
  {
   "cell_type": "code",
   "execution_count": 54,
   "metadata": {
    "ExecuteTime": {
     "end_time": "2024-05-19T07:29:21.881487Z",
     "start_time": "2024-05-19T07:29:21.877171Z"
    }
   },
   "outputs": [
    {
     "data": {
      "text/plain": [
       "42923319578.56358"
      ]
     },
     "execution_count": 54,
     "metadata": {},
     "output_type": "execute_result"
    }
   ],
   "source": [
    "df.Amount_in_USD.sum()"
   ]
  },
  {
   "cell_type": "markdown",
   "metadata": {},
   "source": [
    "# How Does the Funding Ecosystem changes with respect to Time?"
   ]
  },
  {
   "cell_type": "code",
   "execution_count": 55,
   "metadata": {
    "ExecuteTime": {
     "end_time": "2024-05-19T07:29:21.888526Z",
     "start_time": "2024-05-19T07:29:21.882492Z"
    }
   },
   "outputs": [],
   "source": [
    "funding_by_year = df.groupby('year').size()\n",
    "funding_by_month = df.groupby(\"month\").size()\n",
    "funding_by_quarter = df.groupby('Quarter').size()"
   ]
  },
  {
   "cell_type": "code",
   "execution_count": 56,
   "metadata": {
    "ExecuteTime": {
     "end_time": "2024-05-19T07:29:21.893947Z",
     "start_time": "2024-05-19T07:29:21.889537Z"
    }
   },
   "outputs": [
    {
     "data": {
      "text/plain": [
       "year\n",
       "2015    516\n",
       "2016    989\n",
       "2017    685\n",
       "2018    308\n",
       "2019    110\n",
       "2020      7\n",
       "dtype: int64"
      ]
     },
     "execution_count": 56,
     "metadata": {},
     "output_type": "execute_result"
    }
   ],
   "source": [
    "funding_by_year"
   ]
  },
  {
   "cell_type": "code",
   "execution_count": 57,
   "metadata": {
    "ExecuteTime": {
     "end_time": "2024-05-19T07:29:21.899021Z",
     "start_time": "2024-05-19T07:29:21.894955Z"
    }
   },
   "outputs": [
    {
     "data": {
      "text/plain": [
       "435.8333333333333"
      ]
     },
     "execution_count": 57,
     "metadata": {},
     "output_type": "execute_result"
    }
   ],
   "source": [
    "funding_by_year.mean()"
   ]
  },
  {
   "cell_type": "code",
   "execution_count": 58,
   "metadata": {
    "ExecuteTime": {
     "end_time": "2024-05-19T07:29:21.903724Z",
     "start_time": "2024-05-19T07:29:21.900028Z"
    }
   },
   "outputs": [
    {
     "data": {
      "text/plain": [
       "month\n",
       "01    223\n",
       "02    193\n",
       "03    189\n",
       "04    248\n",
       "05    219\n",
       "06    266\n",
       "07    222\n",
       "08    239\n",
       "09    213\n",
       "10    202\n",
       "11    215\n",
       "12    186\n",
       "dtype: int64"
      ]
     },
     "execution_count": 58,
     "metadata": {},
     "output_type": "execute_result"
    }
   ],
   "source": [
    "funding_by_month"
   ]
  },
  {
   "cell_type": "code",
   "execution_count": 59,
   "metadata": {
    "ExecuteTime": {
     "end_time": "2024-05-19T07:29:21.908095Z",
     "start_time": "2024-05-19T07:29:21.904729Z"
    }
   },
   "outputs": [
    {
     "data": {
      "text/plain": [
       "217.91666666666666"
      ]
     },
     "execution_count": 59,
     "metadata": {},
     "output_type": "execute_result"
    }
   ],
   "source": [
    "funding_by_month.mean()"
   ]
  },
  {
   "cell_type": "code",
   "execution_count": 60,
   "metadata": {
    "ExecuteTime": {
     "end_time": "2024-05-19T07:29:21.913130Z",
     "start_time": "2024-05-19T07:29:21.909100Z"
    }
   },
   "outputs": [
    {
     "data": {
      "text/plain": [
       "Quarter\n",
       "1    605\n",
       "2    733\n",
       "3    674\n",
       "4    603\n",
       "dtype: int64"
      ]
     },
     "execution_count": 60,
     "metadata": {},
     "output_type": "execute_result"
    }
   ],
   "source": [
    "funding_by_quarter"
   ]
  },
  {
   "cell_type": "code",
   "execution_count": 61,
   "metadata": {
    "ExecuteTime": {
     "end_time": "2024-05-19T07:29:21.917393Z",
     "start_time": "2024-05-19T07:29:21.914142Z"
    }
   },
   "outputs": [
    {
     "data": {
      "text/plain": [
       "653.75"
      ]
     },
     "execution_count": 61,
     "metadata": {},
     "output_type": "execute_result"
    }
   ],
   "source": [
    "funding_by_quarter.mean()"
   ]
  },
  {
   "cell_type": "code",
   "execution_count": 62,
   "metadata": {
    "ExecuteTime": {
     "end_time": "2024-05-19T07:29:22.334236Z",
     "start_time": "2024-05-19T07:29:21.918399Z"
    }
   },
   "outputs": [
    {
     "data": {
      "image/png": "[encoded data removed]",
      "text/plain": [
       "<Figure size 1200x800 with 3 Axes>"
      ]
     },
     "metadata": {},
     "output_type": "display_data"
    }
   ],
   "source": [
    "plt.figure(figsize=(12, 8))\n",
    "\n",
    "plt.subplot(3, 1, 1)\n",
    "funding_by_year.plot(kind='line', marker='o', color='skyblue')\n",
    "plt.title('Number of Funding by Year')\n",
    "plt.xlabel('Year')\n",
    "plt.ylabel('Number of Funding')\n",
    "\n",
    "plt.subplot(3, 1, 2)\n",
    "funding_by_quarter.plot(kind='line', marker='s', color='orange') \n",
    "plt.title('Number of Funding by Quarter')\n",
    "plt.xlabel('Quarter')\n",
    "plt.ylabel('Number of Funding')\n",
    "\n",
    "plt.subplot(3, 1, 3)\n",
    "funding_by_month.plot(kind='line', marker='d', color='green') \n",
    "plt.title('Number of Funding  by Month')\n",
    "plt.xlabel('Month')\n",
    "plt.ylabel('Number of Funding')\n",
    "\n",
    "plt.tight_layout()\n",
    "plt.show()"
   ]
  },
  {
   "cell_type": "markdown",
   "metadata": {},
   "source": [
    "# What is the General Amount that Startups get in India?"
   ]
  },
  {
   "cell_type": "code",
   "execution_count": 63,
   "metadata": {
    "ExecuteTime": {
     "end_time": "2024-05-19T07:29:22.339892Z",
     "start_time": "2024-05-19T07:29:22.335336Z"
    }
   },
   "outputs": [
    {
     "data": {
      "text/plain": [
       "42923319578.56358"
      ]
     },
     "execution_count": 63,
     "metadata": {},
     "output_type": "execute_result"
    }
   ],
   "source": [
    "df.Amount_in_USD.sum()"
   ]
  },
  {
   "cell_type": "code",
   "execution_count": 64,
   "metadata": {
    "ExecuteTime": {
     "end_time": "2024-05-19T07:29:22.345331Z",
     "start_time": "2024-05-19T07:29:22.340972Z"
    }
   },
   "outputs": [
    {
     "data": {
      "text/plain": [
       "3900000000.0"
      ]
     },
     "execution_count": 64,
     "metadata": {},
     "output_type": "execute_result"
    }
   ],
   "source": [
    "df['Amount_in_USD'].max()"
   ]
  },
  {
   "cell_type": "code",
   "execution_count": 65,
   "metadata": {
    "ExecuteTime": {
     "end_time": "2024-05-19T07:29:22.350473Z",
     "start_time": "2024-05-19T07:29:22.346857Z"
    }
   },
   "outputs": [
    {
     "data": {
      "text/plain": [
       "18000.0"
      ]
     },
     "execution_count": 65,
     "metadata": {},
     "output_type": "execute_result"
    }
   ],
   "source": [
    "df['Amount_in_USD'].min()"
   ]
  },
  {
   "cell_type": "code",
   "execution_count": 66,
   "metadata": {
    "ExecuteTime": {
     "end_time": "2024-05-19T07:29:22.355100Z",
     "start_time": "2024-05-19T07:29:22.351478Z"
    }
   },
   "outputs": [
    {
     "data": {
      "text/plain": [
       "16414271.3493551"
      ]
     },
     "execution_count": 66,
     "metadata": {},
     "output_type": "execute_result"
    }
   ],
   "source": [
    "df['Amount_in_USD'].mean()"
   ]
  },
  {
   "cell_type": "code",
   "execution_count": 67,
   "metadata": {
    "ExecuteTime": {
     "end_time": "2024-05-19T07:29:22.367836Z",
     "start_time": "2024-05-19T07:29:22.356249Z"
    }
   },
   "outputs": [
    {
     "data": {
      "text/html": [
       "<div>\n",
       "<style scoped>\n",
       "    .dataframe tbody tr th:only-of-type {\n",
       "        vertical-align: middle;\n",
       "    }\n",
       "\n",
       "    .dataframe tbody tr th {\n",
       "        vertical-align: top;\n",
       "    }\n",
       "\n",
       "    .dataframe thead th {\n",
       "        text-align: right;\n",
       "    }\n",
       "</style>\n",
       "<table border=\"1\" class=\"dataframe\">\n",
       "  <thead>\n",
       "    <tr style=\"text-align: right;\">\n",
       "      <th></th>\n",
       "      <th>Date</th>\n",
       "      <th>Startup_Name</th>\n",
       "      <th>Industry_Vertical</th>\n",
       "      <th>SubVertical</th>\n",
       "      <th>City</th>\n",
       "      <th>Investors_Name</th>\n",
       "      <th>InvestmentnType</th>\n",
       "      <th>Amount_in_USD</th>\n",
       "      <th>year</th>\n",
       "      <th>month</th>\n",
       "      <th>Quarter</th>\n",
       "    </tr>\n",
       "  </thead>\n",
       "  <tbody>\n",
       "    <tr>\n",
       "      <th>60</th>\n",
       "      <td>2019-08-27</td>\n",
       "      <td>Rapido Bike Taxi</td>\n",
       "      <td>Transportation</td>\n",
       "      <td>Bike Taxi</td>\n",
       "      <td>Bengaluru</td>\n",
       "      <td>Westbridge Capital</td>\n",
       "      <td>Series</td>\n",
       "      <td>3.900000e+09</td>\n",
       "      <td>2019</td>\n",
       "      <td>08</td>\n",
       "      <td>3</td>\n",
       "    </tr>\n",
       "    <tr>\n",
       "      <th>649</th>\n",
       "      <td>2017-08-11</td>\n",
       "      <td>Flipkart</td>\n",
       "      <td>eCommerce</td>\n",
       "      <td>Online Marketplace</td>\n",
       "      <td>Bangalore</td>\n",
       "      <td>Softbank</td>\n",
       "      <td>Private</td>\n",
       "      <td>2.500000e+09</td>\n",
       "      <td>2017</td>\n",
       "      <td>08</td>\n",
       "      <td>3</td>\n",
       "    </tr>\n",
       "    <tr>\n",
       "      <th>827</th>\n",
       "      <td>2017-05-18</td>\n",
       "      <td>Paytm</td>\n",
       "      <td>ECommerce</td>\n",
       "      <td>Mobile Wallet &amp; ECommerce platform</td>\n",
       "      <td>Bangalore</td>\n",
       "      <td>SoftBank Group</td>\n",
       "      <td>Private</td>\n",
       "      <td>1.400000e+09</td>\n",
       "      <td>2017</td>\n",
       "      <td>05</td>\n",
       "      <td>2</td>\n",
       "    </tr>\n",
       "    <tr>\n",
       "      <th>962</th>\n",
       "      <td>2017-03-21</td>\n",
       "      <td>Flipkart</td>\n",
       "      <td>eCommerce</td>\n",
       "      <td>ECommerce Marketplace</td>\n",
       "      <td>Bangalore</td>\n",
       "      <td>Microsoft, eBay, Tencent Holdings</td>\n",
       "      <td>Private</td>\n",
       "      <td>1.400000e+09</td>\n",
       "      <td>2017</td>\n",
       "      <td>03</td>\n",
       "      <td>1</td>\n",
       "    </tr>\n",
       "    <tr>\n",
       "      <th>31</th>\n",
       "      <td>2019-11-25</td>\n",
       "      <td>Paytm</td>\n",
       "      <td>FinTech</td>\n",
       "      <td>Mobile Wallet</td>\n",
       "      <td>Noida</td>\n",
       "      <td>Vijay Shekhar Sharma</td>\n",
       "      <td>Funding</td>\n",
       "      <td>1.000000e+09</td>\n",
       "      <td>2019</td>\n",
       "      <td>11</td>\n",
       "      <td>4</td>\n",
       "    </tr>\n",
       "    <tr>\n",
       "      <th>...</th>\n",
       "      <td>...</td>\n",
       "      <td>...</td>\n",
       "      <td>...</td>\n",
       "      <td>...</td>\n",
       "      <td>...</td>\n",
       "      <td>...</td>\n",
       "      <td>...</td>\n",
       "      <td>...</td>\n",
       "      <td>...</td>\n",
       "      <td>...</td>\n",
       "      <td>...</td>\n",
       "    </tr>\n",
       "    <tr>\n",
       "      <th>1899</th>\n",
       "      <td>2016-02-02</td>\n",
       "      <td>Strike</td>\n",
       "      <td>Consumer Internet</td>\n",
       "      <td>Mobile Email productivity tool</td>\n",
       "      <td>Bangalore</td>\n",
       "      <td>Multiple investors through Ten Minute Million ...</td>\n",
       "      <td>Seed</td>\n",
       "      <td>2.250000e+04</td>\n",
       "      <td>2016</td>\n",
       "      <td>02</td>\n",
       "      <td>1</td>\n",
       "    </tr>\n",
       "    <tr>\n",
       "      <th>1105</th>\n",
       "      <td>2017-01-30</td>\n",
       "      <td>Cloudrino</td>\n",
       "      <td>Technology</td>\n",
       "      <td>Cloud based Virtual Servers</td>\n",
       "      <td>New Delhi</td>\n",
       "      <td>The Ten Minute Million</td>\n",
       "      <td>Seed</td>\n",
       "      <td>2.250000e+04</td>\n",
       "      <td>2017</td>\n",
       "      <td>01</td>\n",
       "      <td>1</td>\n",
       "    </tr>\n",
       "    <tr>\n",
       "      <th>1901</th>\n",
       "      <td>2016-02-02</td>\n",
       "      <td>Gamooz</td>\n",
       "      <td>Technology</td>\n",
       "      <td>Augmented Reality Solutions</td>\n",
       "      <td>Gurgaon</td>\n",
       "      <td>Multiple investors through Ten Minute Million ...</td>\n",
       "      <td>Seed</td>\n",
       "      <td>2.250000e+04</td>\n",
       "      <td>2016</td>\n",
       "      <td>02</td>\n",
       "      <td>1</td>\n",
       "    </tr>\n",
       "    <tr>\n",
       "      <th>2413</th>\n",
       "      <td>2015-07-08</td>\n",
       "      <td>33Coupons</td>\n",
       "      <td>Coupon Aggregator Platform</td>\n",
       "      <td>Not Specified</td>\n",
       "      <td>Kanpur</td>\n",
       "      <td>Not Disclosed</td>\n",
       "      <td>Seed</td>\n",
       "      <td>2.000000e+04</td>\n",
       "      <td>2015</td>\n",
       "      <td>07</td>\n",
       "      <td>3</td>\n",
       "    </tr>\n",
       "    <tr>\n",
       "      <th>1107</th>\n",
       "      <td>2017-01-30</td>\n",
       "      <td>Maptags</td>\n",
       "      <td>Consumer Internet</td>\n",
       "      <td>Smart Online address tags</td>\n",
       "      <td>Bangalore</td>\n",
       "      <td>The Ten Minute Million</td>\n",
       "      <td>Seed</td>\n",
       "      <td>1.800000e+04</td>\n",
       "      <td>2017</td>\n",
       "      <td>01</td>\n",
       "      <td>1</td>\n",
       "    </tr>\n",
       "  </tbody>\n",
       "</table>\n",
       "<p>2615 rows × 11 columns</p>\n",
       "</div>"
      ],
      "text/plain": [
       "           Date      Startup_Name           Industry_Vertical  \\\n",
       "60   2019-08-27  Rapido Bike Taxi              Transportation   \n",
       "649  2017-08-11          Flipkart                   eCommerce   \n",
       "827  2017-05-18             Paytm                   ECommerce   \n",
       "962  2017-03-21          Flipkart                   eCommerce   \n",
       "31   2019-11-25             Paytm                     FinTech   \n",
       "...         ...               ...                         ...   \n",
       "1899 2016-02-02            Strike           Consumer Internet   \n",
       "1105 2017-01-30         Cloudrino                  Technology   \n",
       "1901 2016-02-02            Gamooz                  Technology   \n",
       "2413 2015-07-08         33Coupons  Coupon Aggregator Platform   \n",
       "1107 2017-01-30           Maptags           Consumer Internet   \n",
       "\n",
       "                             SubVertical       City  \\\n",
       "60                             Bike Taxi  Bengaluru   \n",
       "649                   Online Marketplace  Bangalore   \n",
       "827   Mobile Wallet & ECommerce platform  Bangalore   \n",
       "962                ECommerce Marketplace  Bangalore   \n",
       "31                         Mobile Wallet      Noida   \n",
       "...                                  ...        ...   \n",
       "1899      Mobile Email productivity tool  Bangalore   \n",
       "1105         Cloud based Virtual Servers  New Delhi   \n",
       "1901         Augmented Reality Solutions    Gurgaon   \n",
       "2413                       Not Specified     Kanpur   \n",
       "1107           Smart Online address tags  Bangalore   \n",
       "\n",
       "                                         Investors_Name InvestmentnType  \\\n",
       "60                                   Westbridge Capital          Series   \n",
       "649                                            Softbank         Private   \n",
       "827                                      SoftBank Group         Private   \n",
       "962                   Microsoft, eBay, Tencent Holdings         Private   \n",
       "31                                 Vijay Shekhar Sharma         Funding   \n",
       "...                                                 ...             ...   \n",
       "1899  Multiple investors through Ten Minute Million ...            Seed   \n",
       "1105                             The Ten Minute Million            Seed   \n",
       "1901  Multiple investors through Ten Minute Million ...            Seed   \n",
       "2413                                      Not Disclosed            Seed   \n",
       "1107                             The Ten Minute Million            Seed   \n",
       "\n",
       "      Amount_in_USD  year month  Quarter  \n",
       "60     3.900000e+09  2019    08        3  \n",
       "649    2.500000e+09  2017    08        3  \n",
       "827    1.400000e+09  2017    05        2  \n",
       "962    1.400000e+09  2017    03        1  \n",
       "31     1.000000e+09  2019    11        4  \n",
       "...             ...   ...   ...      ...  \n",
       "1899   2.250000e+04  2016    02        1  \n",
       "1105   2.250000e+04  2017    01        1  \n",
       "1901   2.250000e+04  2016    02        1  \n",
       "2413   2.000000e+04  2015    07        3  \n",
       "1107   1.800000e+04  2017    01        1  \n",
       "\n",
       "[2615 rows x 11 columns]"
      ]
     },
     "execution_count": 67,
     "metadata": {},
     "output_type": "execute_result"
    }
   ],
   "source": [
    "sorted_df = df.sort_values(by='Amount_in_USD', ascending=False)\n",
    "sorted_df"
   ]
  },
  {
   "cell_type": "code",
   "execution_count": 83,
   "metadata": {
    "ExecuteTime": {
     "end_time": "2024-05-19T07:34:29.285717Z",
     "start_time": "2024-05-19T07:34:29.278029Z"
    }
   },
   "outputs": [
    {
     "data": {
      "text/plain": [
       "Date                 2019-08-27 00:00:00\n",
       "Startup_Name            Rapido Bike Taxi\n",
       "Industry_Vertical         Transportation\n",
       "SubVertical                    Bike Taxi\n",
       "City                           Bengaluru\n",
       "Investors_Name        Westbridge Capital\n",
       "InvestmentnType                   Series\n",
       "Amount_in_USD               3900000000.0\n",
       "year                                2019\n",
       "month                                 08\n",
       "Quarter                                3\n",
       "Name: 60, dtype: object"
      ]
     },
     "execution_count": 83,
     "metadata": {},
     "output_type": "execute_result"
    }
   ],
   "source": [
    "df.loc[60]"
   ]
  },
  {
   "cell_type": "code",
   "execution_count": 78,
   "metadata": {
    "ExecuteTime": {
     "end_time": "2024-05-19T07:32:59.662653Z",
     "start_time": "2024-05-19T07:32:59.647943Z"
    }
   },
   "outputs": [
    {
     "data": {
      "text/html": [
       "<div>\n",
       "<style scoped>\n",
       "    .dataframe tbody tr th:only-of-type {\n",
       "        vertical-align: middle;\n",
       "    }\n",
       "\n",
       "    .dataframe tbody tr th {\n",
       "        vertical-align: top;\n",
       "    }\n",
       "\n",
       "    .dataframe thead th {\n",
       "        text-align: right;\n",
       "    }\n",
       "</style>\n",
       "<table border=\"1\" class=\"dataframe\">\n",
       "  <thead>\n",
       "    <tr style=\"text-align: right;\">\n",
       "      <th></th>\n",
       "      <th>Date</th>\n",
       "      <th>Startup_Name</th>\n",
       "      <th>Industry_Vertical</th>\n",
       "      <th>SubVertical</th>\n",
       "      <th>City</th>\n",
       "      <th>Investors_Name</th>\n",
       "      <th>InvestmentnType</th>\n",
       "      <th>Amount_in_USD</th>\n",
       "      <th>year</th>\n",
       "      <th>month</th>\n",
       "      <th>Quarter</th>\n",
       "    </tr>\n",
       "  </thead>\n",
       "  <tbody>\n",
       "    <tr>\n",
       "      <th>60</th>\n",
       "      <td>2019-08-27</td>\n",
       "      <td>Rapido Bike Taxi</td>\n",
       "      <td>Transportation</td>\n",
       "      <td>Bike Taxi</td>\n",
       "      <td>Bengaluru</td>\n",
       "      <td>Westbridge Capital</td>\n",
       "      <td>Series</td>\n",
       "      <td>3.900000e+09</td>\n",
       "      <td>2019</td>\n",
       "      <td>08</td>\n",
       "      <td>3</td>\n",
       "    </tr>\n",
       "    <tr>\n",
       "      <th>649</th>\n",
       "      <td>2017-08-11</td>\n",
       "      <td>Flipkart</td>\n",
       "      <td>eCommerce</td>\n",
       "      <td>Online Marketplace</td>\n",
       "      <td>Bangalore</td>\n",
       "      <td>Softbank</td>\n",
       "      <td>Private</td>\n",
       "      <td>2.500000e+09</td>\n",
       "      <td>2017</td>\n",
       "      <td>08</td>\n",
       "      <td>3</td>\n",
       "    </tr>\n",
       "    <tr>\n",
       "      <th>827</th>\n",
       "      <td>2017-05-18</td>\n",
       "      <td>Paytm</td>\n",
       "      <td>ECommerce</td>\n",
       "      <td>Mobile Wallet &amp; ECommerce platform</td>\n",
       "      <td>Bangalore</td>\n",
       "      <td>SoftBank Group</td>\n",
       "      <td>Private</td>\n",
       "      <td>1.400000e+09</td>\n",
       "      <td>2017</td>\n",
       "      <td>05</td>\n",
       "      <td>2</td>\n",
       "    </tr>\n",
       "    <tr>\n",
       "      <th>962</th>\n",
       "      <td>2017-03-21</td>\n",
       "      <td>Flipkart</td>\n",
       "      <td>eCommerce</td>\n",
       "      <td>ECommerce Marketplace</td>\n",
       "      <td>Bangalore</td>\n",
       "      <td>Microsoft, eBay, Tencent Holdings</td>\n",
       "      <td>Private</td>\n",
       "      <td>1.400000e+09</td>\n",
       "      <td>2017</td>\n",
       "      <td>03</td>\n",
       "      <td>1</td>\n",
       "    </tr>\n",
       "    <tr>\n",
       "      <th>31</th>\n",
       "      <td>2019-11-25</td>\n",
       "      <td>Paytm</td>\n",
       "      <td>FinTech</td>\n",
       "      <td>Mobile Wallet</td>\n",
       "      <td>Noida</td>\n",
       "      <td>Vijay Shekhar Sharma</td>\n",
       "      <td>Funding</td>\n",
       "      <td>1.000000e+09</td>\n",
       "      <td>2019</td>\n",
       "      <td>11</td>\n",
       "      <td>4</td>\n",
       "    </tr>\n",
       "    <tr>\n",
       "      <th>...</th>\n",
       "      <td>...</td>\n",
       "      <td>...</td>\n",
       "      <td>...</td>\n",
       "      <td>...</td>\n",
       "      <td>...</td>\n",
       "      <td>...</td>\n",
       "      <td>...</td>\n",
       "      <td>...</td>\n",
       "      <td>...</td>\n",
       "      <td>...</td>\n",
       "      <td>...</td>\n",
       "    </tr>\n",
       "    <tr>\n",
       "      <th>1899</th>\n",
       "      <td>2016-02-02</td>\n",
       "      <td>Strike</td>\n",
       "      <td>Consumer Internet</td>\n",
       "      <td>Mobile Email productivity tool</td>\n",
       "      <td>Bangalore</td>\n",
       "      <td>Multiple investors through Ten Minute Million ...</td>\n",
       "      <td>Seed</td>\n",
       "      <td>2.250000e+04</td>\n",
       "      <td>2016</td>\n",
       "      <td>02</td>\n",
       "      <td>1</td>\n",
       "    </tr>\n",
       "    <tr>\n",
       "      <th>1105</th>\n",
       "      <td>2017-01-30</td>\n",
       "      <td>Cloudrino</td>\n",
       "      <td>Technology</td>\n",
       "      <td>Cloud based Virtual Servers</td>\n",
       "      <td>New Delhi</td>\n",
       "      <td>The Ten Minute Million</td>\n",
       "      <td>Seed</td>\n",
       "      <td>2.250000e+04</td>\n",
       "      <td>2017</td>\n",
       "      <td>01</td>\n",
       "      <td>1</td>\n",
       "    </tr>\n",
       "    <tr>\n",
       "      <th>1901</th>\n",
       "      <td>2016-02-02</td>\n",
       "      <td>Gamooz</td>\n",
       "      <td>Technology</td>\n",
       "      <td>Augmented Reality Solutions</td>\n",
       "      <td>Gurgaon</td>\n",
       "      <td>Multiple investors through Ten Minute Million ...</td>\n",
       "      <td>Seed</td>\n",
       "      <td>2.250000e+04</td>\n",
       "      <td>2016</td>\n",
       "      <td>02</td>\n",
       "      <td>1</td>\n",
       "    </tr>\n",
       "    <tr>\n",
       "      <th>2413</th>\n",
       "      <td>2015-07-08</td>\n",
       "      <td>33Coupons</td>\n",
       "      <td>Coupon Aggregator Platform</td>\n",
       "      <td>Not Specified</td>\n",
       "      <td>Kanpur</td>\n",
       "      <td>Not Disclosed</td>\n",
       "      <td>Seed</td>\n",
       "      <td>2.000000e+04</td>\n",
       "      <td>2015</td>\n",
       "      <td>07</td>\n",
       "      <td>3</td>\n",
       "    </tr>\n",
       "    <tr>\n",
       "      <th>1107</th>\n",
       "      <td>2017-01-30</td>\n",
       "      <td>Maptags</td>\n",
       "      <td>Consumer Internet</td>\n",
       "      <td>Smart Online address tags</td>\n",
       "      <td>Bangalore</td>\n",
       "      <td>The Ten Minute Million</td>\n",
       "      <td>Seed</td>\n",
       "      <td>1.800000e+04</td>\n",
       "      <td>2017</td>\n",
       "      <td>01</td>\n",
       "      <td>1</td>\n",
       "    </tr>\n",
       "  </tbody>\n",
       "</table>\n",
       "<p>2615 rows × 11 columns</p>\n",
       "</div>"
      ],
      "text/plain": [
       "           Date      Startup_Name           Industry_Vertical  \\\n",
       "60   2019-08-27  Rapido Bike Taxi              Transportation   \n",
       "649  2017-08-11          Flipkart                   eCommerce   \n",
       "827  2017-05-18             Paytm                   ECommerce   \n",
       "962  2017-03-21          Flipkart                   eCommerce   \n",
       "31   2019-11-25             Paytm                     FinTech   \n",
       "...         ...               ...                         ...   \n",
       "1899 2016-02-02            Strike           Consumer Internet   \n",
       "1105 2017-01-30         Cloudrino                  Technology   \n",
       "1901 2016-02-02            Gamooz                  Technology   \n",
       "2413 2015-07-08         33Coupons  Coupon Aggregator Platform   \n",
       "1107 2017-01-30           Maptags           Consumer Internet   \n",
       "\n",
       "                             SubVertical       City  \\\n",
       "60                             Bike Taxi  Bengaluru   \n",
       "649                   Online Marketplace  Bangalore   \n",
       "827   Mobile Wallet & ECommerce platform  Bangalore   \n",
       "962                ECommerce Marketplace  Bangalore   \n",
       "31                         Mobile Wallet      Noida   \n",
       "...                                  ...        ...   \n",
       "1899      Mobile Email productivity tool  Bangalore   \n",
       "1105         Cloud based Virtual Servers  New Delhi   \n",
       "1901         Augmented Reality Solutions    Gurgaon   \n",
       "2413                       Not Specified     Kanpur   \n",
       "1107           Smart Online address tags  Bangalore   \n",
       "\n",
       "                                         Investors_Name InvestmentnType  \\\n",
       "60                                   Westbridge Capital          Series   \n",
       "649                                            Softbank         Private   \n",
       "827                                      SoftBank Group         Private   \n",
       "962                   Microsoft, eBay, Tencent Holdings         Private   \n",
       "31                                 Vijay Shekhar Sharma         Funding   \n",
       "...                                                 ...             ...   \n",
       "1899  Multiple investors through Ten Minute Million ...            Seed   \n",
       "1105                             The Ten Minute Million            Seed   \n",
       "1901  Multiple investors through Ten Minute Million ...            Seed   \n",
       "2413                                      Not Disclosed            Seed   \n",
       "1107                             The Ten Minute Million            Seed   \n",
       "\n",
       "      Amount_in_USD  year month  Quarter  \n",
       "60     3.900000e+09  2019    08        3  \n",
       "649    2.500000e+09  2017    08        3  \n",
       "827    1.400000e+09  2017    05        2  \n",
       "962    1.400000e+09  2017    03        1  \n",
       "31     1.000000e+09  2019    11        4  \n",
       "...             ...   ...   ...      ...  \n",
       "1899   2.250000e+04  2016    02        1  \n",
       "1105   2.250000e+04  2017    01        1  \n",
       "1901   2.250000e+04  2016    02        1  \n",
       "2413   2.000000e+04  2015    07        3  \n",
       "1107   1.800000e+04  2017    01        1  \n",
       "\n",
       "[2615 rows x 11 columns]"
      ]
     },
     "execution_count": 78,
     "metadata": {},
     "output_type": "execute_result"
    }
   ],
   "source": [
    "sorted_df = df.sort_values(by='Amount_in_USD', ascending=False)\n",
    "sorted_df"
   ]
  },
  {
   "cell_type": "code",
   "execution_count": 82,
   "metadata": {
    "ExecuteTime": {
     "end_time": "2024-05-19T07:34:16.823218Z",
     "start_time": "2024-05-19T07:34:16.817864Z"
    }
   },
   "outputs": [
    {
     "data": {
      "text/plain": [
       "Date                       2017-01-30 00:00:00\n",
       "Startup_Name                           Maptags\n",
       "Industry_Vertical            Consumer Internet\n",
       "SubVertical          Smart Online address tags\n",
       "City                                 Bangalore\n",
       "Investors_Name          The Ten Minute Million\n",
       "InvestmentnType                           Seed\n",
       "Amount_in_USD                          18000.0\n",
       "year                                      2017\n",
       "month                                       01\n",
       "Quarter                                      1\n",
       "Name: 1107, dtype: object"
      ]
     },
     "execution_count": 82,
     "metadata": {},
     "output_type": "execute_result"
    }
   ],
   "source": [
    "df.loc[1107]"
   ]
  },
  {
   "cell_type": "code",
   "execution_count": 96,
   "metadata": {
    "ExecuteTime": {
     "end_time": "2024-05-19T07:39:08.942587Z",
     "start_time": "2024-05-19T07:39:08.928862Z"
    }
   },
   "outputs": [
    {
     "data": {
      "text/html": [
       "<div>\n",
       "<style scoped>\n",
       "    .dataframe tbody tr th:only-of-type {\n",
       "        vertical-align: middle;\n",
       "    }\n",
       "\n",
       "    .dataframe tbody tr th {\n",
       "        vertical-align: top;\n",
       "    }\n",
       "\n",
       "    .dataframe thead th {\n",
       "        text-align: right;\n",
       "    }\n",
       "</style>\n",
       "<table border=\"1\" class=\"dataframe\">\n",
       "  <thead>\n",
       "    <tr style=\"text-align: right;\">\n",
       "      <th></th>\n",
       "      <th>Date</th>\n",
       "      <th>Startup_Name</th>\n",
       "      <th>Industry_Vertical</th>\n",
       "      <th>SubVertical</th>\n",
       "      <th>City</th>\n",
       "      <th>Investors_Name</th>\n",
       "      <th>InvestmentnType</th>\n",
       "      <th>Amount_in_USD</th>\n",
       "      <th>year</th>\n",
       "      <th>month</th>\n",
       "      <th>Quarter</th>\n",
       "    </tr>\n",
       "  </thead>\n",
       "  <tbody>\n",
       "    <tr>\n",
       "      <th>60</th>\n",
       "      <td>2019-08-27</td>\n",
       "      <td>Rapido Bike Taxi</td>\n",
       "      <td>Transportation</td>\n",
       "      <td>Bike Taxi</td>\n",
       "      <td>Bengaluru</td>\n",
       "      <td>Westbridge Capital</td>\n",
       "      <td>Series</td>\n",
       "      <td>3.900000e+09</td>\n",
       "      <td>2019</td>\n",
       "      <td>08</td>\n",
       "      <td>3</td>\n",
       "    </tr>\n",
       "    <tr>\n",
       "      <th>649</th>\n",
       "      <td>2017-08-11</td>\n",
       "      <td>Flipkart</td>\n",
       "      <td>eCommerce</td>\n",
       "      <td>Online Marketplace</td>\n",
       "      <td>Bangalore</td>\n",
       "      <td>Softbank</td>\n",
       "      <td>Private</td>\n",
       "      <td>2.500000e+09</td>\n",
       "      <td>2017</td>\n",
       "      <td>08</td>\n",
       "      <td>3</td>\n",
       "    </tr>\n",
       "    <tr>\n",
       "      <th>827</th>\n",
       "      <td>2017-05-18</td>\n",
       "      <td>Paytm</td>\n",
       "      <td>ECommerce</td>\n",
       "      <td>Mobile Wallet &amp; ECommerce platform</td>\n",
       "      <td>Bangalore</td>\n",
       "      <td>SoftBank Group</td>\n",
       "      <td>Private</td>\n",
       "      <td>1.400000e+09</td>\n",
       "      <td>2017</td>\n",
       "      <td>05</td>\n",
       "      <td>2</td>\n",
       "    </tr>\n",
       "    <tr>\n",
       "      <th>962</th>\n",
       "      <td>2017-03-21</td>\n",
       "      <td>Flipkart</td>\n",
       "      <td>eCommerce</td>\n",
       "      <td>ECommerce Marketplace</td>\n",
       "      <td>Bangalore</td>\n",
       "      <td>Microsoft, eBay, Tencent Holdings</td>\n",
       "      <td>Private</td>\n",
       "      <td>1.400000e+09</td>\n",
       "      <td>2017</td>\n",
       "      <td>03</td>\n",
       "      <td>1</td>\n",
       "    </tr>\n",
       "    <tr>\n",
       "      <th>31</th>\n",
       "      <td>2019-11-25</td>\n",
       "      <td>Paytm</td>\n",
       "      <td>FinTech</td>\n",
       "      <td>Mobile Wallet</td>\n",
       "      <td>Noida</td>\n",
       "      <td>Vijay Shekhar Sharma</td>\n",
       "      <td>Funding</td>\n",
       "      <td>1.000000e+09</td>\n",
       "      <td>2019</td>\n",
       "      <td>11</td>\n",
       "      <td>4</td>\n",
       "    </tr>\n",
       "    <tr>\n",
       "      <th>2452</th>\n",
       "      <td>2015-07-28</td>\n",
       "      <td>Flipkart</td>\n",
       "      <td>Online Marketplace</td>\n",
       "      <td>Not Specified</td>\n",
       "      <td>Bangalore</td>\n",
       "      <td>Steadview Capital and existing investors</td>\n",
       "      <td>Private</td>\n",
       "      <td>7.000000e+08</td>\n",
       "      <td>2015</td>\n",
       "      <td>07</td>\n",
       "      <td>3</td>\n",
       "    </tr>\n",
       "    <tr>\n",
       "      <th>2326</th>\n",
       "      <td>2015-09-29</td>\n",
       "      <td>Paytm</td>\n",
       "      <td>E-Commerce &amp; M-Commerce platform</td>\n",
       "      <td>Not Specified</td>\n",
       "      <td>New Delhi</td>\n",
       "      <td>Alibaba Group, Ant Financial</td>\n",
       "      <td>Private</td>\n",
       "      <td>6.800000e+08</td>\n",
       "      <td>2015</td>\n",
       "      <td>09</td>\n",
       "      <td>3</td>\n",
       "    </tr>\n",
       "    <tr>\n",
       "      <th>188</th>\n",
       "      <td>2018-08-30</td>\n",
       "      <td>True North</td>\n",
       "      <td>Finance</td>\n",
       "      <td>Private Equity Firm</td>\n",
       "      <td>Mumbai</td>\n",
       "      <td>Unknown</td>\n",
       "      <td>Private</td>\n",
       "      <td>6.000000e+08</td>\n",
       "      <td>2018</td>\n",
       "      <td>08</td>\n",
       "      <td>3</td>\n",
       "    </tr>\n",
       "    <tr>\n",
       "      <th>33</th>\n",
       "      <td>2019-10-02</td>\n",
       "      <td>Udaan</td>\n",
       "      <td>B2B</td>\n",
       "      <td>Business development</td>\n",
       "      <td>Bengaluru</td>\n",
       "      <td>Altimeter Capital, DST Global</td>\n",
       "      <td>Series</td>\n",
       "      <td>5.850000e+08</td>\n",
       "      <td>2019</td>\n",
       "      <td>10</td>\n",
       "      <td>4</td>\n",
       "    </tr>\n",
       "    <tr>\n",
       "      <th>2333</th>\n",
       "      <td>2015-08-01</td>\n",
       "      <td>Snapdeal</td>\n",
       "      <td>Ecommerce Marketplace</td>\n",
       "      <td>Not Specified</td>\n",
       "      <td>New Delhi</td>\n",
       "      <td>Alibaba, Foxconn, Softbank</td>\n",
       "      <td>Private</td>\n",
       "      <td>5.000000e+08</td>\n",
       "      <td>2015</td>\n",
       "      <td>08</td>\n",
       "      <td>3</td>\n",
       "    </tr>\n",
       "    <tr>\n",
       "      <th>2189</th>\n",
       "      <td>2015-11-18</td>\n",
       "      <td>Ola</td>\n",
       "      <td>Car Aggregator &amp; Retail Mobile App</td>\n",
       "      <td>Not Specified</td>\n",
       "      <td>Bangalore</td>\n",
       "      <td>Baillie Gifford, Falcon Edge Capital, Tiger Gl...</td>\n",
       "      <td>Private</td>\n",
       "      <td>5.000000e+08</td>\n",
       "      <td>2015</td>\n",
       "      <td>11</td>\n",
       "      <td>4</td>\n",
       "    </tr>\n",
       "  </tbody>\n",
       "</table>\n",
       "</div>"
      ],
      "text/plain": [
       "           Date      Startup_Name                   Industry_Vertical  \\\n",
       "60   2019-08-27  Rapido Bike Taxi                      Transportation   \n",
       "649  2017-08-11          Flipkart                           eCommerce   \n",
       "827  2017-05-18             Paytm                           ECommerce   \n",
       "962  2017-03-21          Flipkart                           eCommerce   \n",
       "31   2019-11-25             Paytm                             FinTech   \n",
       "2452 2015-07-28          Flipkart                  Online Marketplace   \n",
       "2326 2015-09-29             Paytm    E-Commerce & M-Commerce platform   \n",
       "188  2018-08-30        True North                             Finance   \n",
       "33   2019-10-02             Udaan                                 B2B   \n",
       "2333 2015-08-01          Snapdeal               Ecommerce Marketplace   \n",
       "2189 2015-11-18               Ola  Car Aggregator & Retail Mobile App   \n",
       "\n",
       "                             SubVertical       City  \\\n",
       "60                             Bike Taxi  Bengaluru   \n",
       "649                   Online Marketplace  Bangalore   \n",
       "827   Mobile Wallet & ECommerce platform  Bangalore   \n",
       "962                ECommerce Marketplace  Bangalore   \n",
       "31                         Mobile Wallet      Noida   \n",
       "2452                       Not Specified  Bangalore   \n",
       "2326                       Not Specified  New Delhi   \n",
       "188                  Private Equity Firm     Mumbai   \n",
       "33                  Business development  Bengaluru   \n",
       "2333                       Not Specified  New Delhi   \n",
       "2189                       Not Specified  Bangalore   \n",
       "\n",
       "                                         Investors_Name InvestmentnType  \\\n",
       "60                                   Westbridge Capital          Series   \n",
       "649                                            Softbank         Private   \n",
       "827                                      SoftBank Group         Private   \n",
       "962                   Microsoft, eBay, Tencent Holdings         Private   \n",
       "31                                 Vijay Shekhar Sharma         Funding   \n",
       "2452           Steadview Capital and existing investors         Private   \n",
       "2326                       Alibaba Group, Ant Financial         Private   \n",
       "188                                             Unknown         Private   \n",
       "33                        Altimeter Capital, DST Global          Series   \n",
       "2333                         Alibaba, Foxconn, Softbank         Private   \n",
       "2189  Baillie Gifford, Falcon Edge Capital, Tiger Gl...         Private   \n",
       "\n",
       "      Amount_in_USD  year month  Quarter  \n",
       "60     3.900000e+09  2019    08        3  \n",
       "649    2.500000e+09  2017    08        3  \n",
       "827    1.400000e+09  2017    05        2  \n",
       "962    1.400000e+09  2017    03        1  \n",
       "31     1.000000e+09  2019    11        4  \n",
       "2452   7.000000e+08  2015    07        3  \n",
       "2326   6.800000e+08  2015    09        3  \n",
       "188    6.000000e+08  2018    08        3  \n",
       "33     5.850000e+08  2019    10        4  \n",
       "2333   5.000000e+08  2015    08        3  \n",
       "2189   5.000000e+08  2015    11        4  "
      ]
     },
     "execution_count": 96,
     "metadata": {},
     "output_type": "execute_result"
    }
   ],
   "source": [
    "top_11 = sorted_df[:11]\n",
    "top_11"
   ]
  },
  {
   "cell_type": "code",
   "execution_count": 95,
   "metadata": {
    "ExecuteTime": {
     "end_time": "2024-05-19T07:38:26.388900Z",
     "start_time": "2024-05-19T07:38:26.381537Z"
    }
   },
   "outputs": [
    {
     "data": {
      "text/plain": [
       "Startup_Name\n",
       "Flipkart            3\n",
       "Ola                 1\n",
       "Paytm               3\n",
       "Rapido Bike Taxi    1\n",
       "Snapdeal            1\n",
       "True North          1\n",
       "Udaan               1\n",
       "Name: Amount_in_USD, dtype: int64"
      ]
     },
     "execution_count": 95,
     "metadata": {},
     "output_type": "execute_result"
    }
   ],
   "source": [
    "top_11.groupby(\"Startup_Name\")[\"Amount_in_USD\"].count()"
   ]
  },
  {
   "cell_type": "code",
   "execution_count": 94,
   "metadata": {
    "ExecuteTime": {
     "end_time": "2024-05-19T07:38:22.846684Z",
     "start_time": "2024-05-19T07:38:22.841285Z"
    }
   },
   "outputs": [],
   "source": [
    "top_11[\"Startup_Name\"].replace({\"Flipkart.com\": \"Flipkart\"}, inplace =True)"
   ]
  },
  {
   "cell_type": "code",
   "execution_count": 97,
   "metadata": {
    "ExecuteTime": {
     "end_time": "2024-05-19T07:39:36.298091Z",
     "start_time": "2024-05-19T07:39:36.285998Z"
    }
   },
   "outputs": [
    {
     "data": {
      "text/html": [
       "<div>\n",
       "<style scoped>\n",
       "    .dataframe tbody tr th:only-of-type {\n",
       "        vertical-align: middle;\n",
       "    }\n",
       "\n",
       "    .dataframe tbody tr th {\n",
       "        vertical-align: top;\n",
       "    }\n",
       "\n",
       "    .dataframe thead th {\n",
       "        text-align: right;\n",
       "    }\n",
       "</style>\n",
       "<table border=\"1\" class=\"dataframe\">\n",
       "  <thead>\n",
       "    <tr style=\"text-align: right;\">\n",
       "      <th></th>\n",
       "      <th>Date</th>\n",
       "      <th>Startup_Name</th>\n",
       "      <th>Industry_Vertical</th>\n",
       "      <th>SubVertical</th>\n",
       "      <th>City</th>\n",
       "      <th>Investors_Name</th>\n",
       "      <th>InvestmentnType</th>\n",
       "      <th>Amount_in_USD</th>\n",
       "      <th>year</th>\n",
       "      <th>month</th>\n",
       "      <th>Quarter</th>\n",
       "    </tr>\n",
       "  </thead>\n",
       "  <tbody>\n",
       "    <tr>\n",
       "      <th>60</th>\n",
       "      <td>2019-08-27</td>\n",
       "      <td>Rapido Bike Taxi</td>\n",
       "      <td>Transportation</td>\n",
       "      <td>Bike Taxi</td>\n",
       "      <td>Bengaluru</td>\n",
       "      <td>Westbridge Capital</td>\n",
       "      <td>Series</td>\n",
       "      <td>3.900000e+09</td>\n",
       "      <td>2019</td>\n",
       "      <td>08</td>\n",
       "      <td>3</td>\n",
       "    </tr>\n",
       "    <tr>\n",
       "      <th>649</th>\n",
       "      <td>2017-08-11</td>\n",
       "      <td>Flipkart</td>\n",
       "      <td>eCommerce</td>\n",
       "      <td>Online Marketplace</td>\n",
       "      <td>Bangalore</td>\n",
       "      <td>Softbank</td>\n",
       "      <td>Private</td>\n",
       "      <td>2.500000e+09</td>\n",
       "      <td>2017</td>\n",
       "      <td>08</td>\n",
       "      <td>3</td>\n",
       "    </tr>\n",
       "    <tr>\n",
       "      <th>827</th>\n",
       "      <td>2017-05-18</td>\n",
       "      <td>Paytm</td>\n",
       "      <td>ECommerce</td>\n",
       "      <td>Mobile Wallet &amp; ECommerce platform</td>\n",
       "      <td>Bangalore</td>\n",
       "      <td>SoftBank Group</td>\n",
       "      <td>Private</td>\n",
       "      <td>1.400000e+09</td>\n",
       "      <td>2017</td>\n",
       "      <td>05</td>\n",
       "      <td>2</td>\n",
       "    </tr>\n",
       "    <tr>\n",
       "      <th>962</th>\n",
       "      <td>2017-03-21</td>\n",
       "      <td>Flipkart</td>\n",
       "      <td>eCommerce</td>\n",
       "      <td>ECommerce Marketplace</td>\n",
       "      <td>Bangalore</td>\n",
       "      <td>Microsoft, eBay, Tencent Holdings</td>\n",
       "      <td>Private</td>\n",
       "      <td>1.400000e+09</td>\n",
       "      <td>2017</td>\n",
       "      <td>03</td>\n",
       "      <td>1</td>\n",
       "    </tr>\n",
       "    <tr>\n",
       "      <th>31</th>\n",
       "      <td>2019-11-25</td>\n",
       "      <td>Paytm</td>\n",
       "      <td>FinTech</td>\n",
       "      <td>Mobile Wallet</td>\n",
       "      <td>Noida</td>\n",
       "      <td>Vijay Shekhar Sharma</td>\n",
       "      <td>Funding</td>\n",
       "      <td>1.000000e+09</td>\n",
       "      <td>2019</td>\n",
       "      <td>11</td>\n",
       "      <td>4</td>\n",
       "    </tr>\n",
       "    <tr>\n",
       "      <th>2452</th>\n",
       "      <td>2015-07-28</td>\n",
       "      <td>Flipkart</td>\n",
       "      <td>Online Marketplace</td>\n",
       "      <td>Not Specified</td>\n",
       "      <td>Bangalore</td>\n",
       "      <td>Steadview Capital and existing investors</td>\n",
       "      <td>Private</td>\n",
       "      <td>7.000000e+08</td>\n",
       "      <td>2015</td>\n",
       "      <td>07</td>\n",
       "      <td>3</td>\n",
       "    </tr>\n",
       "    <tr>\n",
       "      <th>2326</th>\n",
       "      <td>2015-09-29</td>\n",
       "      <td>Paytm</td>\n",
       "      <td>E-Commerce &amp; M-Commerce platform</td>\n",
       "      <td>Not Specified</td>\n",
       "      <td>New Delhi</td>\n",
       "      <td>Alibaba Group, Ant Financial</td>\n",
       "      <td>Private</td>\n",
       "      <td>6.800000e+08</td>\n",
       "      <td>2015</td>\n",
       "      <td>09</td>\n",
       "      <td>3</td>\n",
       "    </tr>\n",
       "    <tr>\n",
       "      <th>188</th>\n",
       "      <td>2018-08-30</td>\n",
       "      <td>True North</td>\n",
       "      <td>Finance</td>\n",
       "      <td>Private Equity Firm</td>\n",
       "      <td>Mumbai</td>\n",
       "      <td>Unknown</td>\n",
       "      <td>Private</td>\n",
       "      <td>6.000000e+08</td>\n",
       "      <td>2018</td>\n",
       "      <td>08</td>\n",
       "      <td>3</td>\n",
       "    </tr>\n",
       "    <tr>\n",
       "      <th>33</th>\n",
       "      <td>2019-10-02</td>\n",
       "      <td>Udaan</td>\n",
       "      <td>B2B</td>\n",
       "      <td>Business development</td>\n",
       "      <td>Bengaluru</td>\n",
       "      <td>Altimeter Capital, DST Global</td>\n",
       "      <td>Series</td>\n",
       "      <td>5.850000e+08</td>\n",
       "      <td>2019</td>\n",
       "      <td>10</td>\n",
       "      <td>4</td>\n",
       "    </tr>\n",
       "  </tbody>\n",
       "</table>\n",
       "</div>"
      ],
      "text/plain": [
       "           Date      Startup_Name                 Industry_Vertical  \\\n",
       "60   2019-08-27  Rapido Bike Taxi                    Transportation   \n",
       "649  2017-08-11          Flipkart                         eCommerce   \n",
       "827  2017-05-18             Paytm                         ECommerce   \n",
       "962  2017-03-21          Flipkart                         eCommerce   \n",
       "31   2019-11-25             Paytm                           FinTech   \n",
       "2452 2015-07-28          Flipkart                Online Marketplace   \n",
       "2326 2015-09-29             Paytm  E-Commerce & M-Commerce platform   \n",
       "188  2018-08-30        True North                           Finance   \n",
       "33   2019-10-02             Udaan                               B2B   \n",
       "\n",
       "                             SubVertical       City  \\\n",
       "60                             Bike Taxi  Bengaluru   \n",
       "649                   Online Marketplace  Bangalore   \n",
       "827   Mobile Wallet & ECommerce platform  Bangalore   \n",
       "962                ECommerce Marketplace  Bangalore   \n",
       "31                         Mobile Wallet      Noida   \n",
       "2452                       Not Specified  Bangalore   \n",
       "2326                       Not Specified  New Delhi   \n",
       "188                  Private Equity Firm     Mumbai   \n",
       "33                  Business development  Bengaluru   \n",
       "\n",
       "                                Investors_Name InvestmentnType  Amount_in_USD  \\\n",
       "60                          Westbridge Capital          Series   3.900000e+09   \n",
       "649                                   Softbank         Private   2.500000e+09   \n",
       "827                             SoftBank Group         Private   1.400000e+09   \n",
       "962          Microsoft, eBay, Tencent Holdings         Private   1.400000e+09   \n",
       "31                        Vijay Shekhar Sharma         Funding   1.000000e+09   \n",
       "2452  Steadview Capital and existing investors         Private   7.000000e+08   \n",
       "2326              Alibaba Group, Ant Financial         Private   6.800000e+08   \n",
       "188                                    Unknown         Private   6.000000e+08   \n",
       "33               Altimeter Capital, DST Global          Series   5.850000e+08   \n",
       "\n",
       "      year month  Quarter  \n",
       "60    2019    08        3  \n",
       "649   2017    08        3  \n",
       "827   2017    05        2  \n",
       "962   2017    03        1  \n",
       "31    2019    11        4  \n",
       "2452  2015    07        3  \n",
       "2326  2015    09        3  \n",
       "188   2018    08        3  \n",
       "33    2019    10        4  "
      ]
     },
     "execution_count": 97,
     "metadata": {},
     "output_type": "execute_result"
    }
   ],
   "source": [
    "top_5 = sorted_df[:9]\n",
    "top_5"
   ]
  },
  {
   "cell_type": "code",
   "execution_count": 98,
   "metadata": {
    "ExecuteTime": {
     "end_time": "2024-05-19T07:39:44.329866Z",
     "start_time": "2024-05-19T07:39:44.197687Z"
    }
   },
   "outputs": [
    {
     "data": {
      "image/png": "[encoded data removed]",
      "text/plain": [
       "<Figure size 1200x600 with 1 Axes>"
      ]
     },
     "metadata": {},
     "output_type": "display_data"
    }
   ],
   "source": [
    "plt.figure(figsize=(12,6))\n",
    "\n",
    "\n",
    "plt.bar(top_5['Startup_Name'], top_5['Amount_in_USD'], color='skyblue')\n",
    "\n",
    "plt.xlabel('Startup Name')\n",
    "plt.ylabel('Amount in USD')\n",
    "plt.title('Top 5 Highest Funding Startups')\n",
    "\n",
    "plt.xticks(rotation=45, ha='right')\n",
    "plt.tight_layout()\n",
    "plt.show()"
   ]
  },
  {
   "cell_type": "code",
   "execution_count": 51,
   "metadata": {
    "ExecuteTime": {
     "end_time": "2024-05-15T07:30:41.278954Z",
     "start_time": "2024-05-15T07:30:41.275182Z"
    }
   },
   "outputs": [
    {
     "data": {
      "text/plain": [
       "16414271.35"
      ]
     },
     "execution_count": 51,
     "metadata": {},
     "output_type": "execute_result"
    }
   ],
   "source": [
    "round(df[\"Amount_in_USD\"].mean(),2)"
   ]
  },
  {
   "cell_type": "markdown",
   "metadata": {},
   "source": [
    "# Which Kind of Industries are more preferred for Startups?"
   ]
  },
  {
   "cell_type": "code",
   "execution_count": 81,
   "metadata": {
    "ExecuteTime": {
     "end_time": "2024-05-18T10:57:14.256340Z",
     "start_time": "2024-05-18T10:57:14.248265Z"
    }
   },
   "outputs": [
    {
     "data": {
      "text/plain": [
       "Industry_Vertical\n",
       "Consumer Internet    935\n",
       "Technology           477\n",
       "eCommerce            186\n",
       "Healthcare            70\n",
       "Finance               62\n",
       "ECommerce             61\n",
       "Logistics             32\n",
       "E-Commerce            29\n",
       "Education             24\n",
       "Food & Beverage       22\n",
       "Name: count, dtype: int64"
      ]
     },
     "execution_count": 81,
     "metadata": {},
     "output_type": "execute_result"
    }
   ],
   "source": [
    "kind_ind = df[\"Industry_Vertical\"].value_counts()[:10]\n",
    "kind_ind"
   ]
  },
  {
   "cell_type": "code",
   "execution_count": 82,
   "metadata": {
    "ExecuteTime": {
     "end_time": "2024-05-18T10:57:18.076752Z",
     "start_time": "2024-05-18T10:57:18.070234Z"
    }
   },
   "outputs": [],
   "source": [
    "df[\"Industry_Vertical\"].replace({\"eCommerce\": \"e-Commerce\",\"ECommerce\" :\"e-Commerce\", \n",
    "                                      \"E-Commerce\": \"e-Commerce\",\"E-commerce\":\"e-Commerce\"},inplace=True)"
   ]
  },
  {
   "cell_type": "code",
   "execution_count": 83,
   "metadata": {
    "ExecuteTime": {
     "end_time": "2024-05-18T10:57:28.885342Z",
     "start_time": "2024-05-18T10:57:28.877543Z"
    }
   },
   "outputs": [
    {
     "data": {
      "text/plain": [
       "Industry_Vertical\n",
       "Consumer Internet    935\n",
       "Technology           477\n",
       "e-Commerce           287\n",
       "Healthcare            70\n",
       "Finance               62\n",
       "Logistics             32\n",
       "Education             24\n",
       "Food & Beverage       22\n",
       "Ed-Tech               13\n",
       "FinTech                9\n",
       "Name: count, dtype: int64"
      ]
     },
     "execution_count": 83,
     "metadata": {},
     "output_type": "execute_result"
    }
   ],
   "source": [
    "kind_ind = df[\"Industry_Vertical\"].value_counts()[:10]\n",
    "kind_ind"
   ]
  },
  {
   "cell_type": "code",
   "execution_count": 84,
   "metadata": {
    "ExecuteTime": {
     "end_time": "2024-05-18T10:57:33.381439Z",
     "start_time": "2024-05-18T10:57:33.375438Z"
    }
   },
   "outputs": [
    {
     "data": {
      "text/plain": [
       "1931"
      ]
     },
     "execution_count": 84,
     "metadata": {},
     "output_type": "execute_result"
    }
   ],
   "source": [
    "top_10_total= kind_ind.sum()\n",
    "top_10_total"
   ]
  },
  {
   "cell_type": "code",
   "execution_count": 85,
   "metadata": {
    "ExecuteTime": {
     "end_time": "2024-05-18T10:57:46.335939Z",
     "start_time": "2024-05-18T10:57:46.328041Z"
    }
   },
   "outputs": [
    {
     "data": {
      "text/plain": [
       "1769"
      ]
     },
     "execution_count": 85,
     "metadata": {},
     "output_type": "execute_result"
    }
   ],
   "source": [
    "top_3_total= (kind_ind[:4].sum())\n",
    "top_3_total"
   ]
  },
  {
   "cell_type": "code",
   "execution_count": 87,
   "metadata": {
    "ExecuteTime": {
     "end_time": "2024-05-18T10:57:50.870657Z",
     "start_time": "2024-05-18T10:57:50.864339Z"
    }
   },
   "outputs": [
    {
     "data": {
      "text/plain": [
       "92.0"
      ]
     },
     "execution_count": 87,
     "metadata": {},
     "output_type": "execute_result"
    }
   ],
   "source": [
    "top_3_top_10_rate = ((top_3_total / top_10_total) *100).round(0)\n",
    "top_3_top_10_rate"
   ]
  },
  {
   "cell_type": "code",
   "execution_count": 88,
   "metadata": {
    "ExecuteTime": {
     "end_time": "2024-05-18T10:57:52.672571Z",
     "start_time": "2024-05-18T10:57:52.300450Z"
    }
   },
   "outputs": [
    {
     "data": {
      "image/png": "[encoded data removed]",
      "text/plain": [
       "<Figure size 1000x600 with 1 Axes>"
      ]
     },
     "metadata": {},
     "output_type": "display_data"
    }
   ],
   "source": [
    "plt.figure(figsize=(10,6))\n",
    "\n",
    "ax = sns.barplot(x=kind_ind.index, y=kind_ind.values, palette='flare')\n",
    "\n",
    "for container in ax.containers:\n",
    "    ax.bar_label(container)\n",
    "\n",
    "plt.xlabel('Industry')\n",
    "plt.ylabel('Frequency')\n",
    "plt.title('Top 10 Kind of Industries')\n",
    "\n",
    "plt.xticks(rotation=45)\n",
    "plt.tight_layout();"
   ]
  },
  {
   "cell_type": "markdown",
   "metadata": {},
   "source": [
    "# Does Location also play a role, In determining the Growth of a Startup?"
   ]
  },
  {
   "cell_type": "code",
   "execution_count": 94,
   "metadata": {
    "ExecuteTime": {
     "end_time": "2024-05-18T11:03:22.053291Z",
     "start_time": "2024-05-18T11:03:22.044785Z"
    }
   },
   "outputs": [
    {
     "data": {
      "text/plain": [
       "City\n",
       "Bengaluru    778\n",
       "Mumbai       516\n",
       "New Delhi    397\n",
       "Gurgaon      313\n",
       "Pune         100\n",
       "Hyderabad     93\n",
       "Chennai       88\n",
       "Noida         83\n",
       "Ahmedabad     36\n",
       "Jaipur        29\n",
       "dtype: int64"
      ]
     },
     "execution_count": 94,
     "metadata": {},
     "output_type": "execute_result"
    }
   ],
   "source": [
    "top_cities = df.groupby(\"City\").size().sort_values(ascending=False)[:10]\n",
    "top_cities"
   ]
  },
  {
   "cell_type": "code",
   "execution_count": 95,
   "metadata": {
    "ExecuteTime": {
     "end_time": "2024-05-18T11:03:27.952614Z",
     "start_time": "2024-05-18T11:03:27.946775Z"
    }
   },
   "outputs": [],
   "source": [
    "df[\"City\"].replace({\"Bangalore\": \"Bengaluru\",\"Gurugram\" :\"Gurgaon\", \n",
    "                                      \"Delhi\": \"New Delhi\",\"Kolkatta\":\"Kolkata\"},inplace=True)"
   ]
  },
  {
   "cell_type": "code",
   "execution_count": 96,
   "metadata": {
    "ExecuteTime": {
     "end_time": "2024-05-18T11:03:32.151076Z",
     "start_time": "2024-05-18T11:03:32.142074Z"
    }
   },
   "outputs": [
    {
     "data": {
      "text/plain": [
       "City\n",
       "Bengaluru    778\n",
       "Mumbai       516\n",
       "New Delhi    397\n",
       "Gurgaon      313\n",
       "Pune         100\n",
       "Hyderabad     93\n",
       "Chennai       88\n",
       "Noida         83\n",
       "Ahmedabad     36\n",
       "Jaipur        29\n",
       "dtype: int64"
      ]
     },
     "execution_count": 96,
     "metadata": {},
     "output_type": "execute_result"
    }
   ],
   "source": [
    "top_cities = df.groupby(\"City\").size().sort_values(ascending=False)[:10]\n",
    "top_cities"
   ]
  },
  {
   "cell_type": "code",
   "execution_count": 101,
   "metadata": {
    "ExecuteTime": {
     "end_time": "2024-05-18T11:07:46.461941Z",
     "start_time": "2024-05-18T11:07:46.111987Z"
    }
   },
   "outputs": [
    {
     "data": {
      "image/png": "[encoded data removed]",
      "text/plain": [
       "<Figure size 900x600 with 1 Axes>"
      ]
     },
     "metadata": {},
     "output_type": "display_data"
    }
   ],
   "source": [
    "plt.figure(figsize=(9, 6))\n",
    "\n",
    "ax = top_cities.plot(kind='bar', color='skyblue')\n",
    "\n",
    "plt.title(f'Top {10} City - Count of Total Investment')\n",
    "plt.xlabel('City')\n",
    "plt.ylabel('Count of Total Investment')\n",
    "plt.xticks(rotation=65)\n",
    "\n",
    "for container in ax.containers:\n",
    "    ax.bar_label(container)\n",
    "    \n",
    "plt.tight_layout();\n",
    "\n",
    "plt.show()"
   ]
  },
  {
   "cell_type": "markdown",
   "metadata": {},
   "source": [
    "# Who plays the main role in Indian Startups Ecosystem?"
   ]
  },
  {
   "cell_type": "code",
   "execution_count": 103,
   "metadata": {
    "ExecuteTime": {
     "end_time": "2024-05-18T11:19:48.377016Z",
     "start_time": "2024-05-18T11:19:48.357672Z"
    }
   },
   "outputs": [
    {
     "data": {
      "text/plain": [
       "Investors_Name\n",
       "Undisclosed Investors    35\n",
       "Undisclosed investors    27\n",
       "Indian Angel Network     20\n",
       "Ratan Tata               16\n",
       "Unknown                  15\n",
       "Sequoia Capital          13\n",
       "Undisclosed Investor     12\n",
       "Kalaari Capital          12\n",
       "undisclosed investors    11\n",
       "Venture Catalysts        11\n",
       "dtype: int64"
      ]
     },
     "execution_count": 103,
     "metadata": {},
     "output_type": "execute_result"
    }
   ],
   "source": [
    "top_who = df.groupby(\"Investors_Name\").size().sort_values(ascending=False)[:10]\n",
    "top_who"
   ]
  },
  {
   "cell_type": "code",
   "execution_count": 108,
   "metadata": {
    "ExecuteTime": {
     "end_time": "2024-05-18T11:22:19.786139Z",
     "start_time": "2024-05-18T11:22:19.780545Z"
    }
   },
   "outputs": [],
   "source": [
    "df[\"Investors_Name\"].replace({\"undisclosed investors\": \"Undisclosed Investors\",\"Undisclosed investors\":\"Undisclosed Investors\",\n",
    "                               \"Unknown\": \"Undisclosed Investors\",\"Undisclosed\": \"Undisclosed Investors\",\"Undisclosed investor\": \"Undisclosed Investors\"}, inplace =True)"
   ]
  },
  {
   "cell_type": "code",
   "execution_count": 110,
   "metadata": {
    "ExecuteTime": {
     "end_time": "2024-05-18T11:22:31.242101Z",
     "start_time": "2024-05-18T11:22:31.230084Z"
    }
   },
   "outputs": [
    {
     "data": {
      "text/plain": [
       "Investors_Name\n",
       "Undisclosed Investors    118\n",
       "Indian Angel Network      20\n",
       "Ratan Tata                16\n",
       "Sequoia Capital           13\n",
       "Kalaari Capital           12\n",
       "Venture Catalysts         11\n",
       "Brand Capital             11\n",
       "Accel Partners            10\n",
       "RoundGlass Partners        9\n",
       "Info Edge (India) Ltd      9\n",
       "dtype: int64"
      ]
     },
     "execution_count": 110,
     "metadata": {},
     "output_type": "execute_result"
    }
   ],
   "source": [
    "top_who = df.groupby(\"Investors_Name\").size().sort_values(ascending=False)[:10]\n",
    "top_who"
   ]
  },
  {
   "cell_type": "code",
   "execution_count": 111,
   "metadata": {
    "ExecuteTime": {
     "end_time": "2024-05-18T11:26:07.305644Z",
     "start_time": "2024-05-18T11:26:06.935131Z"
    }
   },
   "outputs": [
    {
     "data": {
      "image/png": "[encoded data removed]",
      "text/plain": [
       "<Figure size 800x400 with 1 Axes>"
      ]
     },
     "metadata": {},
     "output_type": "display_data"
    }
   ],
   "source": [
    "plt.figure(figsize=(8, 4))\n",
    "\n",
    "ax = top_who.plot(kind='bar', color='blue')\n",
    "\n",
    "for container in ax.containers:\n",
    "    ax.bar_label(container)\n",
    "\n",
    "plt.title(f'Top {10} Investors Name - Count of Total Investment')\n",
    "plt.xlabel('Investors Name')\n",
    "plt.ylabel('Count of Total Investment')\n",
    "plt.xticks(rotation=80);"
   ]
  },
  {
   "cell_type": "code",
   "execution_count": 112,
   "metadata": {
    "ExecuteTime": {
     "end_time": "2024-05-18T11:26:15.645307Z",
     "start_time": "2024-05-18T11:26:15.626303Z"
    }
   },
   "outputs": [
    {
     "data": {
      "text/html": [
       "<div>\n",
       "<style scoped>\n",
       "    .dataframe tbody tr th:only-of-type {\n",
       "        vertical-align: middle;\n",
       "    }\n",
       "\n",
       "    .dataframe tbody tr th {\n",
       "        vertical-align: top;\n",
       "    }\n",
       "\n",
       "    .dataframe thead th {\n",
       "        text-align: right;\n",
       "    }\n",
       "</style>\n",
       "<table border=\"1\" class=\"dataframe\">\n",
       "  <thead>\n",
       "    <tr style=\"text-align: right;\">\n",
       "      <th></th>\n",
       "      <th>Date</th>\n",
       "      <th>Startup_Name</th>\n",
       "      <th>Industry_Vertical</th>\n",
       "      <th>SubVertical</th>\n",
       "      <th>City</th>\n",
       "      <th>Investors_Name</th>\n",
       "      <th>InvestmentnType</th>\n",
       "      <th>Amount_in_USD</th>\n",
       "      <th>year</th>\n",
       "      <th>month</th>\n",
       "      <th>Quarter</th>\n",
       "    </tr>\n",
       "  </thead>\n",
       "  <tbody>\n",
       "    <tr>\n",
       "      <th>0</th>\n",
       "      <td>2020-01-09</td>\n",
       "      <td>BYJU’S</td>\n",
       "      <td>E-Tech</td>\n",
       "      <td>E-learning</td>\n",
       "      <td>Bengaluru</td>\n",
       "      <td>Tiger Global Management</td>\n",
       "      <td>Private</td>\n",
       "      <td>200000000.0</td>\n",
       "      <td>2020</td>\n",
       "      <td>01</td>\n",
       "      <td>1</td>\n",
       "    </tr>\n",
       "    <tr>\n",
       "      <th>1</th>\n",
       "      <td>2020-01-13</td>\n",
       "      <td>Shuttl</td>\n",
       "      <td>Transportation</td>\n",
       "      <td>App based shuttle service</td>\n",
       "      <td>Gurgaon</td>\n",
       "      <td>Susquehanna Growth Equity</td>\n",
       "      <td>Series</td>\n",
       "      <td>8048394.0</td>\n",
       "      <td>2020</td>\n",
       "      <td>01</td>\n",
       "      <td>1</td>\n",
       "    </tr>\n",
       "    <tr>\n",
       "      <th>2</th>\n",
       "      <td>2020-01-09</td>\n",
       "      <td>Mamaearth</td>\n",
       "      <td>e-Commerce</td>\n",
       "      <td>Retailer of baby and toddler products</td>\n",
       "      <td>Bengaluru</td>\n",
       "      <td>Sequoia Capital India</td>\n",
       "      <td>Series</td>\n",
       "      <td>18358860.0</td>\n",
       "      <td>2020</td>\n",
       "      <td>01</td>\n",
       "      <td>1</td>\n",
       "    </tr>\n",
       "    <tr>\n",
       "      <th>3</th>\n",
       "      <td>2020-01-02</td>\n",
       "      <td>https://www.wealthbucket.in/</td>\n",
       "      <td>FinTech</td>\n",
       "      <td>Online Investment</td>\n",
       "      <td>New Delhi</td>\n",
       "      <td>Vinod Khatumal</td>\n",
       "      <td>Pre-Series</td>\n",
       "      <td>3000000.0</td>\n",
       "      <td>2020</td>\n",
       "      <td>01</td>\n",
       "      <td>1</td>\n",
       "    </tr>\n",
       "    <tr>\n",
       "      <th>4</th>\n",
       "      <td>2020-01-02</td>\n",
       "      <td>Fashor</td>\n",
       "      <td>Fashion and Apparel</td>\n",
       "      <td>Embroiled Clothes For Women</td>\n",
       "      <td>Mumbai</td>\n",
       "      <td>Sprout Venture Partners</td>\n",
       "      <td>Seed</td>\n",
       "      <td>1800000.0</td>\n",
       "      <td>2020</td>\n",
       "      <td>01</td>\n",
       "      <td>1</td>\n",
       "    </tr>\n",
       "  </tbody>\n",
       "</table>\n",
       "</div>"
      ],
      "text/plain": [
       "        Date                  Startup_Name    Industry_Vertical  \\\n",
       "0 2020-01-09                        BYJU’S               E-Tech   \n",
       "1 2020-01-13                        Shuttl       Transportation   \n",
       "2 2020-01-09                     Mamaearth           e-Commerce   \n",
       "3 2020-01-02  https://www.wealthbucket.in/              FinTech   \n",
       "4 2020-01-02                        Fashor  Fashion and Apparel   \n",
       "\n",
       "                             SubVertical       City  \\\n",
       "0                             E-learning  Bengaluru   \n",
       "1              App based shuttle service    Gurgaon   \n",
       "2  Retailer of baby and toddler products  Bengaluru   \n",
       "3                      Online Investment  New Delhi   \n",
       "4            Embroiled Clothes For Women     Mumbai   \n",
       "\n",
       "              Investors_Name InvestmentnType  Amount_in_USD  year month  \\\n",
       "0    Tiger Global Management         Private    200000000.0  2020    01   \n",
       "1  Susquehanna Growth Equity          Series      8048394.0  2020    01   \n",
       "2      Sequoia Capital India          Series     18358860.0  2020    01   \n",
       "3             Vinod Khatumal      Pre-Series      3000000.0  2020    01   \n",
       "4    Sprout Venture Partners            Seed      1800000.0  2020    01   \n",
       "\n",
       "   Quarter  \n",
       "0        1  \n",
       "1        1  \n",
       "2        1  \n",
       "3        1  \n",
       "4        1  "
      ]
     },
     "execution_count": 112,
     "metadata": {},
     "output_type": "execute_result"
    }
   ],
   "source": [
    "df.head()"
   ]
  },
  {
   "cell_type": "markdown",
   "metadata": {},
   "source": [
    "# What are the different Types of Funding for Startups?"
   ]
  },
  {
   "cell_type": "code",
   "execution_count": 116,
   "metadata": {
    "ExecuteTime": {
     "end_time": "2024-05-18T11:28:25.910227Z",
     "start_time": "2024-05-18T11:28:25.901576Z"
    }
   },
   "outputs": [
    {
     "data": {
      "text/plain": [
       "InvestmentnType\n",
       "Seed       1263\n",
       "Private    1210\n",
       "Series       78\n",
       "dtype: int64"
      ]
     },
     "execution_count": 116,
     "metadata": {},
     "output_type": "execute_result"
    }
   ],
   "source": [
    "fund_type = df.groupby(\"InvestmentnType\").size().sort_values(ascending=False)[:3]\n",
    "fund_type"
   ]
  },
  {
   "cell_type": "code",
   "execution_count": 169,
   "metadata": {
    "ExecuteTime": {
     "end_time": "2024-05-15T10:55:50.317622Z",
     "start_time": "2024-05-15T10:55:50.314102Z"
    }
   },
   "outputs": [],
   "source": [
    "a = fund_type.index"
   ]
  },
  {
   "cell_type": "code",
   "execution_count": 170,
   "metadata": {
    "ExecuteTime": {
     "end_time": "2024-05-15T10:55:52.610405Z",
     "start_time": "2024-05-15T10:55:52.607705Z"
    }
   },
   "outputs": [],
   "source": [
    "b = fund_type.values"
   ]
  },
  {
   "cell_type": "code",
   "execution_count": 167,
   "metadata": {
    "ExecuteTime": {
     "end_time": "2024-05-15T10:55:20.359792Z",
     "start_time": "2024-05-15T10:55:20.293418Z"
    }
   },
   "outputs": [
    {
     "data": {
      "image/png": "[encoded data removed]",
      "text/plain": [
       "<Figure size 600x600 with 1 Axes>"
      ]
     },
     "metadata": {},
     "output_type": "display_data"
    }
   ],
   "source": [
    "plt.figure(figsize=(6, 6))\n",
    "\n",
    "myexplode = [0.1, 0, 0]\n",
    "\n",
    "plt.pie(b, labels=a, autopct='%1.1f%%', labeldistance=0.75, startangle=90, \n",
    "        shadow=True, explode=myexplode);"
   ]
  },
  {
   "cell_type": "markdown",
   "metadata": {},
   "source": [
    "# Conclusions"
   ]
  },
  {
   "cell_type": "markdown",
   "metadata": {
    "ExecuteTime": {
     "end_time": "2024-05-18T10:35:53.281433Z",
     "start_time": "2024-05-18T10:35:53.275585Z"
    }
   },
   "source": [
    "**1.** <span style=\"color:blue\">Yaklaşık 5 yıllık süreçte toplam 2.113 yatırımcı 2.157 yatırıma 590 sektörde Hindistanın 106 şehrinde 16 farklı yatırım yöntemi kullanarak toplam 43 milyar Usd yatırım yapmıştır.</span>\n",
    "\n",
    "**2.** <span style=\"color:blue\">Beş yıllık süreçte yıllık ortalama yatırım adedi 435 olup en fazla yatırım adedi 989 adet ile 2016 da en az yatırım adedi 110 adet ile 2019 yılındadır.</span>\n",
    "\n",
    "**3.** <span style=\"color:blue\">Beş yıllık süreçte aylık ortalama yatırım adedi 218 olup en fazla yatırım adedi toplam 266 adet ile Haziran aylarında en az yatırım adedi toplam 186 adet ile Aralık aylarında gerçekleşmiştir.</span>\n",
    "\n",
    "**4.** <span style=\"color:blue\">Beş yıllık süreçte çeyrek dönemlere ait ortalama yatırım adedi 653 olup en fazla yatırım adedi toplam 733 adet ile 1. çeyreklerde en az yatırım adedi toplam 603 adet ile 4. çeyreklerde gerçekleşmiştir.</span>\n",
    "\n",
    "**5.** <span style=\"color:blue\">Beş yıllık süreçte ortalama yatırım tutarı 16.5 milyon Usd olup en fazla yatırım tutarı 3.9 milyar Usd ile Westbridge Capital tarafından Ulaşım sektöründe Bengaluru şehrindeki Rapido Bike Taxi şirketine en az yatırım tutarı 18 bin Usd ile Chandigarh Angels Network(CAN tarafından) Tüketici İnterneti sektöründe Mumbai şehrindeki YOLO Health şirketine yapılmıştır.</span>\n",
    "\n",
    "**6.** <span style=\"color:blue\">Top 10 Start up firmaları sırasıyla en fazla 935 adet ile Tüketici interneti, 477 adet ile Teknoloji ve 287 adet ile e-ticaret alanlarında girişimde bulunmuşlardır. Bu girişimler ilk 10 daki girişimler sayılarının 92% sini kapsamaktadır.</span>\n",
    "    \n",
    "**7.** <span style=\"color:blue\">Adet olarak en fazla yatırım yapılan şehirler sırasıyla 778 adet ile Bengaluru, 516 adet ile Mumbai ve 397 adet ile New Delhi şehirlerindedir.</span>\n",
    "    \n",
    "**8.** <span style=\"color:blue\">Yatırımıcıların büyük bir kısmı ismini beyan etmemiştir. Diğer yatırımcılar arasında adet olarak en fazla yatırım yapan Indian Angel Network firmasıdır. Bununla birlikte diğer yatırımcılar arasında belirgin bir fark görülmemektedir. </span>\n",
    "    \n",
    "**9.** <span style=\"color:blue\">Yatırımcıların kulllandığı toplam yatırım türü 16 adet olmakla birlikte yatırımcıların en çok tercih ettiği iki tür sırasıyla Seed ve Private tır.</span>"
   ]
  },
  {
   "cell_type": "markdown",
   "metadata": {},
   "source": [
    "<div class=\"alert alert-block alert-info\">\n",
    "<span style=\" color:red\">Thanks for Attending!..\n",
    "    \n",
    "\n",
    "</span>"
   ]
  },
  {
   "cell_type": "markdown",
   "metadata": {},
   "source": [
    "# <p style=\"background-color:green;font-family:newtimeroman;font-size:200%;color:white;text-align:center;border-radius:20px 20px;\"><b>Startups Project</b></p>\n",
    "![](https://www.techproeducation.com/logo/headerlogo.svg)\n",
    "\n",
    "<b>Yeniliklerden ilk siz haberdar olmak istiyorsanız lütfen bizi takip etmeyi unutmayın </b>[YouTube](https://www.youtube.com/c/techproeducation) | [Instagram](https://www.instagram.com/techproeducation) | [Facebook](https://www.facebook.com/techproeducation) | [Telegram](https://t.me/joinchat/HH2qRvA-ulh4OWbb) | [Whatsapp](https://api.whatsapp.com/send/?phone=%2B15853042959&text&type=phone_number&app_absent=0) | [LinkedIn](https://www.linkedin.com/company/techproeducation/mycompany/) |"
   ]
  },
  {
   "cell_type": "code",
   "execution_count": null,
   "metadata": {},
   "outputs": [],
   "source": []
  }
 ],
 "metadata": {
  "hide_input": false,
  "kernelspec": {
   "display_name": "Python 3 (ipykernel)",
   "language": "python",
   "name": "python3"
  },
  "language_info": {
   "codemirror_mode": {
    "name": "ipython",
    "version": 3
   },
   "file_extension": ".py",
   "mimetype": "text/x-python",
   "name": "python",
   "nbconvert_exporter": "python",
   "pygments_lexer": "ipython3",
   "version": "3.11.7"
  },
  "nbTranslate": {
   "displayLangs": [
    "*"
   ],
   "hotkey": "alt-t",
   "langInMainMenu": true,
   "sourceLang": "en",
   "targetLang": "tr",
   "useGoogleTranslate": true
  },
  "toc": {
   "base_numbering": 1,
   "nav_menu": {},
   "number_sections": true,
   "sideBar": true,
   "skip_h1_title": false,
   "title_cell": "Table of Contents",
   "title_sidebar": "Contents",
   "toc_cell": false,
   "toc_position": {},
   "toc_section_display": true,
   "toc_window_display": false
  }
 },
 "nbformat": 4,
 "nbformat_minor": 4
}
